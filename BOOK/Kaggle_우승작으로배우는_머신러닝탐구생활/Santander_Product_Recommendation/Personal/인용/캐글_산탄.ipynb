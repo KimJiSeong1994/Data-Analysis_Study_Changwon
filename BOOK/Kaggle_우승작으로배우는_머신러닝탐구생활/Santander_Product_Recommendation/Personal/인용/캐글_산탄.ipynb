{
  "nbformat": 4,
  "nbformat_minor": 0,
  "metadata": {
    "colab": {
      "name": "캐글 산탄.ipynb",
      "provenance": []
    },
    "kernelspec": {
      "name": "python3",
      "display_name": "Python 3"
    },
    "accelerator": "GPU"
  },
  "cells": [
    {
      "cell_type": "markdown",
      "metadata": {
        "id": "hYkSSM0Plcrf",
        "colab_type": "text"
      },
      "source": [
        "# 캐글 \n"
      ]
    },
    {
      "cell_type": "code",
      "metadata": {
        "id": "va3xpP0_lBDG",
        "colab_type": "code",
        "outputId": "986c1ce4-6e74-42c5-f7e8-13703e04a692",
        "colab": {
          "base_uri": "https://localhost:8080/",
          "height": 215
        }
      },
      "source": [
        "pip install kaggle"
      ],
      "execution_count": 0,
      "outputs": [
        {
          "output_type": "stream",
          "text": [
            "Requirement already satisfied: kaggle in /usr/local/lib/python3.6/dist-packages (1.5.6)\n",
            "Requirement already satisfied: certifi in /usr/local/lib/python3.6/dist-packages (from kaggle) (2019.9.11)\n",
            "Requirement already satisfied: python-slugify in /usr/local/lib/python3.6/dist-packages (from kaggle) (4.0.0)\n",
            "Requirement already satisfied: urllib3<1.25,>=1.21.1 in /usr/local/lib/python3.6/dist-packages (from kaggle) (1.24.3)\n",
            "Requirement already satisfied: tqdm in /usr/local/lib/python3.6/dist-packages (from kaggle) (4.28.1)\n",
            "Requirement already satisfied: requests in /usr/local/lib/python3.6/dist-packages (from kaggle) (2.21.0)\n",
            "Requirement already satisfied: six>=1.10 in /usr/local/lib/python3.6/dist-packages (from kaggle) (1.12.0)\n",
            "Requirement already satisfied: python-dateutil in /usr/local/lib/python3.6/dist-packages (from kaggle) (2.6.1)\n",
            "Requirement already satisfied: text-unidecode>=1.3 in /usr/local/lib/python3.6/dist-packages (from python-slugify->kaggle) (1.3)\n",
            "Requirement already satisfied: idna<2.9,>=2.5 in /usr/local/lib/python3.6/dist-packages (from requests->kaggle) (2.8)\n",
            "Requirement already satisfied: chardet<3.1.0,>=3.0.2 in /usr/local/lib/python3.6/dist-packages (from requests->kaggle) (3.0.4)\n"
          ],
          "name": "stdout"
        }
      ]
    },
    {
      "cell_type": "code",
      "metadata": {
        "id": "cH09NfIvlYbt",
        "colab_type": "code",
        "outputId": "39fb2eb2-57ca-42cc-cfa0-785a22d17e11",
        "colab": {
          "resources": {
            "http://localhost:8080/nbextensions/google.colab/files.js": {
              "data": "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",
              "ok": true,
              "headers": [
                [
                  "content-type",
                  "application/javascript"
                ]
              ],
              "status": 200,
              "status_text": ""
            }
          },
          "base_uri": "https://localhost:8080/",
          "height": 96
        }
      },
      "source": [
        "from google.colab import files\n",
        "files.upload()"
      ],
      "execution_count": 0,
      "outputs": [
        {
          "output_type": "display_data",
          "data": {
            "text/html": [
              "\n",
              "     <input type=\"file\" id=\"files-7804cf4b-fa85-4a7e-bc63-8fc5280696b7\" name=\"files[]\" multiple disabled />\n",
              "     <output id=\"result-7804cf4b-fa85-4a7e-bc63-8fc5280696b7\">\n",
              "      Upload widget is only available when the cell has been executed in the\n",
              "      current browser session. Please rerun this cell to enable.\n",
              "      </output>\n",
              "      <script src=\"/nbextensions/google.colab/files.js\"></script> "
            ],
            "text/plain": [
              "<IPython.core.display.HTML object>"
            ]
          },
          "metadata": {
            "tags": []
          }
        },
        {
          "output_type": "stream",
          "text": [
            "Saving kaggle.json to kaggle.json\n"
          ],
          "name": "stdout"
        },
        {
          "output_type": "execute_result",
          "data": {
            "text/plain": [
              "{'kaggle.json': b'{\"username\":\"yong0306\",\"key\":\"49794297a948946b6b1256174120e22a\"}'}"
            ]
          },
          "metadata": {
            "tags": []
          },
          "execution_count": 5
        }
      ]
    },
    {
      "cell_type": "code",
      "metadata": {
        "id": "ssttOZAImRSw",
        "colab_type": "code",
        "outputId": "7c3926ad-d5a3-4f55-e197-3b4fecc85c42",
        "colab": {
          "base_uri": "https://localhost:8080/",
          "height": 35
        }
      },
      "source": [
        "ls -al kaggle.json"
      ],
      "execution_count": 0,
      "outputs": [
        {
          "output_type": "stream",
          "text": [
            "-rw-r--r-- 1 root root 64 Nov  8 09:20 kaggle.json\n"
          ],
          "name": "stdout"
        }
      ]
    },
    {
      "cell_type": "code",
      "metadata": {
        "id": "IX5ufwtiUhBd",
        "colab_type": "code",
        "colab": {}
      },
      "source": [
        "!mkdir -p ~/.kaggle\n"
      ],
      "execution_count": 0,
      "outputs": []
    },
    {
      "cell_type": "code",
      "metadata": {
        "id": "9OedfK_fUzsR",
        "colab_type": "code",
        "outputId": "026bacb6-671b-486e-e151-f511b42ef570",
        "colab": {
          "base_uri": "https://localhost:8080/",
          "height": 89
        }
      },
      "source": [
        "! cp  kaggle.json ~ / . kaggle /"
      ],
      "execution_count": 0,
      "outputs": [
        {
          "output_type": "stream",
          "text": [
            "cp: -r not specified; omitting directory '/root'\n",
            "cp: -r not specified; omitting directory '/'\n",
            "cp: -r not specified; omitting directory '.'\n",
            "cp: cannot stat 'kaggle': No such file or directory\n"
          ],
          "name": "stdout"
        }
      ]
    },
    {
      "cell_type": "code",
      "metadata": {
        "id": "TRMRI5g9Uzpn",
        "colab_type": "code",
        "outputId": "41ae5573-5678-4e38-8ab2-73c388f7c5a1",
        "colab": {
          "base_uri": "https://localhost:8080/",
          "height": 53
        }
      },
      "source": [
        "! chmod  ~ / .kaggle/kaggle.json"
      ],
      "execution_count": 0,
      "outputs": [
        {
          "output_type": "stream",
          "text": [
            "chmod: invalid mode: ‘/root’\n",
            "Try 'chmod --help' for more information.\n"
          ],
          "name": "stdout"
        }
      ]
    },
    {
      "cell_type": "code",
      "metadata": {
        "id": "NHnDwzoJUzkn",
        "colab_type": "code",
        "outputId": "5330a0eb-9fae-45e6-d218-fc4208b53627",
        "colab": {
          "base_uri": "https://localhost:8080/",
          "height": 35
        }
      },
      "source": [
        "ls -1ha kaggle.json"
      ],
      "execution_count": 0,
      "outputs": [
        {
          "output_type": "stream",
          "text": [
            "kaggle.json\n"
          ],
          "name": "stdout"
        }
      ]
    },
    {
      "cell_type": "markdown",
      "metadata": {
        "id": "5u1Wr6Amvbba",
        "colab_type": "text"
      },
      "source": [
        "# 캐글 파일 불러오기 "
      ]
    },
    {
      "cell_type": "code",
      "metadata": {
        "id": "0QWTSROYUzcF",
        "colab_type": "code",
        "colab": {}
      },
      "source": [
        ""
      ],
      "execution_count": 0,
      "outputs": []
    },
    {
      "cell_type": "code",
      "metadata": {
        "id": "rZd5XUOVnujO",
        "colab_type": "code",
        "outputId": "2ed245ae-ab18-4f5f-e90c-6e618a9ee99a",
        "colab": {
          "base_uri": "https://localhost:8080/",
          "height": 127
        }
      },
      "source": [
        "from google.colab import drive\n",
        "drive.mount('/content/drive')"
      ],
      "execution_count": 1,
      "outputs": [
        {
          "output_type": "stream",
          "text": [
            "Go to this URL in a browser: https://accounts.google.com/o/oauth2/auth?client_id=947318989803-6bn6qk8qdgf4n4g3pfee6491hc0brc4i.apps.googleusercontent.com&redirect_uri=urn%3Aietf%3Awg%3Aoauth%3A2.0%3Aoob&scope=email%20https%3A%2F%2Fwww.googleapis.com%2Fauth%2Fdocs.test%20https%3A%2F%2Fwww.googleapis.com%2Fauth%2Fdrive%20https%3A%2F%2Fwww.googleapis.com%2Fauth%2Fdrive.photos.readonly%20https%3A%2F%2Fwww.googleapis.com%2Fauth%2Fpeopleapi.readonly&response_type=code\n",
            "\n",
            "Enter your authorization code:\n",
            "··········\n",
            "Mounted at /content/drive\n"
          ],
          "name": "stdout"
        }
      ]
    },
    {
      "cell_type": "code",
      "metadata": {
        "id": "8H-rFpZ4UzMK",
        "colab_type": "code",
        "colab": {}
      },
      "source": [
        ""
      ],
      "execution_count": 0,
      "outputs": []
    },
    {
      "cell_type": "code",
      "metadata": {
        "id": "8zHLGeMTmzhg",
        "colab_type": "code",
        "outputId": "77713223-a686-43e3-9415-a401d2c8fdd8",
        "colab": {
          "base_uri": "https://localhost:8080/",
          "height": 161
        }
      },
      "source": [
        "! kaggle competitions download -c reducing-commercial-aviation-fatalities"
      ],
      "execution_count": 0,
      "outputs": [
        {
          "output_type": "stream",
          "text": [
            "Traceback (most recent call last):\n",
            "  File \"/usr/local/bin/kaggle\", line 5, in <module>\n",
            "    from kaggle.cli import main\n",
            "  File \"/usr/local/lib/python2.7/dist-packages/kaggle/__init__.py\", line 23, in <module>\n",
            "    api.authenticate()\n",
            "  File \"/usr/local/lib/python2.7/dist-packages/kaggle/api/kaggle_api_extended.py\", line 146, in authenticate\n",
            "    self.config_file, self.config_dir))\n",
            "IOError: Could not find kaggle.json. Make sure it's located in /root/.kaggle. Or use the environment method.\n"
          ],
          "name": "stdout"
        }
      ]
    },
    {
      "cell_type": "code",
      "metadata": {
        "id": "ZaYJ9bUKUzfc",
        "colab_type": "code",
        "colab": {}
      },
      "source": [
        "path = '/content/drive/My Drive/캐글/'\n"
      ],
      "execution_count": 0,
      "outputs": []
    },
    {
      "cell_type": "code",
      "metadata": {
        "id": "ywNXsnSnnU4N",
        "colab_type": "code",
        "outputId": "2564f858-14f0-4f34-d811-ea276691b8ad",
        "colab": {
          "base_uri": "https://localhost:8080/",
          "height": 107
        }
      },
      "source": [
        "!ls -al '/content/drive/My Drive/캐글/'\n"
      ],
      "execution_count": 3,
      "outputs": [
        {
          "output_type": "stream",
          "text": [
            "total 2369812\n",
            "-rw------- 1 root root          0 Jul 17 04:29 CCTV.csv\n",
            "-rw------- 1 root root   23635845 Nov  8 10:48 sample_submission.csv\n",
            "-rw------- 1 root root  110290743 Nov  8 10:49 test_ver2.csv\n",
            "-rw------- 1 root root 2292759599 Nov  8 10:59 train_ver2.csv\n"
          ],
          "name": "stdout"
        }
      ]
    },
    {
      "cell_type": "code",
      "metadata": {
        "id": "yzVU0fELXXwQ",
        "colab_type": "code",
        "colab": {}
      },
      "source": [
        "import pandas as pd\n",
        "import numpy as np\n",
        "import os"
      ],
      "execution_count": 0,
      "outputs": []
    },
    {
      "cell_type": "code",
      "metadata": {
        "id": "0msvf-tYZSBm",
        "colab_type": "code",
        "outputId": "25dc35a8-167d-4182-9dbf-456f1b5082ef",
        "colab": {
          "base_uri": "https://localhost:8080/",
          "height": 53
        }
      },
      "source": [
        "data=pd.read_csv(path+'train_ver2.csv',encoding='ms949')"
      ],
      "execution_count": 5,
      "outputs": [
        {
          "output_type": "stream",
          "text": [
            "/usr/local/lib/python3.6/dist-packages/IPython/core/interactiveshell.py:2718: DtypeWarning: Columns (5,8,11,15) have mixed types. Specify dtype option on import or set low_memory=False.\n",
            "  interactivity=interactivity, compiler=compiler, result=result)\n"
          ],
          "name": "stderr"
        }
      ]
    },
    {
      "cell_type": "code",
      "metadata": {
        "id": "IHdXLJufbXpi",
        "colab_type": "code",
        "colab": {
          "base_uri": "https://localhost:8080/",
          "height": 323
        },
        "outputId": "d4695850-c4a5-4dd2-c39e-b4c13032efb0"
      },
      "source": [
        "! nvidia-smi "
      ],
      "execution_count": 9,
      "outputs": [
        {
          "output_type": "stream",
          "text": [
            "Fri Nov  8 14:32:45 2019       \n",
            "+-----------------------------------------------------------------------------+\n",
            "| NVIDIA-SMI 430.50       Driver Version: 418.67       CUDA Version: 10.1     |\n",
            "|-------------------------------+----------------------+----------------------+\n",
            "| GPU  Name        Persistence-M| Bus-Id        Disp.A | Volatile Uncorr. ECC |\n",
            "| Fan  Temp  Perf  Pwr:Usage/Cap|         Memory-Usage | GPU-Util  Compute M. |\n",
            "|===============================+======================+======================|\n",
            "|   0  Tesla P100-PCIE...  Off  | 00000000:00:04.0 Off |                    0 |\n",
            "| N/A   36C    P0    26W / 250W |      0MiB / 16280MiB |      0%      Default |\n",
            "+-------------------------------+----------------------+----------------------+\n",
            "                                                                               \n",
            "+-----------------------------------------------------------------------------+\n",
            "| Processes:                                                       GPU Memory |\n",
            "|  GPU       PID   Type   Process name                             Usage      |\n",
            "|=============================================================================|\n",
            "|  No running processes found                                                 |\n",
            "+-----------------------------------------------------------------------------+\n"
          ],
          "name": "stdout"
        }
      ]
    },
    {
      "cell_type": "code",
      "metadata": {
        "id": "iO8e2dQEo9v7",
        "colab_type": "code",
        "colab": {}
      },
      "source": [
        "trn =data"
      ],
      "execution_count": 0,
      "outputs": []
    },
    {
      "cell_type": "code",
      "metadata": {
        "id": "WJ6ot7Aorblt",
        "colab_type": "code",
        "colab": {
          "base_uri": "https://localhost:8080/",
          "height": 35
        },
        "outputId": "a619b8f2-1421-4e16-b48c-859c83a90cd1"
      },
      "source": [
        "trn.shape"
      ],
      "execution_count": 7,
      "outputs": [
        {
          "output_type": "execute_result",
          "data": {
            "text/plain": [
              "(13647309, 48)"
            ]
          },
          "metadata": {
            "tags": []
          },
          "execution_count": 7
        }
      ]
    },
    {
      "cell_type": "code",
      "metadata": {
        "id": "0d8NW1h3vnK-",
        "colab_type": "code",
        "colab": {
          "base_uri": "https://localhost:8080/",
          "height": 309
        },
        "outputId": "80d8802d-e197-4f94-ce72-0e3de4ad715a"
      },
      "source": [
        "trn.head()"
      ],
      "execution_count": 12,
      "outputs": [
        {
          "output_type": "execute_result",
          "data": {
            "text/html": [
              "<div>\n",
              "<style scoped>\n",
              "    .dataframe tbody tr th:only-of-type {\n",
              "        vertical-align: middle;\n",
              "    }\n",
              "\n",
              "    .dataframe tbody tr th {\n",
              "        vertical-align: top;\n",
              "    }\n",
              "\n",
              "    .dataframe thead th {\n",
              "        text-align: right;\n",
              "    }\n",
              "</style>\n",
              "<table border=\"1\" class=\"dataframe\">\n",
              "  <thead>\n",
              "    <tr style=\"text-align: right;\">\n",
              "      <th></th>\n",
              "      <th>fecha_dato</th>\n",
              "      <th>ncodpers</th>\n",
              "      <th>ind_empleado</th>\n",
              "      <th>pais_residencia</th>\n",
              "      <th>sexo</th>\n",
              "      <th>age</th>\n",
              "      <th>fecha_alta</th>\n",
              "      <th>ind_nuevo</th>\n",
              "      <th>antiguedad</th>\n",
              "      <th>indrel</th>\n",
              "      <th>ult_fec_cli_1t</th>\n",
              "      <th>indrel_1mes</th>\n",
              "      <th>tiprel_1mes</th>\n",
              "      <th>indresi</th>\n",
              "      <th>indext</th>\n",
              "      <th>conyuemp</th>\n",
              "      <th>canal_entrada</th>\n",
              "      <th>indfall</th>\n",
              "      <th>tipodom</th>\n",
              "      <th>cod_prov</th>\n",
              "      <th>nomprov</th>\n",
              "      <th>ind_actividad_cliente</th>\n",
              "      <th>renta</th>\n",
              "      <th>segmento</th>\n",
              "      <th>ind_ahor_fin_ult1</th>\n",
              "      <th>ind_aval_fin_ult1</th>\n",
              "      <th>ind_cco_fin_ult1</th>\n",
              "      <th>ind_cder_fin_ult1</th>\n",
              "      <th>ind_cno_fin_ult1</th>\n",
              "      <th>ind_ctju_fin_ult1</th>\n",
              "      <th>ind_ctma_fin_ult1</th>\n",
              "      <th>ind_ctop_fin_ult1</th>\n",
              "      <th>ind_ctpp_fin_ult1</th>\n",
              "      <th>ind_deco_fin_ult1</th>\n",
              "      <th>ind_deme_fin_ult1</th>\n",
              "      <th>ind_dela_fin_ult1</th>\n",
              "      <th>ind_ecue_fin_ult1</th>\n",
              "      <th>ind_fond_fin_ult1</th>\n",
              "      <th>ind_hip_fin_ult1</th>\n",
              "      <th>ind_plan_fin_ult1</th>\n",
              "      <th>ind_pres_fin_ult1</th>\n",
              "      <th>ind_reca_fin_ult1</th>\n",
              "      <th>ind_tjcr_fin_ult1</th>\n",
              "      <th>ind_valo_fin_ult1</th>\n",
              "      <th>ind_viv_fin_ult1</th>\n",
              "      <th>ind_nomina_ult1</th>\n",
              "      <th>ind_nom_pens_ult1</th>\n",
              "      <th>ind_recibo_ult1</th>\n",
              "    </tr>\n",
              "  </thead>\n",
              "  <tbody>\n",
              "    <tr>\n",
              "      <th>0</th>\n",
              "      <td>2015-01-28</td>\n",
              "      <td>1375586</td>\n",
              "      <td>N</td>\n",
              "      <td>ES</td>\n",
              "      <td>H</td>\n",
              "      <td>35</td>\n",
              "      <td>2015-01-12</td>\n",
              "      <td>0.0</td>\n",
              "      <td>6</td>\n",
              "      <td>1.0</td>\n",
              "      <td>NaN</td>\n",
              "      <td>1</td>\n",
              "      <td>A</td>\n",
              "      <td>S</td>\n",
              "      <td>N</td>\n",
              "      <td>NaN</td>\n",
              "      <td>KHL</td>\n",
              "      <td>N</td>\n",
              "      <td>1.0</td>\n",
              "      <td>29.0</td>\n",
              "      <td>MALAGA</td>\n",
              "      <td>1.0</td>\n",
              "      <td>87218.10</td>\n",
              "      <td>02 - PARTICULARES</td>\n",
              "      <td>0</td>\n",
              "      <td>0</td>\n",
              "      <td>1</td>\n",
              "      <td>0</td>\n",
              "      <td>0</td>\n",
              "      <td>0</td>\n",
              "      <td>0</td>\n",
              "      <td>0</td>\n",
              "      <td>0</td>\n",
              "      <td>0</td>\n",
              "      <td>0</td>\n",
              "      <td>0</td>\n",
              "      <td>0</td>\n",
              "      <td>0</td>\n",
              "      <td>0</td>\n",
              "      <td>0</td>\n",
              "      <td>0</td>\n",
              "      <td>0</td>\n",
              "      <td>0</td>\n",
              "      <td>0</td>\n",
              "      <td>0</td>\n",
              "      <td>0.0</td>\n",
              "      <td>0.0</td>\n",
              "      <td>0</td>\n",
              "    </tr>\n",
              "    <tr>\n",
              "      <th>1</th>\n",
              "      <td>2015-01-28</td>\n",
              "      <td>1050611</td>\n",
              "      <td>N</td>\n",
              "      <td>ES</td>\n",
              "      <td>V</td>\n",
              "      <td>23</td>\n",
              "      <td>2012-08-10</td>\n",
              "      <td>0.0</td>\n",
              "      <td>35</td>\n",
              "      <td>1.0</td>\n",
              "      <td>NaN</td>\n",
              "      <td>1</td>\n",
              "      <td>I</td>\n",
              "      <td>S</td>\n",
              "      <td>S</td>\n",
              "      <td>NaN</td>\n",
              "      <td>KHE</td>\n",
              "      <td>N</td>\n",
              "      <td>1.0</td>\n",
              "      <td>13.0</td>\n",
              "      <td>CIUDAD REAL</td>\n",
              "      <td>0.0</td>\n",
              "      <td>35548.74</td>\n",
              "      <td>03 - UNIVERSITARIO</td>\n",
              "      <td>0</td>\n",
              "      <td>0</td>\n",
              "      <td>1</td>\n",
              "      <td>0</td>\n",
              "      <td>0</td>\n",
              "      <td>0</td>\n",
              "      <td>0</td>\n",
              "      <td>0</td>\n",
              "      <td>0</td>\n",
              "      <td>0</td>\n",
              "      <td>0</td>\n",
              "      <td>0</td>\n",
              "      <td>0</td>\n",
              "      <td>0</td>\n",
              "      <td>0</td>\n",
              "      <td>0</td>\n",
              "      <td>0</td>\n",
              "      <td>0</td>\n",
              "      <td>0</td>\n",
              "      <td>0</td>\n",
              "      <td>0</td>\n",
              "      <td>0.0</td>\n",
              "      <td>0.0</td>\n",
              "      <td>0</td>\n",
              "    </tr>\n",
              "    <tr>\n",
              "      <th>2</th>\n",
              "      <td>2015-01-28</td>\n",
              "      <td>1050612</td>\n",
              "      <td>N</td>\n",
              "      <td>ES</td>\n",
              "      <td>V</td>\n",
              "      <td>23</td>\n",
              "      <td>2012-08-10</td>\n",
              "      <td>0.0</td>\n",
              "      <td>35</td>\n",
              "      <td>1.0</td>\n",
              "      <td>NaN</td>\n",
              "      <td>1</td>\n",
              "      <td>I</td>\n",
              "      <td>S</td>\n",
              "      <td>N</td>\n",
              "      <td>NaN</td>\n",
              "      <td>KHE</td>\n",
              "      <td>N</td>\n",
              "      <td>1.0</td>\n",
              "      <td>13.0</td>\n",
              "      <td>CIUDAD REAL</td>\n",
              "      <td>0.0</td>\n",
              "      <td>122179.11</td>\n",
              "      <td>03 - UNIVERSITARIO</td>\n",
              "      <td>0</td>\n",
              "      <td>0</td>\n",
              "      <td>1</td>\n",
              "      <td>0</td>\n",
              "      <td>0</td>\n",
              "      <td>0</td>\n",
              "      <td>0</td>\n",
              "      <td>0</td>\n",
              "      <td>0</td>\n",
              "      <td>0</td>\n",
              "      <td>0</td>\n",
              "      <td>0</td>\n",
              "      <td>0</td>\n",
              "      <td>0</td>\n",
              "      <td>0</td>\n",
              "      <td>0</td>\n",
              "      <td>0</td>\n",
              "      <td>0</td>\n",
              "      <td>0</td>\n",
              "      <td>0</td>\n",
              "      <td>0</td>\n",
              "      <td>0.0</td>\n",
              "      <td>0.0</td>\n",
              "      <td>0</td>\n",
              "    </tr>\n",
              "    <tr>\n",
              "      <th>3</th>\n",
              "      <td>2015-01-28</td>\n",
              "      <td>1050613</td>\n",
              "      <td>N</td>\n",
              "      <td>ES</td>\n",
              "      <td>H</td>\n",
              "      <td>22</td>\n",
              "      <td>2012-08-10</td>\n",
              "      <td>0.0</td>\n",
              "      <td>35</td>\n",
              "      <td>1.0</td>\n",
              "      <td>NaN</td>\n",
              "      <td>1</td>\n",
              "      <td>I</td>\n",
              "      <td>S</td>\n",
              "      <td>N</td>\n",
              "      <td>NaN</td>\n",
              "      <td>KHD</td>\n",
              "      <td>N</td>\n",
              "      <td>1.0</td>\n",
              "      <td>50.0</td>\n",
              "      <td>ZARAGOZA</td>\n",
              "      <td>0.0</td>\n",
              "      <td>119775.54</td>\n",
              "      <td>03 - UNIVERSITARIO</td>\n",
              "      <td>0</td>\n",
              "      <td>0</td>\n",
              "      <td>0</td>\n",
              "      <td>0</td>\n",
              "      <td>0</td>\n",
              "      <td>0</td>\n",
              "      <td>0</td>\n",
              "      <td>0</td>\n",
              "      <td>0</td>\n",
              "      <td>1</td>\n",
              "      <td>0</td>\n",
              "      <td>0</td>\n",
              "      <td>0</td>\n",
              "      <td>0</td>\n",
              "      <td>0</td>\n",
              "      <td>0</td>\n",
              "      <td>0</td>\n",
              "      <td>0</td>\n",
              "      <td>0</td>\n",
              "      <td>0</td>\n",
              "      <td>0</td>\n",
              "      <td>0.0</td>\n",
              "      <td>0.0</td>\n",
              "      <td>0</td>\n",
              "    </tr>\n",
              "    <tr>\n",
              "      <th>4</th>\n",
              "      <td>2015-01-28</td>\n",
              "      <td>1050614</td>\n",
              "      <td>N</td>\n",
              "      <td>ES</td>\n",
              "      <td>V</td>\n",
              "      <td>23</td>\n",
              "      <td>2012-08-10</td>\n",
              "      <td>0.0</td>\n",
              "      <td>35</td>\n",
              "      <td>1.0</td>\n",
              "      <td>NaN</td>\n",
              "      <td>1</td>\n",
              "      <td>A</td>\n",
              "      <td>S</td>\n",
              "      <td>N</td>\n",
              "      <td>NaN</td>\n",
              "      <td>KHE</td>\n",
              "      <td>N</td>\n",
              "      <td>1.0</td>\n",
              "      <td>50.0</td>\n",
              "      <td>ZARAGOZA</td>\n",
              "      <td>1.0</td>\n",
              "      <td>NaN</td>\n",
              "      <td>03 - UNIVERSITARIO</td>\n",
              "      <td>0</td>\n",
              "      <td>0</td>\n",
              "      <td>1</td>\n",
              "      <td>0</td>\n",
              "      <td>0</td>\n",
              "      <td>0</td>\n",
              "      <td>0</td>\n",
              "      <td>0</td>\n",
              "      <td>0</td>\n",
              "      <td>0</td>\n",
              "      <td>0</td>\n",
              "      <td>0</td>\n",
              "      <td>0</td>\n",
              "      <td>0</td>\n",
              "      <td>0</td>\n",
              "      <td>0</td>\n",
              "      <td>0</td>\n",
              "      <td>0</td>\n",
              "      <td>0</td>\n",
              "      <td>0</td>\n",
              "      <td>0</td>\n",
              "      <td>0.0</td>\n",
              "      <td>0.0</td>\n",
              "      <td>0</td>\n",
              "    </tr>\n",
              "  </tbody>\n",
              "</table>\n",
              "</div>"
            ],
            "text/plain": [
              "   fecha_dato  ncodpers  ... ind_nom_pens_ult1 ind_recibo_ult1\n",
              "0  2015-01-28   1375586  ...               0.0               0\n",
              "1  2015-01-28   1050611  ...               0.0               0\n",
              "2  2015-01-28   1050612  ...               0.0               0\n",
              "3  2015-01-28   1050613  ...               0.0               0\n",
              "4  2015-01-28   1050614  ...               0.0               0\n",
              "\n",
              "[5 rows x 48 columns]"
            ]
          },
          "metadata": {
            "tags": []
          },
          "execution_count": 12
        }
      ]
    },
    {
      "cell_type": "markdown",
      "metadata": {
        "id": "aNZr5Nlhxvad",
        "colab_type": "text"
      },
      "source": [
        "## **모든변수 확인 for loop"
      ]
    },
    {
      "cell_type": "code",
      "metadata": {
        "id": "qkE62snewk5H",
        "colab_type": "code",
        "colab": {
          "base_uri": "https://localhost:8080/",
          "height": 1000
        },
        "outputId": "1a9a4bf0-fd3c-4f1f-86c9-71c6f911e5fb"
      },
      "source": [
        "for col in trn.columns:      \n",
        "    print('{}\\n'.format(trn[col].head()))"
      ],
      "execution_count": 13,
      "outputs": [
        {
          "output_type": "stream",
          "text": [
            "0    2015-01-28\n",
            "1    2015-01-28\n",
            "2    2015-01-28\n",
            "3    2015-01-28\n",
            "4    2015-01-28\n",
            "Name: fecha_dato, dtype: object\n",
            "\n",
            "0    1375586\n",
            "1    1050611\n",
            "2    1050612\n",
            "3    1050613\n",
            "4    1050614\n",
            "Name: ncodpers, dtype: int64\n",
            "\n",
            "0    N\n",
            "1    N\n",
            "2    N\n",
            "3    N\n",
            "4    N\n",
            "Name: ind_empleado, dtype: object\n",
            "\n",
            "0    ES\n",
            "1    ES\n",
            "2    ES\n",
            "3    ES\n",
            "4    ES\n",
            "Name: pais_residencia, dtype: object\n",
            "\n",
            "0    H\n",
            "1    V\n",
            "2    V\n",
            "3    H\n",
            "4    V\n",
            "Name: sexo, dtype: object\n",
            "\n",
            "0     35\n",
            "1     23\n",
            "2     23\n",
            "3     22\n",
            "4     23\n",
            "Name: age, dtype: object\n",
            "\n",
            "0    2015-01-12\n",
            "1    2012-08-10\n",
            "2    2012-08-10\n",
            "3    2012-08-10\n",
            "4    2012-08-10\n",
            "Name: fecha_alta, dtype: object\n",
            "\n",
            "0    0.0\n",
            "1    0.0\n",
            "2    0.0\n",
            "3    0.0\n",
            "4    0.0\n",
            "Name: ind_nuevo, dtype: float64\n",
            "\n",
            "0          6\n",
            "1         35\n",
            "2         35\n",
            "3         35\n",
            "4         35\n",
            "Name: antiguedad, dtype: object\n",
            "\n",
            "0    1.0\n",
            "1    1.0\n",
            "2    1.0\n",
            "3    1.0\n",
            "4    1.0\n",
            "Name: indrel, dtype: float64\n",
            "\n",
            "0    NaN\n",
            "1    NaN\n",
            "2    NaN\n",
            "3    NaN\n",
            "4    NaN\n",
            "Name: ult_fec_cli_1t, dtype: object\n",
            "\n",
            "0    1\n",
            "1    1\n",
            "2    1\n",
            "3    1\n",
            "4    1\n",
            "Name: indrel_1mes, dtype: object\n",
            "\n",
            "0    A\n",
            "1    I\n",
            "2    I\n",
            "3    I\n",
            "4    A\n",
            "Name: tiprel_1mes, dtype: object\n",
            "\n",
            "0    S\n",
            "1    S\n",
            "2    S\n",
            "3    S\n",
            "4    S\n",
            "Name: indresi, dtype: object\n",
            "\n",
            "0    N\n",
            "1    S\n",
            "2    N\n",
            "3    N\n",
            "4    N\n",
            "Name: indext, dtype: object\n",
            "\n",
            "0    NaN\n",
            "1    NaN\n",
            "2    NaN\n",
            "3    NaN\n",
            "4    NaN\n",
            "Name: conyuemp, dtype: object\n",
            "\n",
            "0    KHL\n",
            "1    KHE\n",
            "2    KHE\n",
            "3    KHD\n",
            "4    KHE\n",
            "Name: canal_entrada, dtype: object\n",
            "\n",
            "0    N\n",
            "1    N\n",
            "2    N\n",
            "3    N\n",
            "4    N\n",
            "Name: indfall, dtype: object\n",
            "\n",
            "0    1.0\n",
            "1    1.0\n",
            "2    1.0\n",
            "3    1.0\n",
            "4    1.0\n",
            "Name: tipodom, dtype: float64\n",
            "\n",
            "0    29.0\n",
            "1    13.0\n",
            "2    13.0\n",
            "3    50.0\n",
            "4    50.0\n",
            "Name: cod_prov, dtype: float64\n",
            "\n",
            "0         MALAGA\n",
            "1    CIUDAD REAL\n",
            "2    CIUDAD REAL\n",
            "3       ZARAGOZA\n",
            "4       ZARAGOZA\n",
            "Name: nomprov, dtype: object\n",
            "\n",
            "0    1.0\n",
            "1    0.0\n",
            "2    0.0\n",
            "3    0.0\n",
            "4    1.0\n",
            "Name: ind_actividad_cliente, dtype: float64\n",
            "\n",
            "0     87218.10\n",
            "1     35548.74\n",
            "2    122179.11\n",
            "3    119775.54\n",
            "4          NaN\n",
            "Name: renta, dtype: float64\n",
            "\n",
            "0     02 - PARTICULARES\n",
            "1    03 - UNIVERSITARIO\n",
            "2    03 - UNIVERSITARIO\n",
            "3    03 - UNIVERSITARIO\n",
            "4    03 - UNIVERSITARIO\n",
            "Name: segmento, dtype: object\n",
            "\n",
            "0    0\n",
            "1    0\n",
            "2    0\n",
            "3    0\n",
            "4    0\n",
            "Name: ind_ahor_fin_ult1, dtype: int64\n",
            "\n",
            "0    0\n",
            "1    0\n",
            "2    0\n",
            "3    0\n",
            "4    0\n",
            "Name: ind_aval_fin_ult1, dtype: int64\n",
            "\n",
            "0    1\n",
            "1    1\n",
            "2    1\n",
            "3    0\n",
            "4    1\n",
            "Name: ind_cco_fin_ult1, dtype: int64\n",
            "\n",
            "0    0\n",
            "1    0\n",
            "2    0\n",
            "3    0\n",
            "4    0\n",
            "Name: ind_cder_fin_ult1, dtype: int64\n",
            "\n",
            "0    0\n",
            "1    0\n",
            "2    0\n",
            "3    0\n",
            "4    0\n",
            "Name: ind_cno_fin_ult1, dtype: int64\n",
            "\n",
            "0    0\n",
            "1    0\n",
            "2    0\n",
            "3    0\n",
            "4    0\n",
            "Name: ind_ctju_fin_ult1, dtype: int64\n",
            "\n",
            "0    0\n",
            "1    0\n",
            "2    0\n",
            "3    0\n",
            "4    0\n",
            "Name: ind_ctma_fin_ult1, dtype: int64\n",
            "\n",
            "0    0\n",
            "1    0\n",
            "2    0\n",
            "3    0\n",
            "4    0\n",
            "Name: ind_ctop_fin_ult1, dtype: int64\n",
            "\n",
            "0    0\n",
            "1    0\n",
            "2    0\n",
            "3    0\n",
            "4    0\n",
            "Name: ind_ctpp_fin_ult1, dtype: int64\n",
            "\n",
            "0    0\n",
            "1    0\n",
            "2    0\n",
            "3    1\n",
            "4    0\n",
            "Name: ind_deco_fin_ult1, dtype: int64\n",
            "\n",
            "0    0\n",
            "1    0\n",
            "2    0\n",
            "3    0\n",
            "4    0\n",
            "Name: ind_deme_fin_ult1, dtype: int64\n",
            "\n",
            "0    0\n",
            "1    0\n",
            "2    0\n",
            "3    0\n",
            "4    0\n",
            "Name: ind_dela_fin_ult1, dtype: int64\n",
            "\n",
            "0    0\n",
            "1    0\n",
            "2    0\n",
            "3    0\n",
            "4    0\n",
            "Name: ind_ecue_fin_ult1, dtype: int64\n",
            "\n",
            "0    0\n",
            "1    0\n",
            "2    0\n",
            "3    0\n",
            "4    0\n",
            "Name: ind_fond_fin_ult1, dtype: int64\n",
            "\n",
            "0    0\n",
            "1    0\n",
            "2    0\n",
            "3    0\n",
            "4    0\n",
            "Name: ind_hip_fin_ult1, dtype: int64\n",
            "\n",
            "0    0\n",
            "1    0\n",
            "2    0\n",
            "3    0\n",
            "4    0\n",
            "Name: ind_plan_fin_ult1, dtype: int64\n",
            "\n",
            "0    0\n",
            "1    0\n",
            "2    0\n",
            "3    0\n",
            "4    0\n",
            "Name: ind_pres_fin_ult1, dtype: int64\n",
            "\n",
            "0    0\n",
            "1    0\n",
            "2    0\n",
            "3    0\n",
            "4    0\n",
            "Name: ind_reca_fin_ult1, dtype: int64\n",
            "\n",
            "0    0\n",
            "1    0\n",
            "2    0\n",
            "3    0\n",
            "4    0\n",
            "Name: ind_tjcr_fin_ult1, dtype: int64\n",
            "\n",
            "0    0\n",
            "1    0\n",
            "2    0\n",
            "3    0\n",
            "4    0\n",
            "Name: ind_valo_fin_ult1, dtype: int64\n",
            "\n",
            "0    0\n",
            "1    0\n",
            "2    0\n",
            "3    0\n",
            "4    0\n",
            "Name: ind_viv_fin_ult1, dtype: int64\n",
            "\n",
            "0    0.0\n",
            "1    0.0\n",
            "2    0.0\n",
            "3    0.0\n",
            "4    0.0\n",
            "Name: ind_nomina_ult1, dtype: float64\n",
            "\n",
            "0    0.0\n",
            "1    0.0\n",
            "2    0.0\n",
            "3    0.0\n",
            "4    0.0\n",
            "Name: ind_nom_pens_ult1, dtype: float64\n",
            "\n",
            "0    0\n",
            "1    0\n",
            "2    0\n",
            "3    0\n",
            "4    0\n",
            "Name: ind_recibo_ult1, dtype: int64\n",
            "\n"
          ],
          "name": "stdout"
        }
      ]
    },
    {
      "cell_type": "markdown",
      "metadata": {
        "id": "BSXpSqt_zNHu",
        "colab_type": "text"
      },
      "source": [
        "#**info pandas**\n"
      ]
    },
    {
      "cell_type": "code",
      "metadata": {
        "id": "2-jRx_bDyLKG",
        "colab_type": "code",
        "colab": {
          "base_uri": "https://localhost:8080/",
          "height": 971
        },
        "outputId": "0ca876d0-f392-47e8-a83e-ebe71045d8a4"
      },
      "source": [
        "trn.info()"
      ],
      "execution_count": 75,
      "outputs": [
        {
          "output_type": "stream",
          "text": [
            "<class 'pandas.core.frame.DataFrame'>\n",
            "RangeIndex: 13647309 entries, 0 to 13647308\n",
            "Data columns (total 48 columns):\n",
            "fecha_dato               object\n",
            "ncodpers                 int64\n",
            "ind_empleado             object\n",
            "pais_residencia          object\n",
            "sexo                     object\n",
            "age                      object\n",
            "fecha_alta               object\n",
            "ind_nuevo                float64\n",
            "antiguedad               object\n",
            "indrel                   float64\n",
            "ult_fec_cli_1t           object\n",
            "indrel_1mes              object\n",
            "tiprel_1mes              object\n",
            "indresi                  object\n",
            "indext                   object\n",
            "conyuemp                 object\n",
            "canal_entrada            object\n",
            "indfall                  object\n",
            "tipodom                  float64\n",
            "cod_prov                 float64\n",
            "nomprov                  object\n",
            "ind_actividad_cliente    float64\n",
            "renta                    float64\n",
            "segmento                 object\n",
            "ind_ahor_fin_ult1        int64\n",
            "ind_aval_fin_ult1        int64\n",
            "ind_cco_fin_ult1         int64\n",
            "ind_cder_fin_ult1        int64\n",
            "ind_cno_fin_ult1         int64\n",
            "ind_ctju_fin_ult1        int64\n",
            "ind_ctma_fin_ult1        int64\n",
            "ind_ctop_fin_ult1        int64\n",
            "ind_ctpp_fin_ult1        int64\n",
            "ind_deco_fin_ult1        int64\n",
            "ind_deme_fin_ult1        int64\n",
            "ind_dela_fin_ult1        int64\n",
            "ind_ecue_fin_ult1        int64\n",
            "ind_fond_fin_ult1        int64\n",
            "ind_hip_fin_ult1         int64\n",
            "ind_plan_fin_ult1        int64\n",
            "ind_pres_fin_ult1        int64\n",
            "ind_reca_fin_ult1        int64\n",
            "ind_tjcr_fin_ult1        int64\n",
            "ind_valo_fin_ult1        int64\n",
            "ind_viv_fin_ult1         int64\n",
            "ind_nomina_ult1          float64\n",
            "ind_nom_pens_ult1        float64\n",
            "ind_recibo_ult1          int64\n",
            "dtypes: float64(8), int64(23), object(17)\n",
            "memory usage: 4.9+ GB\n"
          ],
          "name": "stdout"
        }
      ]
    },
    {
      "cell_type": "markdown",
      "metadata": {
        "id": "xpn_KDax0eKR",
        "colab_type": "text"
      },
      "source": [
        "# **수치형 범주형 변수**"
      ]
    },
    {
      "cell_type": "code",
      "metadata": {
        "id": "dWHcXzUGypKn",
        "colab_type": "code",
        "colab": {}
      },
      "source": [
        "#수치형 변수 추출 \n",
        "num_cols = [col for col in trn. columns[:24] if trn[col].dtype in ['int64','float64']]"
      ],
      "execution_count": 0,
      "outputs": []
    },
    {
      "cell_type": "code",
      "metadata": {
        "id": "oUNxgeKO1W82",
        "colab_type": "code",
        "colab": {
          "base_uri": "https://localhost:8080/",
          "height": 297
        },
        "outputId": "a4349ccc-9d1b-45ed-9362-3811fe680b2e"
      },
      "source": [
        "trn[num_cols].describe()"
      ],
      "execution_count": 15,
      "outputs": [
        {
          "output_type": "execute_result",
          "data": {
            "text/html": [
              "<div>\n",
              "<style scoped>\n",
              "    .dataframe tbody tr th:only-of-type {\n",
              "        vertical-align: middle;\n",
              "    }\n",
              "\n",
              "    .dataframe tbody tr th {\n",
              "        vertical-align: top;\n",
              "    }\n",
              "\n",
              "    .dataframe thead th {\n",
              "        text-align: right;\n",
              "    }\n",
              "</style>\n",
              "<table border=\"1\" class=\"dataframe\">\n",
              "  <thead>\n",
              "    <tr style=\"text-align: right;\">\n",
              "      <th></th>\n",
              "      <th>ncodpers</th>\n",
              "      <th>ind_nuevo</th>\n",
              "      <th>indrel</th>\n",
              "      <th>tipodom</th>\n",
              "      <th>cod_prov</th>\n",
              "      <th>ind_actividad_cliente</th>\n",
              "      <th>renta</th>\n",
              "    </tr>\n",
              "  </thead>\n",
              "  <tbody>\n",
              "    <tr>\n",
              "      <th>count</th>\n",
              "      <td>1.364731e+07</td>\n",
              "      <td>1.361958e+07</td>\n",
              "      <td>1.361958e+07</td>\n",
              "      <td>13619574.0</td>\n",
              "      <td>1.355372e+07</td>\n",
              "      <td>1.361958e+07</td>\n",
              "      <td>1.085293e+07</td>\n",
              "    </tr>\n",
              "    <tr>\n",
              "      <th>mean</th>\n",
              "      <td>8.349042e+05</td>\n",
              "      <td>5.956184e-02</td>\n",
              "      <td>1.178399e+00</td>\n",
              "      <td>1.0</td>\n",
              "      <td>2.657147e+01</td>\n",
              "      <td>4.578105e-01</td>\n",
              "      <td>1.342543e+05</td>\n",
              "    </tr>\n",
              "    <tr>\n",
              "      <th>std</th>\n",
              "      <td>4.315650e+05</td>\n",
              "      <td>2.366733e-01</td>\n",
              "      <td>4.177469e+00</td>\n",
              "      <td>0.0</td>\n",
              "      <td>1.278402e+01</td>\n",
              "      <td>4.982169e-01</td>\n",
              "      <td>2.306202e+05</td>\n",
              "    </tr>\n",
              "    <tr>\n",
              "      <th>min</th>\n",
              "      <td>1.588900e+04</td>\n",
              "      <td>0.000000e+00</td>\n",
              "      <td>1.000000e+00</td>\n",
              "      <td>1.0</td>\n",
              "      <td>1.000000e+00</td>\n",
              "      <td>0.000000e+00</td>\n",
              "      <td>1.202730e+03</td>\n",
              "    </tr>\n",
              "    <tr>\n",
              "      <th>25%</th>\n",
              "      <td>4.528130e+05</td>\n",
              "      <td>0.000000e+00</td>\n",
              "      <td>1.000000e+00</td>\n",
              "      <td>1.0</td>\n",
              "      <td>1.500000e+01</td>\n",
              "      <td>0.000000e+00</td>\n",
              "      <td>6.871098e+04</td>\n",
              "    </tr>\n",
              "    <tr>\n",
              "      <th>50%</th>\n",
              "      <td>9.318930e+05</td>\n",
              "      <td>0.000000e+00</td>\n",
              "      <td>1.000000e+00</td>\n",
              "      <td>1.0</td>\n",
              "      <td>2.800000e+01</td>\n",
              "      <td>0.000000e+00</td>\n",
              "      <td>1.018500e+05</td>\n",
              "    </tr>\n",
              "    <tr>\n",
              "      <th>75%</th>\n",
              "      <td>1.199286e+06</td>\n",
              "      <td>0.000000e+00</td>\n",
              "      <td>1.000000e+00</td>\n",
              "      <td>1.0</td>\n",
              "      <td>3.500000e+01</td>\n",
              "      <td>1.000000e+00</td>\n",
              "      <td>1.559560e+05</td>\n",
              "    </tr>\n",
              "    <tr>\n",
              "      <th>max</th>\n",
              "      <td>1.553689e+06</td>\n",
              "      <td>1.000000e+00</td>\n",
              "      <td>9.900000e+01</td>\n",
              "      <td>1.0</td>\n",
              "      <td>5.200000e+01</td>\n",
              "      <td>1.000000e+00</td>\n",
              "      <td>2.889440e+07</td>\n",
              "    </tr>\n",
              "  </tbody>\n",
              "</table>\n",
              "</div>"
            ],
            "text/plain": [
              "           ncodpers     ind_nuevo  ...  ind_actividad_cliente         renta\n",
              "count  1.364731e+07  1.361958e+07  ...           1.361958e+07  1.085293e+07\n",
              "mean   8.349042e+05  5.956184e-02  ...           4.578105e-01  1.342543e+05\n",
              "std    4.315650e+05  2.366733e-01  ...           4.982169e-01  2.306202e+05\n",
              "min    1.588900e+04  0.000000e+00  ...           0.000000e+00  1.202730e+03\n",
              "25%    4.528130e+05  0.000000e+00  ...           0.000000e+00  6.871098e+04\n",
              "50%    9.318930e+05  0.000000e+00  ...           0.000000e+00  1.018500e+05\n",
              "75%    1.199286e+06  0.000000e+00  ...           1.000000e+00  1.559560e+05\n",
              "max    1.553689e+06  1.000000e+00  ...           1.000000e+00  2.889440e+07\n",
              "\n",
              "[8 rows x 7 columns]"
            ]
          },
          "metadata": {
            "tags": []
          },
          "execution_count": 15
        }
      ]
    },
    {
      "cell_type": "code",
      "metadata": {
        "id": "GHzv-0TH1eBQ",
        "colab_type": "code",
        "colab": {}
      },
      "source": [
        "# 범주형  변수추출 \n",
        "cat_cols = [col for col in trn. columns[:24] if trn[col]. dtype in ['object']]\n"
      ],
      "execution_count": 0,
      "outputs": []
    },
    {
      "cell_type": "code",
      "metadata": {
        "id": "0QFvXqxq3Yox",
        "colab_type": "code",
        "colab": {
          "base_uri": "https://localhost:8080/",
          "height": 173
        },
        "outputId": "f5f8d82f-046f-4682-e5a5-41f17431b2ed"
      },
      "source": [
        "trn[cat_cols].describe() # age  변수가 범주형이라 수치형으로 바꿔줘야함 "
      ],
      "execution_count": 17,
      "outputs": [
        {
          "output_type": "execute_result",
          "data": {
            "text/html": [
              "<div>\n",
              "<style scoped>\n",
              "    .dataframe tbody tr th:only-of-type {\n",
              "        vertical-align: middle;\n",
              "    }\n",
              "\n",
              "    .dataframe tbody tr th {\n",
              "        vertical-align: top;\n",
              "    }\n",
              "\n",
              "    .dataframe thead th {\n",
              "        text-align: right;\n",
              "    }\n",
              "</style>\n",
              "<table border=\"1\" class=\"dataframe\">\n",
              "  <thead>\n",
              "    <tr style=\"text-align: right;\">\n",
              "      <th></th>\n",
              "      <th>fecha_dato</th>\n",
              "      <th>ind_empleado</th>\n",
              "      <th>pais_residencia</th>\n",
              "      <th>sexo</th>\n",
              "      <th>age</th>\n",
              "      <th>fecha_alta</th>\n",
              "      <th>antiguedad</th>\n",
              "      <th>ult_fec_cli_1t</th>\n",
              "      <th>indrel_1mes</th>\n",
              "      <th>tiprel_1mes</th>\n",
              "      <th>indresi</th>\n",
              "      <th>indext</th>\n",
              "      <th>conyuemp</th>\n",
              "      <th>canal_entrada</th>\n",
              "      <th>indfall</th>\n",
              "      <th>nomprov</th>\n",
              "      <th>segmento</th>\n",
              "    </tr>\n",
              "  </thead>\n",
              "  <tbody>\n",
              "    <tr>\n",
              "      <th>count</th>\n",
              "      <td>13647309</td>\n",
              "      <td>13619575</td>\n",
              "      <td>13619575</td>\n",
              "      <td>13619505</td>\n",
              "      <td>13647309</td>\n",
              "      <td>13619575</td>\n",
              "      <td>13647309</td>\n",
              "      <td>24793</td>\n",
              "      <td>13497528.0</td>\n",
              "      <td>13497528</td>\n",
              "      <td>13619575</td>\n",
              "      <td>13619575</td>\n",
              "      <td>1808</td>\n",
              "      <td>13461183</td>\n",
              "      <td>13619575</td>\n",
              "      <td>13553718</td>\n",
              "      <td>13457941</td>\n",
              "    </tr>\n",
              "    <tr>\n",
              "      <th>unique</th>\n",
              "      <td>17</td>\n",
              "      <td>5</td>\n",
              "      <td>118</td>\n",
              "      <td>2</td>\n",
              "      <td>235</td>\n",
              "      <td>6756</td>\n",
              "      <td>507</td>\n",
              "      <td>223</td>\n",
              "      <td>13.0</td>\n",
              "      <td>5</td>\n",
              "      <td>2</td>\n",
              "      <td>2</td>\n",
              "      <td>2</td>\n",
              "      <td>162</td>\n",
              "      <td>2</td>\n",
              "      <td>52</td>\n",
              "      <td>3</td>\n",
              "    </tr>\n",
              "    <tr>\n",
              "      <th>top</th>\n",
              "      <td>2016-05-28</td>\n",
              "      <td>N</td>\n",
              "      <td>ES</td>\n",
              "      <td>V</td>\n",
              "      <td>23</td>\n",
              "      <td>2014-07-28</td>\n",
              "      <td>0</td>\n",
              "      <td>2015-12-24</td>\n",
              "      <td>1.0</td>\n",
              "      <td>I</td>\n",
              "      <td>S</td>\n",
              "      <td>N</td>\n",
              "      <td>N</td>\n",
              "      <td>KHE</td>\n",
              "      <td>N</td>\n",
              "      <td>MADRID</td>\n",
              "      <td>02 - PARTICULARES</td>\n",
              "    </tr>\n",
              "    <tr>\n",
              "      <th>freq</th>\n",
              "      <td>931453</td>\n",
              "      <td>13610977</td>\n",
              "      <td>13553710</td>\n",
              "      <td>7424252</td>\n",
              "      <td>542682</td>\n",
              "      <td>57389</td>\n",
              "      <td>134335</td>\n",
              "      <td>763</td>\n",
              "      <td>7277607.0</td>\n",
              "      <td>7304875</td>\n",
              "      <td>13553711</td>\n",
              "      <td>12974839</td>\n",
              "      <td>1791</td>\n",
              "      <td>4055270</td>\n",
              "      <td>13584813</td>\n",
              "      <td>4409600</td>\n",
              "      <td>7960220</td>\n",
              "    </tr>\n",
              "  </tbody>\n",
              "</table>\n",
              "</div>"
            ],
            "text/plain": [
              "        fecha_dato ind_empleado  ...   nomprov           segmento\n",
              "count     13647309     13619575  ...  13553718           13457941\n",
              "unique          17            5  ...        52                  3\n",
              "top     2016-05-28            N  ...    MADRID  02 - PARTICULARES\n",
              "freq        931453     13610977  ...   4409600            7960220\n",
              "\n",
              "[4 rows x 17 columns]"
            ]
          },
          "metadata": {
            "tags": []
          },
          "execution_count": 17
        }
      ]
    },
    {
      "cell_type": "code",
      "metadata": {
        "id": "j7EVALr84LjE",
        "colab_type": "code",
        "colab": {}
      },
      "source": [
        "# 수치형 변수가 범주형 변수로 분류 되어있을때"
      ],
      "execution_count": 0,
      "outputs": []
    },
    {
      "cell_type": "code",
      "metadata": {
        "id": "KHHiGfAd4pZK",
        "colab_type": "code",
        "colab": {
          "base_uri": "https://localhost:8080/",
          "height": 1000
        },
        "outputId": "1dad19a9-4d34-4bc9-841b-70678debb89d"
      },
      "source": [
        "for col in cat_cols:\n",
        "  uniq = np.unique(trn[col].astype(str))\n",
        "  print('-'*50)\n",
        "  print('# col {}, n_uniq {}, uniq {}'. format(col,len(uniq), uniq))"
      ],
      "execution_count": 18,
      "outputs": [
        {
          "output_type": "stream",
          "text": [
            "--------------------------------------------------\n",
            "# col fecha_dato, n_uniq 17, uniq ['2015-01-28' '2015-02-28' '2015-03-28' '2015-04-28' '2015-05-28'\n",
            " '2015-06-28' '2015-07-28' '2015-08-28' '2015-09-28' '2015-10-28'\n",
            " '2015-11-28' '2015-12-28' '2016-01-28' '2016-02-28' '2016-03-28'\n",
            " '2016-04-28' '2016-05-28']\n",
            "--------------------------------------------------\n",
            "# col ind_empleado, n_uniq 6, uniq ['A' 'B' 'F' 'N' 'S' 'nan']\n",
            "--------------------------------------------------\n",
            "# col pais_residencia, n_uniq 119, uniq ['AD' 'AE' 'AL' 'AO' 'AR' 'AT' 'AU' 'BA' 'BE' 'BG' 'BM' 'BO' 'BR' 'BY'\n",
            " 'BZ' 'CA' 'CD' 'CF' 'CG' 'CH' 'CI' 'CL' 'CM' 'CN' 'CO' 'CR' 'CU' 'CZ'\n",
            " 'DE' 'DJ' 'DK' 'DO' 'DZ' 'EC' 'EE' 'EG' 'ES' 'ET' 'FI' 'FR' 'GA' 'GB'\n",
            " 'GE' 'GH' 'GI' 'GM' 'GN' 'GQ' 'GR' 'GT' 'GW' 'HK' 'HN' 'HR' 'HU' 'IE'\n",
            " 'IL' 'IN' 'IS' 'IT' 'JM' 'JP' 'KE' 'KH' 'KR' 'KW' 'KZ' 'LB' 'LT' 'LU'\n",
            " 'LV' 'LY' 'MA' 'MD' 'MK' 'ML' 'MM' 'MR' 'MT' 'MX' 'MZ' 'NG' 'NI' 'NL'\n",
            " 'NO' 'NZ' 'OM' 'PA' 'PE' 'PH' 'PK' 'PL' 'PR' 'PT' 'PY' 'QA' 'RO' 'RS'\n",
            " 'RU' 'SA' 'SE' 'SG' 'SK' 'SL' 'SN' 'SV' 'TG' 'TH' 'TN' 'TR' 'TW' 'UA'\n",
            " 'US' 'UY' 'VE' 'VN' 'ZA' 'ZW' 'nan']\n",
            "--------------------------------------------------\n",
            "# col sexo, n_uniq 3, uniq ['H' 'V' 'nan']\n",
            "--------------------------------------------------\n",
            "# col age, n_uniq 219, uniq ['  2' '  3' '  4' '  5' '  6' '  7' '  8' '  9' ' 10' ' 11' ' 12' ' 13'\n",
            " ' 14' ' 15' ' 16' ' 17' ' 18' ' 19' ' 20' ' 21' ' 22' ' 23' ' 24' ' 25'\n",
            " ' 26' ' 27' ' 28' ' 29' ' 30' ' 31' ' 32' ' 33' ' 34' ' 35' ' 36' ' 37'\n",
            " ' 38' ' 39' ' 40' ' 41' ' 42' ' 43' ' 44' ' 45' ' 46' ' 47' ' 48' ' 49'\n",
            " ' 50' ' 51' ' 52' ' 53' ' 54' ' 55' ' 56' ' 57' ' 58' ' 59' ' 60' ' 61'\n",
            " ' 62' ' 63' ' 64' ' 65' ' 66' ' 67' ' 68' ' 69' ' 70' ' 71' ' 72' ' 73'\n",
            " ' 74' ' 75' ' 76' ' 77' ' 78' ' 79' ' 80' ' 81' ' 82' ' 83' ' 84' ' 85'\n",
            " ' 86' ' 87' ' 88' ' 89' ' 90' ' 91' ' 92' ' 93' ' 94' ' 95' ' 96' ' 97'\n",
            " ' 98' ' 99' ' NA' '10' '100' '101' '102' '103' '104' '105' '106' '107'\n",
            " '108' '109' '11' '110' '111' '112' '113' '114' '115' '116' '117' '12'\n",
            " '126' '127' '13' '14' '15' '16' '163' '164' '17' '18' '19' '2' '20' '21'\n",
            " '22' '23' '24' '25' '26' '27' '28' '29' '3' '30' '31' '32' '33' '34' '35'\n",
            " '36' '37' '38' '39' '4' '40' '41' '42' '43' '44' '45' '46' '47' '48' '49'\n",
            " '5' '50' '51' '52' '53' '54' '55' '56' '57' '58' '59' '6' '60' '61' '62'\n",
            " '63' '64' '65' '66' '67' '68' '69' '7' '70' '71' '72' '73' '74' '75' '76'\n",
            " '77' '78' '79' '8' '80' '81' '82' '83' '84' '85' '86' '87' '88' '89' '9'\n",
            " '90' '91' '92' '93' '94' '95' '96' '97' '98' '99']\n",
            "--------------------------------------------------\n",
            "# col fecha_alta, n_uniq 6757, uniq ['1995-01-16' '1995-01-17' '1995-01-23' ... '2016-05-30' '2016-05-31'\n",
            " 'nan']\n",
            "--------------------------------------------------\n",
            "# col antiguedad, n_uniq 506, uniq ['      0' '      1' '      2' '      3' '      4' '      5' '      6'\n",
            " '      7' '      8' '      9' '     10' '     11' '     12' '     13'\n",
            " '     14' '     15' '     16' '     17' '     18' '     19' '     20'\n",
            " '     21' '     22' '     23' '     24' '     25' '     26' '     27'\n",
            " '     28' '     29' '     30' '     31' '     32' '     33' '     34'\n",
            " '     35' '     36' '     37' '     38' '     39' '     40' '     41'\n",
            " '     42' '     43' '     44' '     45' '     46' '     47' '     48'\n",
            " '     49' '     50' '     51' '     52' '     53' '     54' '     55'\n",
            " '     56' '     57' '     58' '     59' '     60' '     61' '     62'\n",
            " '     63' '     64' '     65' '     66' '     67' '     68' '     69'\n",
            " '     70' '     71' '     72' '     73' '     74' '     75' '     76'\n",
            " '     77' '     78' '     79' '     80' '     81' '     82' '     83'\n",
            " '     84' '     85' '     86' '     87' '     88' '     89' '     90'\n",
            " '     91' '     92' '     93' '     94' '     95' '     96' '     97'\n",
            " '     98' '     99' '     NA' '    100' '    101' '    102' '    103'\n",
            " '    104' '    105' '    106' '    107' '    108' '    109' '    110'\n",
            " '    111' '    112' '    113' '    114' '    115' '    116' '    117'\n",
            " '    118' '    119' '    120' '    121' '    122' '    123' '    124'\n",
            " '    125' '    126' '    127' '    128' '    129' '    130' '    131'\n",
            " '    132' '    133' '    134' '    135' '    136' '    137' '    138'\n",
            " '    139' '    140' '    141' '    142' '    143' '    144' '    145'\n",
            " '    146' '    147' '    148' '    149' '    150' '    151' '    152'\n",
            " '    153' '    154' '    155' '    156' '    157' '    158' '    159'\n",
            " '    160' '    161' '    162' '    163' '    164' '    165' '    166'\n",
            " '    167' '    168' '    169' '    170' '    171' '    172' '    173'\n",
            " '    174' '    175' '    176' '    177' '    178' '    179' '    180'\n",
            " '    181' '    182' '    183' '    184' '    185' '    186' '    187'\n",
            " '    188' '    189' '    190' '    191' '    192' '    193' '    194'\n",
            " '    195' '    196' '    197' '    198' '    199' '    200' '    201'\n",
            " '    202' '    203' '    204' '    205' '    206' '    207' '    208'\n",
            " '    209' '    210' '    211' '    212' '    213' '    214' '    215'\n",
            " '    216' '    217' '    218' '    219' '    220' '    221' '    222'\n",
            " '    223' '    224' '    225' '    226' '    227' '    228' '    229'\n",
            " '    230' '    231' '    232' '    233' '    234' '    235' '    236'\n",
            " '    237' '    238' '    239' '    240' '    241' '    242' '    243'\n",
            " '    244' '    245' '    246' '-999999' '0' '1' '10' '100' '101' '102'\n",
            " '103' '104' '105' '106' '107' '108' '109' '11' '110' '111' '112' '113'\n",
            " '114' '115' '116' '117' '118' '119' '12' '120' '121' '122' '123' '124'\n",
            " '125' '126' '127' '128' '129' '13' '130' '131' '132' '133' '134' '135'\n",
            " '136' '137' '138' '139' '14' '140' '141' '142' '143' '144' '145' '146'\n",
            " '147' '148' '149' '15' '150' '151' '152' '153' '154' '155' '156' '157'\n",
            " '158' '159' '16' '160' '161' '162' '163' '164' '165' '166' '167' '168'\n",
            " '169' '17' '170' '171' '172' '173' '174' '175' '176' '177' '178' '179'\n",
            " '18' '180' '181' '182' '183' '184' '185' '186' '187' '188' '189' '19'\n",
            " '190' '191' '192' '193' '194' '195' '196' '197' '198' '199' '2' '20'\n",
            " '200' '201' '202' '203' '204' '205' '206' '207' '208' '209' '21' '210'\n",
            " '211' '212' '213' '214' '215' '216' '217' '218' '219' '22' '220' '221'\n",
            " '222' '223' '224' '225' '226' '227' '228' '229' '23' '230' '231' '232'\n",
            " '233' '234' '235' '236' '237' '238' '239' '24' '240' '241' '242' '243'\n",
            " '244' '245' '246' '247' '248' '249' '25' '250' '251' '252' '253' '254'\n",
            " '255' '256' '26' '27' '28' '29' '3' '30' '31' '32' '33' '34' '35' '36'\n",
            " '37' '38' '39' '4' '40' '41' '42' '43' '44' '45' '46' '47' '48' '49' '5'\n",
            " '50' '51' '52' '53' '54' '55' '56' '57' '58' '59' '6' '60' '61' '62' '63'\n",
            " '64' '65' '66' '67' '68' '69' '7' '70' '71' '72' '73' '74' '75' '76' '77'\n",
            " '78' '79' '8' '80' '81' '82' '83' '84' '85' '86' '87' '88' '89' '9' '90'\n",
            " '91' '92' '93' '94' '95' '96' '97' '98' '99']\n",
            "--------------------------------------------------\n",
            "# col ult_fec_cli_1t, n_uniq 224, uniq ['2015-07-01' '2015-07-02' '2015-07-03' '2015-07-06' '2015-07-07'\n",
            " '2015-07-08' '2015-07-09' '2015-07-10' '2015-07-13' '2015-07-14'\n",
            " '2015-07-15' '2015-07-16' '2015-07-17' '2015-07-20' '2015-07-21'\n",
            " '2015-07-22' '2015-07-23' '2015-07-24' '2015-07-27' '2015-07-28'\n",
            " '2015-07-29' '2015-07-30' '2015-08-03' '2015-08-04' '2015-08-05'\n",
            " '2015-08-06' '2015-08-07' '2015-08-10' '2015-08-11' '2015-08-12'\n",
            " '2015-08-13' '2015-08-14' '2015-08-17' '2015-08-18' '2015-08-19'\n",
            " '2015-08-20' '2015-08-21' '2015-08-24' '2015-08-25' '2015-08-26'\n",
            " '2015-08-27' '2015-08-28' '2015-09-01' '2015-09-02' '2015-09-03'\n",
            " '2015-09-04' '2015-09-07' '2015-09-08' '2015-09-09' '2015-09-10'\n",
            " '2015-09-11' '2015-09-14' '2015-09-15' '2015-09-16' '2015-09-17'\n",
            " '2015-09-18' '2015-09-21' '2015-09-22' '2015-09-23' '2015-09-24'\n",
            " '2015-09-25' '2015-09-28' '2015-09-29' '2015-10-01' '2015-10-02'\n",
            " '2015-10-05' '2015-10-06' '2015-10-07' '2015-10-08' '2015-10-09'\n",
            " '2015-10-13' '2015-10-14' '2015-10-15' '2015-10-16' '2015-10-19'\n",
            " '2015-10-20' '2015-10-21' '2015-10-22' '2015-10-23' '2015-10-26'\n",
            " '2015-10-27' '2015-10-28' '2015-10-29' '2015-11-02' '2015-11-03'\n",
            " '2015-11-04' '2015-11-05' '2015-11-06' '2015-11-09' '2015-11-10'\n",
            " '2015-11-11' '2015-11-12' '2015-11-13' '2015-11-16' '2015-11-17'\n",
            " '2015-11-18' '2015-11-19' '2015-11-20' '2015-11-23' '2015-11-24'\n",
            " '2015-11-25' '2015-11-26' '2015-11-27' '2015-12-01' '2015-12-02'\n",
            " '2015-12-03' '2015-12-04' '2015-12-07' '2015-12-09' '2015-12-10'\n",
            " '2015-12-11' '2015-12-14' '2015-12-15' '2015-12-16' '2015-12-17'\n",
            " '2015-12-18' '2015-12-21' '2015-12-22' '2015-12-23' '2015-12-24'\n",
            " '2015-12-28' '2015-12-29' '2015-12-30' '2016-01-04' '2016-01-05'\n",
            " '2016-01-07' '2016-01-08' '2016-01-11' '2016-01-12' '2016-01-13'\n",
            " '2016-01-14' '2016-01-15' '2016-01-18' '2016-01-19' '2016-01-20'\n",
            " '2016-01-21' '2016-01-22' '2016-01-25' '2016-01-26' '2016-01-27'\n",
            " '2016-01-28' '2016-02-01' '2016-02-02' '2016-02-03' '2016-02-04'\n",
            " '2016-02-05' '2016-02-08' '2016-02-09' '2016-02-10' '2016-02-11'\n",
            " '2016-02-12' '2016-02-15' '2016-02-16' '2016-02-17' '2016-02-18'\n",
            " '2016-02-19' '2016-02-22' '2016-02-23' '2016-02-24' '2016-02-25'\n",
            " '2016-02-26' '2016-03-01' '2016-03-02' '2016-03-03' '2016-03-04'\n",
            " '2016-03-07' '2016-03-08' '2016-03-09' '2016-03-10' '2016-03-11'\n",
            " '2016-03-14' '2016-03-15' '2016-03-16' '2016-03-17' '2016-03-18'\n",
            " '2016-03-21' '2016-03-22' '2016-03-23' '2016-03-24' '2016-03-28'\n",
            " '2016-03-29' '2016-03-30' '2016-04-01' '2016-04-04' '2016-04-05'\n",
            " '2016-04-06' '2016-04-07' '2016-04-08' '2016-04-11' '2016-04-12'\n",
            " '2016-04-13' '2016-04-14' '2016-04-15' '2016-04-18' '2016-04-19'\n",
            " '2016-04-20' '2016-04-21' '2016-04-22' '2016-04-25' '2016-04-26'\n",
            " '2016-04-27' '2016-04-28' '2016-05-02' '2016-05-03' '2016-05-04'\n",
            " '2016-05-05' '2016-05-06' '2016-05-09' '2016-05-10' '2016-05-11'\n",
            " '2016-05-12' '2016-05-13' '2016-05-16' '2016-05-17' '2016-05-18'\n",
            " '2016-05-19' '2016-05-20' '2016-05-23' '2016-05-24' '2016-05-25'\n",
            " '2016-05-26' '2016-05-27' '2016-05-30' 'nan']\n",
            "--------------------------------------------------\n",
            "# col indrel_1mes, n_uniq 10, uniq ['1' '1.0' '2' '2.0' '3' '3.0' '4' '4.0' 'P' 'nan']\n",
            "--------------------------------------------------\n",
            "# col tiprel_1mes, n_uniq 6, uniq ['A' 'I' 'N' 'P' 'R' 'nan']\n",
            "--------------------------------------------------\n",
            "# col indresi, n_uniq 3, uniq ['N' 'S' 'nan']\n",
            "--------------------------------------------------\n",
            "# col indext, n_uniq 3, uniq ['N' 'S' 'nan']\n",
            "--------------------------------------------------\n",
            "# col conyuemp, n_uniq 3, uniq ['N' 'S' 'nan']\n",
            "--------------------------------------------------\n",
            "# col canal_entrada, n_uniq 163, uniq ['004' '007' '013' '025' 'K00' 'KAA' 'KAB' 'KAC' 'KAD' 'KAE' 'KAF' 'KAG'\n",
            " 'KAH' 'KAI' 'KAJ' 'KAK' 'KAL' 'KAM' 'KAN' 'KAO' 'KAP' 'KAQ' 'KAR' 'KAS'\n",
            " 'KAT' 'KAU' 'KAV' 'KAW' 'KAY' 'KAZ' 'KBB' 'KBD' 'KBE' 'KBF' 'KBG' 'KBH'\n",
            " 'KBJ' 'KBL' 'KBM' 'KBN' 'KBO' 'KBP' 'KBQ' 'KBR' 'KBS' 'KBU' 'KBV' 'KBW'\n",
            " 'KBX' 'KBY' 'KBZ' 'KCA' 'KCB' 'KCC' 'KCD' 'KCE' 'KCF' 'KCG' 'KCH' 'KCI'\n",
            " 'KCJ' 'KCK' 'KCL' 'KCM' 'KCN' 'KCO' 'KCP' 'KCQ' 'KCR' 'KCS' 'KCT' 'KCU'\n",
            " 'KCV' 'KCX' 'KDA' 'KDB' 'KDC' 'KDD' 'KDE' 'KDF' 'KDG' 'KDH' 'KDI' 'KDL'\n",
            " 'KDM' 'KDN' 'KDO' 'KDP' 'KDQ' 'KDR' 'KDS' 'KDT' 'KDU' 'KDV' 'KDW' 'KDX'\n",
            " 'KDY' 'KDZ' 'KEA' 'KEB' 'KEC' 'KED' 'KEE' 'KEF' 'KEG' 'KEH' 'KEI' 'KEJ'\n",
            " 'KEK' 'KEL' 'KEM' 'KEN' 'KEO' 'KEQ' 'KES' 'KEU' 'KEV' 'KEW' 'KEY' 'KEZ'\n",
            " 'KFA' 'KFB' 'KFC' 'KFD' 'KFE' 'KFF' 'KFG' 'KFH' 'KFI' 'KFJ' 'KFK' 'KFL'\n",
            " 'KFM' 'KFN' 'KFP' 'KFR' 'KFS' 'KFT' 'KFU' 'KFV' 'KGC' 'KGN' 'KGU' 'KGV'\n",
            " 'KGW' 'KGX' 'KGY' 'KHA' 'KHC' 'KHD' 'KHE' 'KHF' 'KHK' 'KHL' 'KHM' 'KHN'\n",
            " 'KHO' 'KHP' 'KHQ' 'KHR' 'KHS' 'RED' 'nan']\n",
            "--------------------------------------------------\n",
            "# col indfall, n_uniq 3, uniq ['N' 'S' 'nan']\n",
            "--------------------------------------------------\n",
            "# col nomprov, n_uniq 53, uniq ['ALAVA' 'ALBACETE' 'ALICANTE' 'ALMERIA' 'ASTURIAS' 'AVILA' 'BADAJOZ'\n",
            " 'BALEARS, ILLES' 'BARCELONA' 'BIZKAIA' 'BURGOS' 'CACERES' 'CADIZ'\n",
            " 'CANTABRIA' 'CASTELLON' 'CEUTA' 'CIUDAD REAL' 'CORDOBA' 'CORU횗A, A'\n",
            " 'CUENCA' 'GIPUZKOA' 'GIRONA' 'GRANADA' 'GUADALAJARA' 'HUELVA' 'HUESCA'\n",
            " 'JAEN' 'LEON' 'LERIDA' 'LUGO' 'MADRID' 'MALAGA' 'MELILLA' 'MURCIA'\n",
            " 'NAVARRA' 'OURENSE' 'PALENCIA' 'PALMAS, LAS' 'PONTEVEDRA' 'RIOJA, LA'\n",
            " 'SALAMANCA' 'SANTA CRUZ DE TENERIFE' 'SEGOVIA' 'SEVILLA' 'SORIA'\n",
            " 'TARRAGONA' 'TERUEL' 'TOLEDO' 'VALENCIA' 'VALLADOLID' 'ZAMORA' 'ZARAGOZA'\n",
            " 'nan']\n",
            "--------------------------------------------------\n",
            "# col segmento, n_uniq 4, uniq ['01 - TOP' '02 - PARTICULARES' '03 - UNIVERSITARIO' 'nan']\n"
          ],
          "name": "stdout"
        }
      ]
    },
    {
      "cell_type": "markdown",
      "metadata": {
        "id": "kFsS_ySOdJmI",
        "colab_type": "text"
      },
      "source": [
        "#**데이터 시각화**"
      ]
    },
    {
      "cell_type": "code",
      "metadata": {
        "id": "5E0BZeBD4pRn",
        "colab_type": "code",
        "colab": {}
      },
      "source": [
        "import matplotlib\n",
        "import matplotlib.pyplot as plt\n",
        "%matplotlib inline\n",
        "import seaborn as sns"
      ],
      "execution_count": 0,
      "outputs": []
    },
    {
      "cell_type": "code",
      "metadata": {
        "id": "oo5HWQy24pL0",
        "colab_type": "code",
        "colab": {}
      },
      "source": [
        "# 재품변수 24개와 고객변수24개  총 48개의 변수 시각화 "
      ],
      "execution_count": 0,
      "outputs": []
    },
    {
      "cell_type": "code",
      "metadata": {
        "id": "3YSfsQQU4pDf",
        "colab_type": "code",
        "colab": {}
      },
      "source": [
        "skip_cols = ['ncodpers', 'renta']\n",
        "for col in trn.columns: \n",
        "  # 시간이 많이걸리는 변수 skip\n",
        "  if col in skip_cols:\n",
        "    continue"
      ],
      "execution_count": 0,
      "outputs": []
    },
    {
      "cell_type": "code",
      "metadata": {
        "id": "HDpFM3AO4o9B",
        "colab_type": "code",
        "colab": {
          "base_uri": "https://localhost:8080/",
          "height": 53
        },
        "outputId": "2e7c0557-9aa0-4b6c-e27e-11445b218b53"
      },
      "source": [
        "# 보기편하게  영역구분과 변수명을 출력한다.\n",
        "print('-' *50)\n",
        "print('col: ',col)"
      ],
      "execution_count": 15,
      "outputs": [
        {
          "output_type": "stream",
          "text": [
            "--------------------------------------------------\n",
            "col:  ind_recibo_ult1\n"
          ],
          "name": "stdout"
        }
      ]
    },
    {
      "cell_type": "code",
      "metadata": {
        "id": "bier8yrs4o3k",
        "colab_type": "code",
        "colab": {
          "base_uri": "https://localhost:8080/",
          "height": 889
        },
        "outputId": "2dff430c-ccc7-4462-f16a-27e9c8fb35f3"
      },
      "source": [
        "#그래프 크기를 (figsize)) 설정.\n",
        "f, ax = plt.subplots(figsize = (20,15))\n",
        "#seaborn을 사용한 막대 그래프를 생성한다.\n",
        "sns.countplot(x = col, data = trn ,alpha = 0.5)\n",
        "#show() 함수를 통해 시각화 한다 . \n",
        "plt.show()"
      ],
      "execution_count": 20,
      "outputs": [
        {
          "output_type": "display_data",
          "data": {
            "image/png": "[encoded data removed]",
            "text/plain": [
              "<Figure size 1440x1080 with 1 Axes>"
            ]
          },
          "metadata": {
            "tags": []
          }
        }
      ]
    },
    {
      "cell_type": "code",
      "metadata": {
        "id": "INuXpGUT4o1l",
        "colab_type": "code",
        "colab": {}
      },
      "source": [
        ""
      ],
      "execution_count": 0,
      "outputs": []
    },
    {
      "cell_type": "code",
      "metadata": {
        "id": "2p0jbNTW4oqU",
        "colab_type": "code",
        "colab": {}
      },
      "source": [
        ""
      ],
      "execution_count": 0,
      "outputs": []
    },
    {
      "cell_type": "code",
      "metadata": {
        "id": "oeLo7Buq4ojP",
        "colab_type": "code",
        "colab": {}
      },
      "source": [
        ""
      ],
      "execution_count": 0,
      "outputs": []
    },
    {
      "cell_type": "code",
      "metadata": {
        "id": "fQjDWf8g4ocf",
        "colab_type": "code",
        "colab": {}
      },
      "source": [
        ""
      ],
      "execution_count": 0,
      "outputs": []
    },
    {
      "cell_type": "code",
      "metadata": {
        "id": "T2BNh4eJ4oWC",
        "colab_type": "code",
        "colab": {}
      },
      "source": [
        ""
      ],
      "execution_count": 0,
      "outputs": []
    },
    {
      "cell_type": "code",
      "metadata": {
        "id": "45I0nyRS4oPb",
        "colab_type": "code",
        "colab": {}
      },
      "source": [
        ""
      ],
      "execution_count": 0,
      "outputs": []
    },
    {
      "cell_type": "code",
      "metadata": {
        "id": "oQZ48hIZ4oJE",
        "colab_type": "code",
        "colab": {}
      },
      "source": [
        ""
      ],
      "execution_count": 0,
      "outputs": []
    },
    {
      "cell_type": "code",
      "metadata": {
        "id": "sGFYrTyq4oBR",
        "colab_type": "code",
        "colab": {}
      },
      "source": [
        ""
      ],
      "execution_count": 0,
      "outputs": []
    },
    {
      "cell_type": "code",
      "metadata": {
        "id": "XAvEdtno4n5l",
        "colab_type": "code",
        "colab": {}
      },
      "source": [
        ""
      ],
      "execution_count": 0,
      "outputs": []
    },
    {
      "cell_type": "code",
      "metadata": {
        "id": "Gq3AjzIO4nyN",
        "colab_type": "code",
        "colab": {}
      },
      "source": [
        ""
      ],
      "execution_count": 0,
      "outputs": []
    },
    {
      "cell_type": "code",
      "metadata": {
        "id": "Otqd32aV4nqi",
        "colab_type": "code",
        "colab": {}
      },
      "source": [
        ""
      ],
      "execution_count": 0,
      "outputs": []
    },
    {
      "cell_type": "code",
      "metadata": {
        "id": "xb1BMjFl4nja",
        "colab_type": "code",
        "colab": {}
      },
      "source": [
        ""
      ],
      "execution_count": 0,
      "outputs": []
    },
    {
      "cell_type": "code",
      "metadata": {
        "id": "aDEVxBU34nb3",
        "colab_type": "code",
        "colab": {}
      },
      "source": [
        ""
      ],
      "execution_count": 0,
      "outputs": []
    },
    {
      "cell_type": "code",
      "metadata": {
        "id": "Hwl0gIg_4nTU",
        "colab_type": "code",
        "colab": {}
      },
      "source": [
        ""
      ],
      "execution_count": 0,
      "outputs": []
    },
    {
      "cell_type": "code",
      "metadata": {
        "id": "_BIM3lHO4nBt",
        "colab_type": "code",
        "colab": {}
      },
      "source": [
        ""
      ],
      "execution_count": 0,
      "outputs": []
    }
  ]
}