{
 "cells": [
  {
   "cell_type": "code",
   "execution_count": 1,
   "metadata": {
    "ExecuteTime": {
     "end_time": "2020-03-25T12:54:07.183607Z",
     "start_time": "2020-03-25T12:54:07.176605Z"
    }
   },
   "outputs": [],
   "source": [
    "def Gini(actual, pred):\n",
    "    assert (len(actual) == len(pred))\n",
    "    all = np.asarray(np.c_[actual, pred, np.arange(len(actual))], dtype=np.float)\n",
    "    all = all[np.lexsort((all[:, 2], -1 * all[:, 1]))]\n",
    "    totalLosses = all[:, 0].sum()\n",
    "    GiniSum = all[:, 0].cumsum().sum() / totalLosses\n",
    "\n",
    "    GiniSum -= (len(actual) + 1) / 2.\n",
    "    return GiniSum / len(actual)\n",
    "\n",
    "\n",
    "def Gini_normalized(actual, pred):\n",
    "    return Gini(actual, pred) / Gini(actual, actual)"
   ]
  },
  {
   "cell_type": "code",
   "execution_count": 2,
   "metadata": {
    "ExecuteTime": {
     "end_time": "2020-03-25T12:54:10.027882Z",
     "start_time": "2020-03-25T12:54:07.185607Z"
    }
   },
   "outputs": [],
   "source": [
    "import pandas as pd\n",
    "\n",
    "# 훈련/테스트 데이터를 읽어온다\n",
    "train = pd.read_csv(\"../input/train.csv\")\n",
    "train_label = train['target']\n",
    "train_id = train['id']"
   ]
  },
  {
   "cell_type": "code",
   "execution_count": 3,
   "metadata": {
    "ExecuteTime": {
     "end_time": "2020-03-25T12:54:10.234929Z",
     "start_time": "2020-03-25T12:54:10.029882Z"
    }
   },
   "outputs": [
    {
     "data": {
      "text/html": [
       "<div>\n",
       "<style scoped>\n",
       "    .dataframe tbody tr th:only-of-type {\n",
       "        vertical-align: middle;\n",
       "    }\n",
       "\n",
       "    .dataframe tbody tr th {\n",
       "        vertical-align: top;\n",
       "    }\n",
       "\n",
       "    .dataframe thead th {\n",
       "        text-align: right;\n",
       "    }\n",
       "</style>\n",
       "<table border=\"1\" class=\"dataframe\">\n",
       "  <thead>\n",
       "    <tr style=\"text-align: right;\">\n",
       "      <th></th>\n",
       "      <th>id</th>\n",
       "      <th>target</th>\n",
       "      <th>ps_ind_01</th>\n",
       "      <th>ps_ind_02_cat</th>\n",
       "      <th>ps_ind_03</th>\n",
       "      <th>ps_ind_04_cat</th>\n",
       "      <th>ps_ind_05_cat</th>\n",
       "      <th>ps_ind_06_bin</th>\n",
       "      <th>ps_ind_07_bin</th>\n",
       "      <th>ps_ind_08_bin</th>\n",
       "      <th>...</th>\n",
       "      <th>ps_calc_11</th>\n",
       "      <th>ps_calc_12</th>\n",
       "      <th>ps_calc_13</th>\n",
       "      <th>ps_calc_14</th>\n",
       "      <th>ps_calc_15_bin</th>\n",
       "      <th>ps_calc_16_bin</th>\n",
       "      <th>ps_calc_17_bin</th>\n",
       "      <th>ps_calc_18_bin</th>\n",
       "      <th>ps_calc_19_bin</th>\n",
       "      <th>ps_calc_20_bin</th>\n",
       "    </tr>\n",
       "  </thead>\n",
       "  <tbody>\n",
       "    <tr>\n",
       "      <th>0</th>\n",
       "      <td>7</td>\n",
       "      <td>0</td>\n",
       "      <td>2</td>\n",
       "      <td>2</td>\n",
       "      <td>5</td>\n",
       "      <td>1</td>\n",
       "      <td>0</td>\n",
       "      <td>0</td>\n",
       "      <td>1</td>\n",
       "      <td>0</td>\n",
       "      <td>...</td>\n",
       "      <td>9</td>\n",
       "      <td>1</td>\n",
       "      <td>5</td>\n",
       "      <td>8</td>\n",
       "      <td>0</td>\n",
       "      <td>1</td>\n",
       "      <td>1</td>\n",
       "      <td>0</td>\n",
       "      <td>0</td>\n",
       "      <td>1</td>\n",
       "    </tr>\n",
       "    <tr>\n",
       "      <th>1</th>\n",
       "      <td>9</td>\n",
       "      <td>0</td>\n",
       "      <td>1</td>\n",
       "      <td>1</td>\n",
       "      <td>7</td>\n",
       "      <td>0</td>\n",
       "      <td>0</td>\n",
       "      <td>0</td>\n",
       "      <td>0</td>\n",
       "      <td>1</td>\n",
       "      <td>...</td>\n",
       "      <td>3</td>\n",
       "      <td>1</td>\n",
       "      <td>1</td>\n",
       "      <td>9</td>\n",
       "      <td>0</td>\n",
       "      <td>1</td>\n",
       "      <td>1</td>\n",
       "      <td>0</td>\n",
       "      <td>1</td>\n",
       "      <td>0</td>\n",
       "    </tr>\n",
       "    <tr>\n",
       "      <th>2</th>\n",
       "      <td>13</td>\n",
       "      <td>0</td>\n",
       "      <td>5</td>\n",
       "      <td>4</td>\n",
       "      <td>9</td>\n",
       "      <td>1</td>\n",
       "      <td>0</td>\n",
       "      <td>0</td>\n",
       "      <td>0</td>\n",
       "      <td>1</td>\n",
       "      <td>...</td>\n",
       "      <td>4</td>\n",
       "      <td>2</td>\n",
       "      <td>7</td>\n",
       "      <td>7</td>\n",
       "      <td>0</td>\n",
       "      <td>1</td>\n",
       "      <td>1</td>\n",
       "      <td>0</td>\n",
       "      <td>1</td>\n",
       "      <td>0</td>\n",
       "    </tr>\n",
       "    <tr>\n",
       "      <th>3</th>\n",
       "      <td>16</td>\n",
       "      <td>0</td>\n",
       "      <td>0</td>\n",
       "      <td>1</td>\n",
       "      <td>2</td>\n",
       "      <td>0</td>\n",
       "      <td>0</td>\n",
       "      <td>1</td>\n",
       "      <td>0</td>\n",
       "      <td>0</td>\n",
       "      <td>...</td>\n",
       "      <td>2</td>\n",
       "      <td>2</td>\n",
       "      <td>4</td>\n",
       "      <td>9</td>\n",
       "      <td>0</td>\n",
       "      <td>0</td>\n",
       "      <td>0</td>\n",
       "      <td>0</td>\n",
       "      <td>0</td>\n",
       "      <td>0</td>\n",
       "    </tr>\n",
       "    <tr>\n",
       "      <th>4</th>\n",
       "      <td>17</td>\n",
       "      <td>0</td>\n",
       "      <td>0</td>\n",
       "      <td>2</td>\n",
       "      <td>0</td>\n",
       "      <td>1</td>\n",
       "      <td>0</td>\n",
       "      <td>1</td>\n",
       "      <td>0</td>\n",
       "      <td>0</td>\n",
       "      <td>...</td>\n",
       "      <td>3</td>\n",
       "      <td>1</td>\n",
       "      <td>1</td>\n",
       "      <td>3</td>\n",
       "      <td>0</td>\n",
       "      <td>0</td>\n",
       "      <td>0</td>\n",
       "      <td>1</td>\n",
       "      <td>1</td>\n",
       "      <td>0</td>\n",
       "    </tr>\n",
       "    <tr>\n",
       "      <th>...</th>\n",
       "      <td>...</td>\n",
       "      <td>...</td>\n",
       "      <td>...</td>\n",
       "      <td>...</td>\n",
       "      <td>...</td>\n",
       "      <td>...</td>\n",
       "      <td>...</td>\n",
       "      <td>...</td>\n",
       "      <td>...</td>\n",
       "      <td>...</td>\n",
       "      <td>...</td>\n",
       "      <td>...</td>\n",
       "      <td>...</td>\n",
       "      <td>...</td>\n",
       "      <td>...</td>\n",
       "      <td>...</td>\n",
       "      <td>...</td>\n",
       "      <td>...</td>\n",
       "      <td>...</td>\n",
       "      <td>...</td>\n",
       "      <td>...</td>\n",
       "    </tr>\n",
       "    <tr>\n",
       "      <th>595207</th>\n",
       "      <td>1488013</td>\n",
       "      <td>0</td>\n",
       "      <td>3</td>\n",
       "      <td>1</td>\n",
       "      <td>10</td>\n",
       "      <td>0</td>\n",
       "      <td>0</td>\n",
       "      <td>0</td>\n",
       "      <td>0</td>\n",
       "      <td>0</td>\n",
       "      <td>...</td>\n",
       "      <td>4</td>\n",
       "      <td>1</td>\n",
       "      <td>9</td>\n",
       "      <td>6</td>\n",
       "      <td>0</td>\n",
       "      <td>1</td>\n",
       "      <td>1</td>\n",
       "      <td>0</td>\n",
       "      <td>1</td>\n",
       "      <td>1</td>\n",
       "    </tr>\n",
       "    <tr>\n",
       "      <th>595208</th>\n",
       "      <td>1488016</td>\n",
       "      <td>0</td>\n",
       "      <td>5</td>\n",
       "      <td>1</td>\n",
       "      <td>3</td>\n",
       "      <td>0</td>\n",
       "      <td>0</td>\n",
       "      <td>0</td>\n",
       "      <td>0</td>\n",
       "      <td>0</td>\n",
       "      <td>...</td>\n",
       "      <td>4</td>\n",
       "      <td>1</td>\n",
       "      <td>3</td>\n",
       "      <td>8</td>\n",
       "      <td>1</td>\n",
       "      <td>0</td>\n",
       "      <td>1</td>\n",
       "      <td>0</td>\n",
       "      <td>1</td>\n",
       "      <td>1</td>\n",
       "    </tr>\n",
       "    <tr>\n",
       "      <th>595209</th>\n",
       "      <td>1488017</td>\n",
       "      <td>0</td>\n",
       "      <td>1</td>\n",
       "      <td>1</td>\n",
       "      <td>10</td>\n",
       "      <td>0</td>\n",
       "      <td>0</td>\n",
       "      <td>1</td>\n",
       "      <td>0</td>\n",
       "      <td>0</td>\n",
       "      <td>...</td>\n",
       "      <td>3</td>\n",
       "      <td>2</td>\n",
       "      <td>2</td>\n",
       "      <td>6</td>\n",
       "      <td>0</td>\n",
       "      <td>0</td>\n",
       "      <td>1</td>\n",
       "      <td>0</td>\n",
       "      <td>0</td>\n",
       "      <td>0</td>\n",
       "    </tr>\n",
       "    <tr>\n",
       "      <th>595210</th>\n",
       "      <td>1488021</td>\n",
       "      <td>0</td>\n",
       "      <td>5</td>\n",
       "      <td>2</td>\n",
       "      <td>3</td>\n",
       "      <td>1</td>\n",
       "      <td>0</td>\n",
       "      <td>0</td>\n",
       "      <td>0</td>\n",
       "      <td>1</td>\n",
       "      <td>...</td>\n",
       "      <td>4</td>\n",
       "      <td>1</td>\n",
       "      <td>4</td>\n",
       "      <td>2</td>\n",
       "      <td>0</td>\n",
       "      <td>1</td>\n",
       "      <td>1</td>\n",
       "      <td>1</td>\n",
       "      <td>0</td>\n",
       "      <td>0</td>\n",
       "    </tr>\n",
       "    <tr>\n",
       "      <th>595211</th>\n",
       "      <td>1488027</td>\n",
       "      <td>0</td>\n",
       "      <td>0</td>\n",
       "      <td>1</td>\n",
       "      <td>8</td>\n",
       "      <td>0</td>\n",
       "      <td>0</td>\n",
       "      <td>1</td>\n",
       "      <td>0</td>\n",
       "      <td>0</td>\n",
       "      <td>...</td>\n",
       "      <td>4</td>\n",
       "      <td>4</td>\n",
       "      <td>3</td>\n",
       "      <td>8</td>\n",
       "      <td>0</td>\n",
       "      <td>1</td>\n",
       "      <td>0</td>\n",
       "      <td>0</td>\n",
       "      <td>0</td>\n",
       "      <td>0</td>\n",
       "    </tr>\n",
       "  </tbody>\n",
       "</table>\n",
       "<p>595212 rows × 59 columns</p>\n",
       "</div>"
      ],
      "text/plain": [
       "             id  target  ps_ind_01  ps_ind_02_cat  ps_ind_03  ps_ind_04_cat  \\\n",
       "0             7       0          2              2          5              1   \n",
       "1             9       0          1              1          7              0   \n",
       "2            13       0          5              4          9              1   \n",
       "3            16       0          0              1          2              0   \n",
       "4            17       0          0              2          0              1   \n",
       "...         ...     ...        ...            ...        ...            ...   \n",
       "595207  1488013       0          3              1         10              0   \n",
       "595208  1488016       0          5              1          3              0   \n",
       "595209  1488017       0          1              1         10              0   \n",
       "595210  1488021       0          5              2          3              1   \n",
       "595211  1488027       0          0              1          8              0   \n",
       "\n",
       "        ps_ind_05_cat  ps_ind_06_bin  ps_ind_07_bin  ps_ind_08_bin  ...  \\\n",
       "0                   0              0              1              0  ...   \n",
       "1                   0              0              0              1  ...   \n",
       "2                   0              0              0              1  ...   \n",
       "3                   0              1              0              0  ...   \n",
       "4                   0              1              0              0  ...   \n",
       "...               ...            ...            ...            ...  ...   \n",
       "595207              0              0              0              0  ...   \n",
       "595208              0              0              0              0  ...   \n",
       "595209              0              1              0              0  ...   \n",
       "595210              0              0              0              1  ...   \n",
       "595211              0              1              0              0  ...   \n",
       "\n",
       "        ps_calc_11  ps_calc_12  ps_calc_13  ps_calc_14  ps_calc_15_bin  \\\n",
       "0                9           1           5           8               0   \n",
       "1                3           1           1           9               0   \n",
       "2                4           2           7           7               0   \n",
       "3                2           2           4           9               0   \n",
       "4                3           1           1           3               0   \n",
       "...            ...         ...         ...         ...             ...   \n",
       "595207           4           1           9           6               0   \n",
       "595208           4           1           3           8               1   \n",
       "595209           3           2           2           6               0   \n",
       "595210           4           1           4           2               0   \n",
       "595211           4           4           3           8               0   \n",
       "\n",
       "        ps_calc_16_bin  ps_calc_17_bin  ps_calc_18_bin  ps_calc_19_bin  \\\n",
       "0                    1               1               0               0   \n",
       "1                    1               1               0               1   \n",
       "2                    1               1               0               1   \n",
       "3                    0               0               0               0   \n",
       "4                    0               0               1               1   \n",
       "...                ...             ...             ...             ...   \n",
       "595207               1               1               0               1   \n",
       "595208               0               1               0               1   \n",
       "595209               0               1               0               0   \n",
       "595210               1               1               1               0   \n",
       "595211               1               0               0               0   \n",
       "\n",
       "        ps_calc_20_bin  \n",
       "0                    1  \n",
       "1                    0  \n",
       "2                    0  \n",
       "3                    0  \n",
       "4                    0  \n",
       "...                ...  \n",
       "595207               1  \n",
       "595208               1  \n",
       "595209               0  \n",
       "595210               0  \n",
       "595211               0  \n",
       "\n",
       "[595212 rows x 59 columns]"
      ]
     },
     "execution_count": 3,
     "metadata": {},
     "output_type": "execute_result"
    }
   ],
   "source": [
    "train"
   ]
  },
  {
   "cell_type": "code",
   "execution_count": 4,
   "metadata": {
    "ExecuteTime": {
     "end_time": "2020-03-25T12:54:10.242931Z",
     "start_time": "2020-03-25T12:54:10.236930Z"
    }
   },
   "outputs": [
    {
     "data": {
      "text/plain": [
       "0               7\n",
       "1               9\n",
       "2              13\n",
       "3              16\n",
       "4              17\n",
       "           ...   \n",
       "595207    1488013\n",
       "595208    1488016\n",
       "595209    1488017\n",
       "595210    1488021\n",
       "595211    1488027\n",
       "Name: id, Length: 595212, dtype: int64"
      ]
     },
     "execution_count": 4,
     "metadata": {},
     "output_type": "execute_result"
    }
   ],
   "source": [
    "train_id"
   ]
  },
  {
   "cell_type": "code",
   "execution_count": 5,
   "metadata": {
    "ExecuteTime": {
     "end_time": "2020-03-25T12:54:10.369959Z",
     "start_time": "2020-03-25T12:54:10.244931Z"
    }
   },
   "outputs": [],
   "source": [
    "del train['target'], train['id']"
   ]
  },
  {
   "cell_type": "code",
   "execution_count": 6,
   "metadata": {
    "ExecuteTime": {
     "end_time": "2020-03-25T12:54:13.584474Z",
     "start_time": "2020-03-25T12:54:10.370959Z"
    }
   },
   "outputs": [],
   "source": [
    "test = pd.read_csv(\"../input/test.csv\")\n",
    "test_id = test['id']\n",
    "del test['id']"
   ]
  },
  {
   "cell_type": "code",
   "execution_count": 7,
   "metadata": {
    "ExecuteTime": {
     "end_time": "2020-03-25T12:54:14.513685Z",
     "start_time": "2020-03-25T12:54:13.587476Z"
    }
   },
   "outputs": [],
   "source": [
    "# 파생 변수 01 : 결측값을 의미하는 “-1”의 개수를 센다\n",
    "train['missing'] = (train==-1).sum(axis=1).astype(float)\n",
    "test['missing'] = (test==-1).sum(axis=1).astype(float)"
   ]
  },
  {
   "cell_type": "code",
   "execution_count": 8,
   "metadata": {
    "ExecuteTime": {
     "end_time": "2020-03-25T12:54:14.521689Z",
     "start_time": "2020-03-25T12:54:14.516686Z"
    }
   },
   "outputs": [
    {
     "data": {
      "text/plain": [
       "0         1.0\n",
       "1         2.0\n",
       "2         3.0\n",
       "3         0.0\n",
       "4         2.0\n",
       "         ... \n",
       "595207    1.0\n",
       "595208    3.0\n",
       "595209    2.0\n",
       "595210    2.0\n",
       "595211    3.0\n",
       "Name: missing, Length: 595212, dtype: float64"
      ]
     },
     "execution_count": 8,
     "metadata": {},
     "output_type": "execute_result"
    }
   ],
   "source": [
    "train['missing']"
   ]
  },
  {
   "cell_type": "code",
   "execution_count": 9,
   "metadata": {
    "ExecuteTime": {
     "end_time": "2020-03-25T12:54:14.784748Z",
     "start_time": "2020-03-25T12:54:14.523689Z"
    }
   },
   "outputs": [],
   "source": [
    "# 파생 변수 02 : 이진 변수의 합\n",
    "bin_features = [c for c in train.columns if 'bin' in c]\n",
    "train['bin_sum'] = train[bin_features].sum(axis=1)\n",
    "test['bin_sum'] = test[bin_features].sum(axis=1)"
   ]
  },
  {
   "cell_type": "code",
   "execution_count": 10,
   "metadata": {
    "ExecuteTime": {
     "end_time": "2020-03-25T12:54:14.791750Z",
     "start_time": "2020-03-25T12:54:14.786748Z"
    }
   },
   "outputs": [
    {
     "data": {
      "text/plain": [
       "0         5\n",
       "1         5\n",
       "2         5\n",
       "3         2\n",
       "4         4\n",
       "         ..\n",
       "595207    6\n",
       "595208    6\n",
       "595209    3\n",
       "595210    5\n",
       "595211    3\n",
       "Name: bin_sum, Length: 595212, dtype: int64"
      ]
     },
     "execution_count": 10,
     "metadata": {},
     "output_type": "execute_result"
    }
   ],
   "source": [
    "train['bin_sum']"
   ]
  },
  {
   "cell_type": "code",
   "execution_count": 11,
   "metadata": {
    "ExecuteTime": {
     "end_time": "2020-03-25T12:54:14.797751Z",
     "start_time": "2020-03-25T12:54:14.793750Z"
    }
   },
   "outputs": [],
   "source": [
    "# 파생 변수 03 : 단일변수 타겟 비율 분석으로 선정한 변수를 기반으로 Target Encoding을 수행한다. Target Encoding은 교차 검증 과정에서 진행한다.\n",
    "features = ['ps_ind_06_bin', 'ps_ind_07_bin', 'ps_ind_08_bin', 'ps_ind_09_bin', 'ps_ind_12_bin', 'ps_ind_16_bin', 'ps_ind_17_bin', 'ps_ind_18_bin', 'ps_ind_04_cat',\n",
    "            'ps_ind_05_cat', 'ps_car_01_cat', 'ps_car_02_cat', 'ps_car_03_cat', 'ps_car_04_cat', 'ps_car_06_cat', 'ps_car_07_cat', 'ps_car_08_cat', 'ps_car_09_cat',\n",
    "            'ps_car_11_cat', 'ps_ind_01', 'ps_ind_03', 'ps_ind_15', 'ps_car_11']"
   ]
  },
  {
   "cell_type": "code",
   "execution_count": 12,
   "metadata": {
    "ExecuteTime": {
     "end_time": "2020-03-25T12:54:14.805754Z",
     "start_time": "2020-03-25T12:54:14.799752Z"
    }
   },
   "outputs": [],
   "source": [
    "# LightGBM 모델의 설정값이다.\n",
    "num_boost_round = 10000\n",
    "params = {\"objective\": \"binary\",    # 목표: 이진 분류\n",
    "          \"boosting_type\": \"gbdt\",  # 부스팅방법: Gradient Boosted Decision Trees\n",
    "          \"learning_rate\": 0.1,     # 학습률: 기본값(0.1), 제약(learning_rate > 0.0)\n",
    "          \"num_leaves\": 15,         # 한 나무의 최대 잎 수: 기본값(31), 제약(1 < num_leaves <= 131072)\n",
    "          \"max_bin\": 256,           # 히스토그램 빈 갯수: 기본값(255), 제약(max_bin > 1)\n",
    "          \"feature_fraction\": 0.6,  # colum 샘플링 비율: 기본값(1.0), 제약(0.0 < feature_fraction <= 1.0)\n",
    "          \"verbosity\": 0,           # LightGBM의 상세 수준을 제어, 출력내용 조절: 기본값(1), 0=오류, 1=정보\n",
    "          \"drop_rate\": 0.1,         # 드랍아웃 비율: 기본값(0.1), 제약(0.0 <= drop_rate <= 1.0), used only in dart(boosting_type) # 여기서는 왜 사용했는지 모르겠음\n",
    "          \"is_unbalance\": False,    # 불균형 셋 조정: 기본값(False), used only in binary and multiclassova applications\n",
    "          \"max_drop\": 50,           # 최대 트리 삭제 수: 기본값(50), used only in dart(boosting_type)\n",
    "          \"min_child_samples\": 10,  # 한 잎사귀에 들어갈 데이터의 최소 개수: 기본값(20), 제약(min_data_in_leaf >= 0)\n",
    "          \"min_child_weight\": 150,  # 분할을 유지하기 위해 잎에서 헤센의 최소 합: 기본값(1e-3), 제약(min_sum_hessian_in_leaf >= 0.0)\n",
    "          \"min_split_gain\": 0,      # 분리되기 위한 최소한의 정보이득: 기본값(0.0), 제약(min_gain_to_split >= 0.0)\n",
    "          \"subsample\": 0.9,         # row 샘플링 비율: 기본값(1.0), 제약(0.0 < bagging_fraction <= 1.0)\n",
    "          \"seed\": 2018\n",
    "}"
   ]
  },
  {
   "cell_type": "code",
   "execution_count": 13,
   "metadata": {
    "ExecuteTime": {
     "end_time": "2020-03-25T12:54:15.281007Z",
     "start_time": "2020-03-25T12:54:14.807753Z"
    }
   },
   "outputs": [],
   "source": [
    "\n",
    "# Stratified 5-Fold 내부 교차 검증을 준비한다\n",
    "from sklearn.model_selection import StratifiedKFold\n",
    "import lightgbm as lgbm\n",
    "\n",
    "NFOLDS = 5\n",
    "kfold = StratifiedKFold(n_splits=NFOLDS, shuffle=True, random_state=218)\n",
    "kf = kfold.split(train, train_label)"
   ]
  },
  {
   "cell_type": "code",
   "execution_count": 14,
   "metadata": {
    "ExecuteTime": {
     "end_time": "2020-03-25T12:54:15.285862Z",
     "start_time": "2020-03-25T12:54:15.281872Z"
    }
   },
   "outputs": [],
   "source": [
    "cv_train = np.zeros(len(train_label))\n",
    "cv_pred = np.zeros(len(test_id))\n",
    "best_trees = []\n",
    "fold_scores = []\n",
    "normal_fold_scores = []"
   ]
  },
  {
   "cell_type": "markdown",
   "metadata": {},
   "source": [
    "↓ for i, (train_fold, validate) in enumerate(kf): 행의 내용을 보고싶어서 출력함"
   ]
  },
  {
   "cell_type": "code",
   "execution_count": 14,
   "metadata": {
    "ExecuteTime": {
     "end_time": "2020-03-23T07:43:40.785729Z",
     "start_time": "2020-03-23T07:43:40.629694Z"
    }
   },
   "outputs": [
    {
     "name": "stdout",
     "output_type": "stream",
     "text": [
      "0 (array([     0,      2,      3, ..., 595208, 595209, 595210]), array([     1,      5,      7, ..., 595200, 595202, 595211]))\n",
      "1 (array([     1,      2,      4, ..., 595209, 595210, 595211]), array([     0,      3,      6, ..., 595185, 595194, 595205]))\n",
      "2 (array([     0,      1,      3, ..., 595209, 595210, 595211]), array([     2,     13,     19, ..., 595189, 595201, 595208]))\n",
      "3 (array([     0,      1,      2, ..., 595209, 595210, 595211]), array([     8,     26,     29, ..., 595191, 595197, 595204]))\n",
      "4 (array([     0,      1,      2, ..., 595205, 595208, 595211]), array([     4,     10,     12, ..., 595207, 595209, 595210]))\n"
     ]
    }
   ],
   "source": [
    "for i, (train_fold, validate) in enumerate(kf):\n",
    "    print(i, (train_fold, validate))"
   ]
  },
  {
   "cell_type": "code",
   "execution_count": 15,
   "metadata": {
    "ExecuteTime": {
     "end_time": "2020-03-23T07:43:41.151812Z",
     "start_time": "2020-03-23T07:43:40.787730Z"
    }
   },
   "outputs": [],
   "source": [
    "X_train, X_validate, label_train, label_validate = train.iloc[train_fold, :], train.iloc[validate, :], train_label[train_fold], train_label[validate]"
   ]
  },
  {
   "cell_type": "code",
   "execution_count": 16,
   "metadata": {
    "ExecuteTime": {
     "end_time": "2020-03-23T07:44:08.833454Z",
     "start_time": "2020-03-23T07:43:41.152812Z"
    }
   },
   "outputs": [
    {
     "data": {
      "text/plain": [
       "<pandas.core.groupby.generic.DataFrameGroupBy object at 0x0000029717837438>"
      ]
     },
     "execution_count": 16,
     "metadata": {},
     "output_type": "execute_result"
    }
   ],
   "source": [
    "pd.DataFrame([X_train['ps_ind_06_bin'], label_train]).T.groupby('ps_ind_06_bin')"
   ]
  },
  {
   "cell_type": "code",
   "execution_count": 17,
   "metadata": {
    "ExecuteTime": {
     "end_time": "2020-03-23T07:44:36.382426Z",
     "start_time": "2020-03-23T07:44:08.834456Z"
    }
   },
   "outputs": [
    {
     "name": "stdout",
     "output_type": "stream",
     "text": [
      "<pandas.core.groupby.generic.DataFrameGroupBy object at 0x00000297166802E8>\n"
     ]
    }
   ],
   "source": [
    "print(pd.DataFrame([X_train['ps_ind_06_bin'], label_train]).T.groupby('ps_ind_06_bin'))"
   ]
  },
  {
   "cell_type": "code",
   "execution_count": 18,
   "metadata": {
    "ExecuteTime": {
     "end_time": "2020-03-23T07:45:04.064458Z",
     "start_time": "2020-03-23T07:44:36.384429Z"
    }
   },
   "outputs": [
    {
     "data": {
      "text/html": [
       "<div>\n",
       "<style scoped>\n",
       "    .dataframe tbody tr th:only-of-type {\n",
       "        vertical-align: middle;\n",
       "    }\n",
       "\n",
       "    .dataframe tbody tr th {\n",
       "        vertical-align: top;\n",
       "    }\n",
       "\n",
       "    .dataframe thead th {\n",
       "        text-align: right;\n",
       "    }\n",
       "</style>\n",
       "<table border=\"1\" class=\"dataframe\">\n",
       "  <thead>\n",
       "    <tr style=\"text-align: right;\">\n",
       "      <th></th>\n",
       "      <th>target</th>\n",
       "    </tr>\n",
       "    <tr>\n",
       "      <th>ps_ind_06_bin</th>\n",
       "      <th></th>\n",
       "    </tr>\n",
       "  </thead>\n",
       "  <tbody>\n",
       "    <tr>\n",
       "      <th>0</th>\n",
       "      <td>0.041418</td>\n",
       "    </tr>\n",
       "    <tr>\n",
       "      <th>1</th>\n",
       "      <td>0.028796</td>\n",
       "    </tr>\n",
       "  </tbody>\n",
       "</table>\n",
       "</div>"
      ],
      "text/plain": [
       "                 target\n",
       "ps_ind_06_bin          \n",
       "0              0.041418\n",
       "1              0.028796"
      ]
     },
     "execution_count": 18,
     "metadata": {},
     "output_type": "execute_result"
    }
   ],
   "source": [
    "pd.DataFrame([X_train['ps_ind_06_bin'], label_train]).T.groupby('ps_ind_06_bin').agg('mean')"
   ]
  },
  {
   "cell_type": "code",
   "execution_count": 19,
   "metadata": {
    "ExecuteTime": {
     "end_time": "2020-03-23T07:45:31.441108Z",
     "start_time": "2020-03-23T07:45:04.065459Z"
    }
   },
   "outputs": [
    {
     "data": {
      "text/plain": [
       "{'target': {0: 0.041417801859730326, 1: 0.02879600695370242}}"
      ]
     },
     "execution_count": 19,
     "metadata": {},
     "output_type": "execute_result"
    }
   ],
   "source": [
    "pd.DataFrame([X_train['ps_ind_06_bin'], label_train]).T.groupby('ps_ind_06_bin').agg('mean').to_dict()"
   ]
  },
  {
   "cell_type": "code",
   "execution_count": 20,
   "metadata": {
    "ExecuteTime": {
     "end_time": "2020-03-23T07:45:58.983782Z",
     "start_time": "2020-03-23T07:45:31.442108Z"
    }
   },
   "outputs": [
    {
     "data": {
      "text/plain": [
       "{0: 0.041417801859730326, 1: 0.02879600695370242}"
      ]
     },
     "execution_count": 20,
     "metadata": {},
     "output_type": "execute_result"
    }
   ],
   "source": [
    "pd.DataFrame([X_train['ps_ind_06_bin'], label_train]).T.groupby('ps_ind_06_bin').agg('mean').to_dict()['target']"
   ]
  },
  {
   "cell_type": "code",
   "execution_count": 21,
   "metadata": {
    "ExecuteTime": {
     "end_time": "2020-03-23T07:46:26.911873Z",
     "start_time": "2020-03-23T07:45:58.984783Z"
    }
   },
   "outputs": [],
   "source": [
    "map_dic = pd.DataFrame([X_train['ps_ind_06_bin'], label_train]).T.groupby('ps_ind_06_bin').agg('mean')\n",
    "map_dic = map_dic.to_dict()['target']"
   ]
  },
  {
   "cell_type": "code",
   "execution_count": 22,
   "metadata": {
    "ExecuteTime": {
     "end_time": "2020-03-23T07:46:26.916874Z",
     "start_time": "2020-03-23T07:46:26.912873Z"
    }
   },
   "outputs": [
    {
     "data": {
      "text/plain": [
       "(0.041417801859730326, 0.02879600695370242)"
      ]
     },
     "execution_count": 22,
     "metadata": {},
     "output_type": "execute_result"
    }
   ],
   "source": [
    "map_dic.get(0, ), map_dic.get(1, )"
   ]
  },
  {
   "cell_type": "code",
   "execution_count": 15,
   "metadata": {
    "ExecuteTime": {
     "end_time": "2020-03-25T13:49:55.175010Z",
     "start_time": "2020-03-25T12:54:35.436800Z"
    }
   },
   "outputs": [
    {
     "name": "stderr",
     "output_type": "stream",
     "text": [
      "C:\\Users\\Choi\\Anaconda3\\envs\\kaggle_env\\lib\\site-packages\\ipykernel_launcher.py:11: SettingWithCopyWarning: \n",
      "A value is trying to be set on a copy of a slice from a DataFrame.\n",
      "Try using .loc[row_indexer,col_indexer] = value instead\n",
      "\n",
      "See the caveats in the documentation: http://pandas.pydata.org/pandas-docs/stable/user_guide/indexing.html#returning-a-view-versus-a-copy\n",
      "  # This is added back by InteractiveShellApp.init_path()\n",
      "C:\\Users\\Choi\\Anaconda3\\envs\\kaggle_env\\lib\\site-packages\\ipykernel_launcher.py:12: SettingWithCopyWarning: \n",
      "A value is trying to be set on a copy of a slice from a DataFrame.\n",
      "Try using .loc[row_indexer,col_indexer] = value instead\n",
      "\n",
      "See the caveats in the documentation: http://pandas.pydata.org/pandas-docs/stable/user_guide/indexing.html#returning-a-view-versus-a-copy\n",
      "  if sys.path[0] == '':\n"
     ]
    },
    {
     "name": "stdout",
     "output_type": "stream",
     "text": [
      "Training until validation scores don't improve for 100 rounds\n",
      "[100]\tvalid_0's binary_logloss: 0.15162\n",
      "[200]\tvalid_0's binary_logloss: 0.151561\n",
      "Early stopping, best iteration is:\n",
      "[142]\tvalid_0's binary_logloss: 0.151545\n",
      "maxscore: 0.4817754928891241\n",
      "score: 0.14055740338526007\n",
      "normalized: 0.29174876152865664\n",
      "Training until validation scores don't improve for 100 rounds\n",
      "[100]\tvalid_0's binary_logloss: 0.152333\n",
      "[200]\tvalid_0's binary_logloss: 0.15242\n",
      "Early stopping, best iteration is:\n",
      "[105]\tvalid_0's binary_logloss: 0.152323\n",
      "maxscore: 0.4817754928891241\n",
      "score: 0.12915459497334839\n",
      "normalized: 0.268080458387019\n",
      "Training until validation scores don't improve for 100 rounds\n",
      "[100]\tvalid_0's binary_logloss: 0.152118\n",
      "[200]\tvalid_0's binary_logloss: 0.152077\n",
      "Early stopping, best iteration is:\n",
      "[144]\tvalid_0's binary_logloss: 0.152063\n",
      "maxscore: 0.48177953999428774\n",
      "score: 0.13266918148744083\n",
      "normalized: 0.27537321632424205\n",
      "Training until validation scores don't improve for 100 rounds\n",
      "[100]\tvalid_0's binary_logloss: 0.151973\n",
      "[200]\tvalid_0's binary_logloss: 0.152025\n",
      "Early stopping, best iteration is:\n",
      "[150]\tvalid_0's binary_logloss: 0.151954\n",
      "maxscore: 0.48177533979603837\n",
      "score: 0.13498718231918155\n",
      "normalized: 0.280186990011421\n",
      "Training until validation scores don't improve for 100 rounds\n",
      "[100]\tvalid_0's binary_logloss: 0.151524\n",
      "[200]\tvalid_0's binary_logloss: 0.151535\n",
      "Early stopping, best iteration is:\n",
      "[173]\tvalid_0's binary_logloss: 0.15147\n",
      "maxscore: 0.48177533979603837\n",
      "score: 0.13971626480820595\n",
      "normalized: 0.290002939684201\n",
      "cv score: 0.13541891976903814\n",
      "predict:\n",
      " [0.05163139 0.02663373 0.02501958 ... 0.0182195  0.02327994 0.01479759]\n",
      "normal_cv score: 0.2810826027206425\n",
      "fold_scores: [0.14055740338526007, 0.12915459497334839, 0.13266918148744083, 0.13498718231918155, 0.13971626480820595]\n",
      "normal_fold_scores: [0.29174876152865664, 0.268080458387019, 0.27537321632424205, 0.280186990011421, 0.290002939684201]\n",
      "best_trees: [142, 105, 144, 150, 173] 142.8\n",
      "Feature importance by split:\n",
      "('ps_reg_03', 147)\n",
      "('ps_car_13', 138)\n",
      "('ps_ind_03', 109)\n",
      "('ps_car_14', 109)\n",
      "('ps_reg_01', 86)\n",
      "('ps_reg_02', 84)\n",
      "('ps_car_11_cat_target_enc', 77)\n",
      "('ps_ind_15', 73)\n",
      "('ps_ind_01', 72)\n",
      "('ps_ind_03_target_enc', 69)\n",
      "('ps_car_11_cat', 65)\n",
      "('ps_car_15', 65)\n",
      "('ps_ind_15_target_enc', 62)\n",
      "('ps_ind_05_cat_target_enc', 54)\n",
      "('ps_calc_01', 53)\n",
      "('ps_car_01_cat_target_enc', 50)\n",
      "('ps_car_12', 49)\n",
      "('ps_calc_10', 48)\n",
      "('ps_calc_02', 47)\n",
      "('ps_calc_14', 45)\n",
      "('ps_car_06_cat_target_enc', 45)\n",
      "('ps_ind_02_cat', 40)\n",
      "('ps_car_06_cat', 38)\n",
      "('ps_calc_03', 36)\n",
      "('ps_car_09_cat_target_enc', 36)\n",
      "('ps_ind_17_bin', 32)\n",
      "('ps_calc_12', 29)\n",
      "('ps_ind_01_target_enc', 28)\n",
      "('ps_car_11_target_enc', 28)\n",
      "('ps_car_01_cat', 27)\n",
      "('ps_calc_05', 27)\n",
      "('ps_calc_07', 27)\n",
      "('ps_calc_11', 26)\n",
      "('ps_calc_13', 26)\n",
      "('ps_calc_06', 25)\n",
      "('ps_calc_08', 25)\n",
      "('ps_calc_04', 23)\n",
      "('ps_car_03_cat', 21)\n",
      "('ps_car_07_cat', 21)\n",
      "('ps_calc_09', 21)\n",
      "('ps_ind_05_cat', 20)\n",
      "('missing', 20)\n",
      "('ps_car_05_cat', 19)\n",
      "('ps_calc_19_bin', 19)\n",
      "('ps_ind_04_cat', 16)\n",
      "('ps_car_08_cat', 16)\n",
      "('bin_sum', 16)\n",
      "('ps_ind_04_cat_target_enc', 16)\n",
      "('ps_ind_06_bin', 15)\n",
      "('ps_ind_07_bin', 15)\n",
      "('ps_calc_16_bin', 14)\n",
      "('ps_car_04_cat_target_enc', 14)\n",
      "('ps_ind_16_bin', 13)\n",
      "('ps_car_11', 13)\n",
      "('ps_car_03_cat_target_enc', 12)\n",
      "('ps_ind_09_bin', 11)\n",
      "('ps_ind_17_bin_target_enc', 11)\n",
      "('ps_ind_08_bin', 9)\n",
      "('ps_car_09_cat', 8)\n",
      "('ps_ind_07_bin_target_enc', 7)\n",
      "('ps_ind_09_bin_target_enc', 7)\n",
      "('ps_car_07_cat_target_enc', 7)\n",
      "('ps_car_04_cat', 5)\n",
      "('ps_car_02_cat_target_enc', 5)\n",
      "('ps_car_02_cat', 4)\n",
      "('ps_calc_17_bin', 4)\n",
      "('ps_ind_16_bin_target_enc', 4)\n",
      "('ps_car_08_cat_target_enc', 4)\n",
      "('ps_calc_18_bin', 3)\n",
      "('ps_calc_20_bin', 3)\n",
      "('ps_ind_06_bin_target_enc', 3)\n",
      "('ps_ind_08_bin_target_enc', 3)\n",
      "('ps_ind_18_bin', 2)\n",
      "('ps_calc_15_bin', 1)\n",
      "('ps_ind_10_bin', 0)\n",
      "('ps_ind_11_bin', 0)\n",
      "('ps_ind_12_bin', 0)\n",
      "('ps_ind_13_bin', 0)\n",
      "('ps_ind_14', 0)\n",
      "('ps_car_10_cat', 0)\n",
      "('ps_ind_12_bin_target_enc', 0)\n",
      "('ps_ind_18_bin_target_enc', 0)\n",
      "Feature importance by gain:\n",
      "('ps_car_13', 4504.4861706495285)\n",
      "('ps_car_11_cat_target_enc', 3072.137355208397)\n",
      "('ps_ind_05_cat_target_enc', 2526.421601295471)\n",
      "('ps_reg_03', 2495.362044811249)\n",
      "('ps_ind_17_bin', 1871.902262210846)\n",
      "('ps_ind_03_target_enc', 1695.321255683899)\n",
      "('ps_ind_03', 1237.0459779500961)\n",
      "('ps_car_01_cat_target_enc', 1212.5121108293533)\n",
      "('ps_reg_02', 1086.3851771354675)\n",
      "('ps_reg_01', 1043.6144714355469)\n",
      "('ps_ind_15', 1027.0946036577225)\n",
      "('ps_ind_15_target_enc', 927.0931804180145)\n",
      "('ps_ind_05_cat', 777.7521424293518)\n",
      "('ps_car_14', 765.5953620672226)\n",
      "('ps_car_09_cat_target_enc', 679.2209045886993)\n",
      "('ps_ind_01', 657.8403295278549)\n",
      "('ps_car_15', 655.2758378982544)\n",
      "('ps_ind_06_bin', 617.6163582801819)\n",
      "('ps_car_07_cat', 608.0890811681747)\n",
      "('ps_car_03_cat', 523.3543169498444)\n",
      "('ps_ind_16_bin', 467.9552888870239)\n",
      "('ps_ind_07_bin', 386.65311670303345)\n",
      "('ps_car_11_cat', 377.0346482992172)\n",
      "('ps_ind_02_cat', 375.55265033245087)\n",
      "('ps_ind_17_bin_target_enc', 357.02557945251465)\n",
      "('ps_calc_01', 313.0934415459633)\n",
      "('ps_car_03_cat_target_enc', 309.15614891052246)\n",
      "('ps_car_12', 297.21571147441864)\n",
      "('ps_car_06_cat_target_enc', 291.2683787345886)\n",
      "('ps_calc_02', 288.43768763542175)\n",
      "('ps_ind_01_target_enc', 275.64108073711395)\n",
      "('ps_ind_07_bin_target_enc', 265.8990988731384)\n",
      "('ps_ind_16_bin_target_enc', 262.06415843963623)\n",
      "('ps_calc_14', 261.9121237397194)\n",
      "('ps_car_06_cat', 257.64559960365295)\n",
      "('ps_calc_10', 243.894229054451)\n",
      "('ps_ind_08_bin', 237.66390132904053)\n",
      "('missing', 197.30504822731018)\n",
      "('ps_car_07_cat_target_enc', 195.92443645000458)\n",
      "('ps_calc_03', 190.46365505456924)\n",
      "('ps_calc_05', 179.16045200824738)\n",
      "('ps_calc_07', 169.84994101524353)\n",
      "('ps_car_11_target_enc', 167.71066111326218)\n",
      "('ps_calc_13', 160.3610702753067)\n",
      "('ps_calc_08', 159.22179901599884)\n",
      "('ps_car_01_cat', 155.38731980323792)\n",
      "('ps_calc_12', 150.49172294139862)\n",
      "('ps_ind_04_cat', 150.19106006622314)\n",
      "('ps_calc_11', 147.02093994617462)\n",
      "('ps_calc_06', 147.00699019432068)\n",
      "('ps_calc_04', 138.3778200149536)\n",
      "('ps_ind_09_bin_target_enc', 138.17550992965698)\n",
      "('ps_car_05_cat', 137.40510940551758)\n",
      "('ps_ind_09_bin', 128.0883288383484)\n",
      "('ps_calc_19_bin', 120.38861083984375)\n",
      "('ps_car_08_cat', 118.64303016662598)\n",
      "('ps_car_11', 110.67569017410278)\n",
      "('bin_sum', 108.48805975914001)\n",
      "('ps_calc_09', 102.60378485918045)\n",
      "('ps_calc_16_bin', 97.08198952674866)\n",
      "('ps_ind_06_bin_target_enc', 86.00995254516602)\n",
      "('ps_ind_04_cat_target_enc', 84.23345029354095)\n",
      "('ps_car_04_cat_target_enc', 81.67831921577454)\n",
      "('ps_car_09_cat', 61.17953968048096)\n",
      "('ps_ind_08_bin_target_enc', 49.90649890899658)\n",
      "('ps_car_08_cat_target_enc', 47.120479583740234)\n",
      "('ps_car_02_cat', 30.409420013427734)\n",
      "('ps_calc_20_bin', 25.17608070373535)\n",
      "('ps_car_04_cat', 19.257260143756866)\n",
      "('ps_calc_17_bin', 19.201990127563477)\n",
      "('ps_car_02_cat_target_enc', 18.763269901275635)\n",
      "('ps_ind_18_bin', 18.02461051940918)\n",
      "('ps_calc_18_bin', 17.942260265350342)\n",
      "('ps_calc_15_bin', 8.50862979888916)\n",
      "('ps_ind_10_bin', 0.0)\n",
      "('ps_ind_11_bin', 0.0)\n",
      "('ps_ind_12_bin', 0.0)\n",
      "('ps_ind_13_bin', 0.0)\n",
      "('ps_ind_14', 0.0)\n",
      "('ps_car_10_cat', 0.0)\n",
      "('ps_ind_12_bin_target_enc', 0.0)\n",
      "('ps_ind_18_bin_target_enc', 0.0)\n"
     ]
    }
   ],
   "source": [
    "for i, (train_fold, validate) in enumerate(kf):\n",
    "    # 훈련/검증 데이터를 분리한다\n",
    "    X_train, X_validate, label_train, label_validate = train.iloc[train_fold, :], train.iloc[validate, :], train_label[train_fold], train_label[validate]\n",
    "    \n",
    "    # target encoding 피쳐 엔지니어링을 수행한다\n",
    "    for feature in features:\n",
    "        # 훈련 데이터에서 feature 고유값별 타겟 변수의 평균을 구한다\n",
    "        map_dic = pd.DataFrame([X_train[feature], label_train]).T.groupby(feature).agg('mean')\n",
    "        map_dic = map_dic.to_dict()['target']\n",
    "        # 훈련/검증/테스트 데이터에 평균값을 매핑한다\n",
    "        X_train[feature + '_target_enc'] = X_train[feature].apply(lambda x: map_dic.get(x, 0))\n",
    "        X_validate[feature + '_target_enc'] = X_validate[feature].apply(lambda x: map_dic.get(x, 0))\n",
    "        test[feature + '_target_enc'] = test[feature].apply(lambda x: map_dic.get(x, 0))\n",
    "    feat=X_train.columns.tolist()\n",
    "    dtrain = lgbm.Dataset(X_train, label_train)\n",
    "    dvalid = lgbm.Dataset(X_validate, label_validate, reference=dtrain)\n",
    "    # 훈련 데이터를 학습하고, evalerror() 함수를 통해 검증 데이터에 대한 정규화 Gini 계수 점수를 기준으로 최적의 트리 개수를 찾는다.\n",
    "    # feval=evalerror 가 뭔지 몰라서 삭제함\n",
    "    bst = lgbm.train(params, dtrain, num_boost_round, valid_sets=dvalid, verbose_eval=100, early_stopping_rounds=100)\n",
    "    best_trees.append(bst.best_iteration)\n",
    "    # 테스트 데이터에 대한 예측값을 cv_pred에 더한다.\n",
    "    cv_pred += bst.predict(test, num_iteration=bst.best_iteration)\n",
    "    cv_train[validate] += bst.predict(X_validate)\n",
    "\n",
    "    # 검증 데이터에 대한 평가 점수를 출력한다.\n",
    "    score = Gini(label_validate, cv_train[validate])\n",
    "    maxscore = Gini(label_validate, label_validate)\n",
    "    print('maxscore:', maxscore)\n",
    "    print('score:', score)\n",
    "    print('normalized:', score/maxscore)\n",
    "    fold_scores.append(score)\n",
    "    normal_fold_scores.append(score/maxscore)\n",
    "\n",
    "cv_pred /= NFOLDS\n",
    "\n",
    "# 시드값별로 교차 검증 점수를 출력한다.\n",
    "print(\"cv score:\", Gini(train_label, cv_train))\n",
    "print('predict:\\n', cv_train)\n",
    "print('normal_cv score:', Gini(train_label, cv_train)/Gini(train_label, train_label))\n",
    "print('fold_scores:', fold_scores)\n",
    "print('normal_fold_scores:', normal_fold_scores)\n",
    "print('best_trees:', best_trees, np.mean(best_trees))\n",
    "print(\"Feature importance by split:\")\n",
    "for kv in sorted([(k,v) for k,v in zip(feat, bst.feature_importance(\"split\"))], key=lambda kv: kv[1], reverse=True):\n",
    "    print(kv)\n",
    "print(\"Feature importance by gain:\")\n",
    "for kv in sorted([(k,v) for k,v in zip(feat, bst.feature_importance(\"gain\"))], key=lambda kv: kv[1], reverse=True):\n",
    "    print(kv)\n",
    "\n",
    "# 테스트 데이터에 대한 결과물을 저장한다.\n",
    "# pd.DataFrame({'id': test_id, 'target': cv_pred}).to_csv('../model/lgbm_baseline.csv', index=False)"
   ]
  }
 ],
 "metadata": {
  "hide_input": false,
  "kernelspec": {
   "display_name": "Python 3",
   "language": "python",
   "name": "python3"
  },
  "language_info": {
   "codemirror_mode": {
    "name": "ipython",
    "version": 3
   },
   "file_extension": ".py",
   "mimetype": "text/x-python",
   "name": "python",
   "nbconvert_exporter": "python",
   "pygments_lexer": "ipython3",
   "version": "3.6.4"
  },
  "toc": {
   "base_numbering": 1,
   "nav_menu": {},
   "number_sections": true,
   "sideBar": true,
   "skip_h1_title": false,
   "title_cell": "Table of Contents",
   "title_sidebar": "Contents",
   "toc_cell": false,
   "toc_position": {},
   "toc_section_display": true,
   "toc_window_display": false
  },
  "varInspector": {
   "cols": {
    "lenName": 16,
    "lenType": 16,
    "lenVar": 40
   },
   "kernels_config": {
    "python": {
     "delete_cmd_postfix": "",
     "delete_cmd_prefix": "del ",
     "library": "var_list.py",
     "varRefreshCmd": "print(var_dic_list())"
    },
    "r": {
     "delete_cmd_postfix": ") ",
     "delete_cmd_prefix": "rm(",
     "library": "var_list.r",
     "varRefreshCmd": "cat(var_dic_list()) "
    }
   },
   "position": {
    "height": "661px",
    "left": "1268px",
    "right": "20px",
    "top": "53px",
    "width": "648px"
   },
   "types_to_exclude": [
    "module",
    "function",
    "builtin_function_or_method",
    "instance",
    "_Feature"
   ],
   "window_display": false
  }
 },
 "nbformat": 4,
 "nbformat_minor": 2
}
