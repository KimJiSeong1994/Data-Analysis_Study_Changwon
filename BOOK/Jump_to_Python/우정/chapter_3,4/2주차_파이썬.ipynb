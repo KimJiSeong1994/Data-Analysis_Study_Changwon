{
  "nbformat": 4,
  "nbformat_minor": 0,
  "metadata": {
    "colab": {
      "name": "2주차 파이썬.ipynb",
      "provenance": [],
      "collapsed_sections": [
        "gbXnHk84M7F_",
        "7BZNluyMU_P3",
        "EwBk-r2jWSoN",
        "eSDelHFgXVYT",
        "NpkKsZtjYDF6",
        "FaabA_hrZjv3",
        "fxviLlX_Z-oU",
        "OE3Fcc8gXXLM",
        "yyhLAW1vYQhZ",
        "ivF5Q3D2ZsLa",
        "9vVLvx3YaJNS"
      ]
    },
    "kernelspec": {
      "name": "python3",
      "display_name": "Python 3"
    }
  },
  "cells": [
    {
      "cell_type": "markdown",
      "metadata": {
        "id": "gbXnHk84M7F_",
        "colab_type": "text"
      },
      "source": [
        "# 2장연습 문제"
      ]
    },
    {
      "cell_type": "code",
      "metadata": {
        "id": "T59ebEzHKmuK",
        "colab_type": "code",
        "outputId": "cf589ba3-b20b-44ef-c69c-5b80c7c52e2b",
        "colab": {
          "base_uri": "https://localhost:8080/",
          "height": 35
        }
      },
      "source": [
        "(80+75+55)/3"
      ],
      "execution_count": 0,
      "outputs": [
        {
          "output_type": "execute_result",
          "data": {
            "text/plain": [
              "70.0"
            ]
          },
          "metadata": {
            "tags": []
          },
          "execution_count": 1
        }
      ]
    },
    {
      "cell_type": "code",
      "metadata": {
        "id": "OuxktJ2gNNVx",
        "colab_type": "code",
        "outputId": "90d39f66-5cef-41ed-913f-005e1a01897e",
        "colab": {
          "base_uri": "https://localhost:8080/",
          "height": 35
        }
      },
      "source": [
        "# 나머지\n",
        "1%2"
      ],
      "execution_count": 0,
      "outputs": [
        {
          "output_type": "execute_result",
          "data": {
            "text/plain": [
              "1"
            ]
          },
          "metadata": {
            "tags": []
          },
          "execution_count": 3
        }
      ]
    },
    {
      "cell_type": "code",
      "metadata": {
        "id": "_mLDJqHnNWeO",
        "colab_type": "code",
        "colab": {}
      },
      "source": [
        "# 13을 나눌때 나머지가 1이니까 홀수"
      ],
      "execution_count": 0,
      "outputs": []
    },
    {
      "cell_type": "code",
      "metadata": {
        "id": "egswX2teNz36",
        "colab_type": "code",
        "colab": {}
      },
      "source": [
        "a = \"881120-1068234\""
      ],
      "execution_count": 0,
      "outputs": []
    },
    {
      "cell_type": "code",
      "metadata": {
        "id": "slNsZEl2OLad",
        "colab_type": "code",
        "colab": {}
      },
      "source": [
        "b = a[:6]"
      ],
      "execution_count": 0,
      "outputs": []
    },
    {
      "cell_type": "code",
      "metadata": {
        "id": "iYMZlsG9OUwi",
        "colab_type": "code",
        "colab": {}
      },
      "source": [
        "c = a[7:]"
      ],
      "execution_count": 0,
      "outputs": []
    },
    {
      "cell_type": "code",
      "metadata": {
        "id": "DmB3suLIOiYQ",
        "colab_type": "code",
        "outputId": "9478a12a-5906-4865-b5ea-ce677d550798",
        "colab": {
          "base_uri": "https://localhost:8080/",
          "height": 35
        }
      },
      "source": [
        "print(c)"
      ],
      "execution_count": 0,
      "outputs": [
        {
          "output_type": "stream",
          "text": [
            "1068234\n"
          ],
          "name": "stdout"
        }
      ]
    },
    {
      "cell_type": "code",
      "metadata": {
        "id": "sOvsa_-_Oke7",
        "colab_type": "code",
        "outputId": "85fb468e-624a-43c4-b81b-f5aec873d5ef",
        "colab": {
          "base_uri": "https://localhost:8080/",
          "height": 35
        }
      },
      "source": [
        "print(b)"
      ],
      "execution_count": 0,
      "outputs": [
        {
          "output_type": "stream",
          "text": [
            "881120\n"
          ],
          "name": "stdout"
        }
      ]
    },
    {
      "cell_type": "code",
      "metadata": {
        "id": "pLMt33UHOmtO",
        "colab_type": "code",
        "outputId": "eda00c04-b4e3-4c54-8112-2994df8b0387",
        "colab": {
          "base_uri": "https://localhost:8080/",
          "height": 35
        }
      },
      "source": [
        "print(a[7])"
      ],
      "execution_count": 0,
      "outputs": [
        {
          "output_type": "stream",
          "text": [
            "1\n"
          ],
          "name": "stdout"
        }
      ]
    },
    {
      "cell_type": "code",
      "metadata": {
        "id": "OwrgAjJ-Oyn9",
        "colab_type": "code",
        "colab": {}
      },
      "source": [
        "a = \"a:b:c:d\"\n",
        "b = a.replace(\":\" , \"#\")"
      ],
      "execution_count": 0,
      "outputs": []
    },
    {
      "cell_type": "code",
      "metadata": {
        "id": "rZca74FTPrEo",
        "colab_type": "code",
        "outputId": "4e2763d4-6f37-4cc6-a856-38d88b70d293",
        "colab": {
          "base_uri": "https://localhost:8080/",
          "height": 35
        }
      },
      "source": [
        "print(b)"
      ],
      "execution_count": 0,
      "outputs": [
        {
          "output_type": "stream",
          "text": [
            "a#b#c#d\n"
          ],
          "name": "stdout"
        }
      ]
    },
    {
      "cell_type": "code",
      "metadata": {
        "id": "ranZnEJOPsn2",
        "colab_type": "code",
        "colab": {}
      },
      "source": [
        "a = [1,3,5,4,2]"
      ],
      "execution_count": 0,
      "outputs": []
    },
    {
      "cell_type": "code",
      "metadata": {
        "id": "RWNK9AV_Pxii",
        "colab_type": "code",
        "colab": {}
      },
      "source": [
        "a.sort()"
      ],
      "execution_count": 0,
      "outputs": []
    },
    {
      "cell_type": "code",
      "metadata": {
        "id": "3z5wAwgpPxyn",
        "colab_type": "code",
        "colab": {}
      },
      "source": [
        "a.reverse()"
      ],
      "execution_count": 0,
      "outputs": []
    },
    {
      "cell_type": "code",
      "metadata": {
        "id": "fjwopQYbPyAk",
        "colab_type": "code",
        "outputId": "41dd026b-4ac1-4dad-9c9a-d599dfef4a74",
        "colab": {
          "base_uri": "https://localhost:8080/",
          "height": 35
        }
      },
      "source": [
        "print(a)"
      ],
      "execution_count": 0,
      "outputs": [
        {
          "output_type": "stream",
          "text": [
            "[5, 4, 3, 2, 1]\n"
          ],
          "name": "stdout"
        }
      ]
    },
    {
      "cell_type": "code",
      "metadata": {
        "id": "pQAtxtGnPyJQ",
        "colab_type": "code",
        "colab": {}
      },
      "source": [
        "a =[\"life\", \"is\", \"too\", \"short\"]"
      ],
      "execution_count": 0,
      "outputs": []
    },
    {
      "cell_type": "code",
      "metadata": {
        "id": "cvPX2s0xPyPt",
        "colab_type": "code",
        "colab": {}
      },
      "source": [
        "result = \" \".join(a)"
      ],
      "execution_count": 0,
      "outputs": []
    },
    {
      "cell_type": "code",
      "metadata": {
        "id": "m7_uHKFzPyUv",
        "colab_type": "code",
        "outputId": "0865c099-5c93-46ac-aed1-3a560dec9608",
        "colab": {
          "base_uri": "https://localhost:8080/",
          "height": 35
        }
      },
      "source": [
        "print(result)"
      ],
      "execution_count": 0,
      "outputs": [
        {
          "output_type": "stream",
          "text": [
            "life is too short\n"
          ],
          "name": "stdout"
        }
      ]
    },
    {
      "cell_type": "code",
      "metadata": {
        "id": "qlh5HzinPybd",
        "colab_type": "code",
        "colab": {}
      },
      "source": [
        "a = (1,2,3)"
      ],
      "execution_count": 0,
      "outputs": []
    },
    {
      "cell_type": "code",
      "metadata": {
        "id": "pcEoGaeVPyj6",
        "colab_type": "code",
        "colab": {}
      },
      "source": [
        "a = a+(4,)"
      ],
      "execution_count": 0,
      "outputs": []
    },
    {
      "cell_type": "code",
      "metadata": {
        "id": "LN-0fwVzPypC",
        "colab_type": "code",
        "outputId": "0edac639-e200-46ef-a08f-4a08693a4b28",
        "colab": {
          "base_uri": "https://localhost:8080/",
          "height": 35
        }
      },
      "source": [
        "print(a)"
      ],
      "execution_count": 0,
      "outputs": [
        {
          "output_type": "stream",
          "text": [
            "(1, 2, 3, 4)\n"
          ],
          "name": "stdout"
        }
      ]
    },
    {
      "cell_type": "code",
      "metadata": {
        "id": "ArKb3EcrPyvp",
        "colab_type": "code",
        "outputId": "5dd0263c-e0b3-4a06-80ee-74281896b93b",
        "colab": {
          "base_uri": "https://localhost:8080/",
          "height": 35
        }
      },
      "source": [
        "a = (1,2,3)\n",
        "print(id(a))"
      ],
      "execution_count": 0,
      "outputs": [
        {
          "output_type": "stream",
          "text": [
            "140609251271520\n"
          ],
          "name": "stdout"
        }
      ]
    },
    {
      "cell_type": "code",
      "metadata": {
        "id": "RFiWnjV0Py0d",
        "colab_type": "code",
        "colab": {}
      },
      "source": [
        "a = a+ (4,)"
      ],
      "execution_count": 0,
      "outputs": []
    },
    {
      "cell_type": "code",
      "metadata": {
        "id": "Tkagl3s4Py5v",
        "colab_type": "code",
        "outputId": "3938bb3e-ebe6-4480-b7dd-df6670e2d5de",
        "colab": {
          "base_uri": "https://localhost:8080/",
          "height": 35
        }
      },
      "source": [
        "print(a)"
      ],
      "execution_count": 0,
      "outputs": [
        {
          "output_type": "stream",
          "text": [
            "(1, 2, 3, 4)\n"
          ],
          "name": "stdout"
        }
      ]
    },
    {
      "cell_type": "code",
      "metadata": {
        "id": "DDngc0lNPy9o",
        "colab_type": "code",
        "outputId": "85915fee-3eec-4ecb-83ca-a15fc2ec9a12",
        "colab": {
          "base_uri": "https://localhost:8080/",
          "height": 35
        }
      },
      "source": [
        "print(id(a))"
      ],
      "execution_count": 0,
      "outputs": [
        {
          "output_type": "stream",
          "text": [
            "140609242599000\n"
          ],
          "name": "stdout"
        }
      ]
    },
    {
      "cell_type": "code",
      "metadata": {
        "id": "1y-K1wfNPzCt",
        "colab_type": "code",
        "outputId": "805e23ea-979c-4608-c64b-8029e12482d8",
        "colab": {
          "base_uri": "https://localhost:8080/",
          "height": 173
        }
      },
      "source": [
        "a[[1]] = 'python'"
      ],
      "execution_count": 0,
      "outputs": [
        {
          "output_type": "error",
          "ename": "TypeError",
          "evalue": "ignored",
          "traceback": [
            "\u001b[0;31m---------------------------------------------------------------------------\u001b[0m",
            "\u001b[0;31mTypeError\u001b[0m                                 Traceback (most recent call last)",
            "\u001b[0;32m<ipython-input-37-3976fbf303e6>\u001b[0m in \u001b[0;36m<module>\u001b[0;34m()\u001b[0m\n\u001b[0;32m----> 1\u001b[0;31m \u001b[0ma\u001b[0m\u001b[0;34m[\u001b[0m\u001b[0;34m[\u001b[0m\u001b[0;36m1\u001b[0m\u001b[0;34m]\u001b[0m\u001b[0;34m]\u001b[0m \u001b[0;34m=\u001b[0m \u001b[0;34m'python'\u001b[0m\u001b[0;34m\u001b[0m\u001b[0;34m\u001b[0m\u001b[0m\n\u001b[0m",
            "\u001b[0;31mTypeError\u001b[0m: 'tuple' object does not support item assignment"
          ]
        }
      ]
    },
    {
      "cell_type": "code",
      "metadata": {
        "id": "Y2lj1FxRPzPy",
        "colab_type": "code",
        "colab": {}
      },
      "source": [
        "a = {'A':90, 'B':80, 'C':70}"
      ],
      "execution_count": 0,
      "outputs": []
    },
    {
      "cell_type": "code",
      "metadata": {
        "id": "pftPbUr0PzUQ",
        "colab_type": "code",
        "colab": {}
      },
      "source": [
        "result = a.pop(\"B\")"
      ],
      "execution_count": 0,
      "outputs": []
    },
    {
      "cell_type": "code",
      "metadata": {
        "id": "8waCFwOdPzZV",
        "colab_type": "code",
        "outputId": "0fa68f44-a1e7-49c7-e278-b0f9759b984d",
        "colab": {
          "base_uri": "https://localhost:8080/",
          "height": 35
        }
      },
      "source": [
        "print(a)"
      ],
      "execution_count": 0,
      "outputs": [
        {
          "output_type": "stream",
          "text": [
            "{'A': 90, 'C': 70}\n"
          ],
          "name": "stdout"
        }
      ]
    },
    {
      "cell_type": "code",
      "metadata": {
        "id": "aTBf7A17Pzcm",
        "colab_type": "code",
        "outputId": "80a685ed-94cd-4837-a0c4-0b6be3546dc2",
        "colab": {
          "base_uri": "https://localhost:8080/",
          "height": 35
        }
      },
      "source": [
        "print(result)"
      ],
      "execution_count": 0,
      "outputs": [
        {
          "output_type": "stream",
          "text": [
            "80\n"
          ],
          "name": "stdout"
        }
      ]
    },
    {
      "cell_type": "code",
      "metadata": {
        "id": "ZiVCBK45Pzhq",
        "colab_type": "code",
        "colab": {}
      },
      "source": [
        "a = [1, 1, 1, 2, 2, 3, 3, 3, 4, 4, 5]"
      ],
      "execution_count": 0,
      "outputs": []
    },
    {
      "cell_type": "code",
      "metadata": {
        "id": "Nn1EA3s1Pzl5",
        "colab_type": "code",
        "colab": {}
      },
      "source": [
        "aSet = set(a)"
      ],
      "execution_count": 0,
      "outputs": []
    },
    {
      "cell_type": "code",
      "metadata": {
        "id": "l5bG78JcPzrK",
        "colab_type": "code",
        "colab": {}
      },
      "source": [
        "b = list(aSet)"
      ],
      "execution_count": 0,
      "outputs": []
    },
    {
      "cell_type": "code",
      "metadata": {
        "id": "CWWpwtY4Pz0S",
        "colab_type": "code",
        "outputId": "4f06f1ac-9b88-4db2-f0f3-7e082c9a4412",
        "colab": {
          "base_uri": "https://localhost:8080/",
          "height": 35
        }
      },
      "source": [
        "print(b)"
      ],
      "execution_count": 0,
      "outputs": [
        {
          "output_type": "stream",
          "text": [
            "[1, 2, 3, 4, 5]\n"
          ],
          "name": "stdout"
        }
      ]
    },
    {
      "cell_type": "code",
      "metadata": {
        "id": "r4SAsBqMPz5u",
        "colab_type": "code",
        "colab": {}
      },
      "source": [
        "#\"=\" 동일한 리스트를 가리키고있다"
      ],
      "execution_count": 0,
      "outputs": []
    },
    {
      "cell_type": "markdown",
      "metadata": {
        "id": "7BZNluyMU_P3",
        "colab_type": "text"
      },
      "source": [
        "# 제어문 "
      ]
    },
    {
      "cell_type": "code",
      "metadata": {
        "id": "EBBNTTrgPz-A",
        "colab_type": "code",
        "outputId": "ee70395b-e0ef-4e4a-afea-c94bdccb8545",
        "colab": {
          "base_uri": "https://localhost:8080/",
          "height": 35
        }
      },
      "source": [
        "\" 돈이 있으면 택시를 타고, 돈이 없으면 걸어 간다.\""
      ],
      "execution_count": 0,
      "outputs": [
        {
          "output_type": "execute_result",
          "data": {
            "text/plain": [
              "' 돈이 있으면 택시를 타고, 돈이 없으면 걸어 간다.'"
            ]
          },
          "metadata": {
            "tags": []
          },
          "execution_count": 48
        }
      ]
    },
    {
      "cell_type": "code",
      "metadata": {
        "id": "WbDsYbzCP0DN",
        "colab_type": "code",
        "outputId": "b153cd31-c1e3-4ebe-82d2-97878a6e6cd7",
        "colab": {
          "base_uri": "https://localhost:8080/",
          "height": 35
        }
      },
      "source": [
        "money = True\n",
        "if money:\n",
        "  print(\"택시를 타고 가라\")\n",
        "else:\n",
        "  print(\"걸어 가라\")"
      ],
      "execution_count": 0,
      "outputs": [
        {
          "output_type": "stream",
          "text": [
            "택시를 타고 가라\n"
          ],
          "name": "stdout"
        }
      ]
    },
    {
      "cell_type": "code",
      "metadata": {
        "id": "xSn_48BjP0Ig",
        "colab_type": "code",
        "outputId": "956ded3a-a28b-434f-9ee8-3abd28f91ff0",
        "colab": {
          "base_uri": "https://localhost:8080/",
          "height": 72
        }
      },
      "source": [
        "money = True\n",
        "if money:\n",
        "    print(\"택시를\")\n",
        "    print(\"타고\")\n",
        "    print(\"가라\")"
      ],
      "execution_count": 0,
      "outputs": [
        {
          "output_type": "stream",
          "text": [
            "택시를\n",
            "타고\n",
            "가라\n"
          ],
          "name": "stdout"
        }
      ]
    },
    {
      "cell_type": "markdown",
      "metadata": {
        "id": "EwBk-r2jWSoN",
        "colab_type": "text"
      },
      "source": [
        "# 조건문 "
      ]
    },
    {
      "cell_type": "code",
      "metadata": {
        "id": "PzkS186VP0P-",
        "colab_type": "code",
        "outputId": "8733db5e-3cce-4077-ff0d-982ddcc20fea",
        "colab": {
          "base_uri": "https://localhost:8080/",
          "height": 35
        }
      },
      "source": [
        "x = 3 \n",
        "y = 2\n",
        "x > y\n"
      ],
      "execution_count": 0,
      "outputs": [
        {
          "output_type": "execute_result",
          "data": {
            "text/plain": [
              "True"
            ]
          },
          "metadata": {
            "tags": []
          },
          "execution_count": 54
        }
      ]
    },
    {
      "cell_type": "code",
      "metadata": {
        "id": "EzqF_pBVP0TT",
        "colab_type": "code",
        "outputId": "4d0e8272-fbfe-447e-aaa2-1b7167014414",
        "colab": {
          "base_uri": "https://localhost:8080/",
          "height": 35
        }
      },
      "source": [
        "x < y"
      ],
      "execution_count": 0,
      "outputs": [
        {
          "output_type": "execute_result",
          "data": {
            "text/plain": [
              "False"
            ]
          },
          "metadata": {
            "tags": []
          },
          "execution_count": 55
        }
      ]
    },
    {
      "cell_type": "code",
      "metadata": {
        "id": "-9fx44c0P0fK",
        "colab_type": "code",
        "outputId": "064dda34-a9e7-4c42-f5a9-cfd0bf6f1ebe",
        "colab": {
          "base_uri": "https://localhost:8080/",
          "height": 35
        }
      },
      "source": [
        "x == y"
      ],
      "execution_count": 0,
      "outputs": [
        {
          "output_type": "execute_result",
          "data": {
            "text/plain": [
              "False"
            ]
          },
          "metadata": {
            "tags": []
          },
          "execution_count": 56
        }
      ]
    },
    {
      "cell_type": "code",
      "metadata": {
        "id": "6RVKYHClP0jz",
        "colab_type": "code",
        "outputId": "1423dfbf-8cdc-4ebf-8193-08e219cb7254",
        "colab": {
          "base_uri": "https://localhost:8080/",
          "height": 35
        }
      },
      "source": [
        "x != y"
      ],
      "execution_count": 0,
      "outputs": [
        {
          "output_type": "execute_result",
          "data": {
            "text/plain": [
              "True"
            ]
          },
          "metadata": {
            "tags": []
          },
          "execution_count": 59
        }
      ]
    },
    {
      "cell_type": "code",
      "metadata": {
        "id": "xYE9K7a5P0nZ",
        "colab_type": "code",
        "outputId": "c0070251-f837-4192-8240-7582fc4ecc57",
        "colab": {
          "base_uri": "https://localhost:8080/",
          "height": 35
        }
      },
      "source": [
        "money =  2000\n",
        "if money >= 3000:\n",
        "  print(\"택시를 타고 가라\")\n",
        "else:\n",
        "  print(\"걸어가라\")"
      ],
      "execution_count": 0,
      "outputs": [
        {
          "output_type": "stream",
          "text": [
            "걸어가라\n"
          ],
          "name": "stdout"
        }
      ]
    },
    {
      "cell_type": "markdown",
      "metadata": {
        "id": "eSDelHFgXVYT",
        "colab_type": "text"
      },
      "source": [
        "# and, or, not"
      ]
    },
    {
      "cell_type": "code",
      "metadata": {
        "id": "jqfHPmF0P0sv",
        "colab_type": "code",
        "outputId": "c9166d9c-b1e4-44db-acc6-5bc5030f4533",
        "colab": {
          "base_uri": "https://localhost:8080/",
          "height": 35
        }
      },
      "source": [
        "money = 2000\n",
        "card = True\n",
        "if money >= 3000 or card:\n",
        "  print(\"택시를 타고 가라\")\n",
        "else:\n",
        "  print(\"걸어가라\")"
      ],
      "execution_count": 0,
      "outputs": [
        {
          "output_type": "stream",
          "text": [
            "택시를 타고 가라\n"
          ],
          "name": "stdout"
        }
      ]
    },
    {
      "cell_type": "markdown",
      "metadata": {
        "id": "NpkKsZtjYDF6",
        "colab_type": "text"
      },
      "source": [
        "# x in s, x not in s"
      ]
    },
    {
      "cell_type": "code",
      "metadata": {
        "id": "fTAfGGf4P0bR",
        "colab_type": "code",
        "outputId": "e3384fd4-9b39-4348-ce6c-ef026dadf3a7",
        "colab": {
          "base_uri": "https://localhost:8080/",
          "height": 35
        }
      },
      "source": [
        "1 in [1,2,3]"
      ],
      "execution_count": 0,
      "outputs": [
        {
          "output_type": "execute_result",
          "data": {
            "text/plain": [
              "True"
            ]
          },
          "metadata": {
            "tags": []
          },
          "execution_count": 65
        }
      ]
    },
    {
      "cell_type": "code",
      "metadata": {
        "id": "TdTHpgp6P0Xx",
        "colab_type": "code",
        "outputId": "7d623358-2d21-48dd-8bcc-6178ef33bfc3",
        "colab": {
          "base_uri": "https://localhost:8080/",
          "height": 35
        }
      },
      "source": [
        "1 not in [1,2,3]"
      ],
      "execution_count": 0,
      "outputs": [
        {
          "output_type": "execute_result",
          "data": {
            "text/plain": [
              "False"
            ]
          },
          "metadata": {
            "tags": []
          },
          "execution_count": 66
        }
      ]
    },
    {
      "cell_type": "code",
      "metadata": {
        "id": "Mvru0uLpPzwP",
        "colab_type": "code",
        "outputId": "cb58509e-3275-4527-ba81-27e5db081532",
        "colab": {
          "base_uri": "https://localhost:8080/",
          "height": 35
        }
      },
      "source": [
        "\"a\" in (\"a\",\"b\",\"c\")"
      ],
      "execution_count": 0,
      "outputs": [
        {
          "output_type": "execute_result",
          "data": {
            "text/plain": [
              "True"
            ]
          },
          "metadata": {
            "tags": []
          },
          "execution_count": 67
        }
      ]
    },
    {
      "cell_type": "code",
      "metadata": {
        "id": "EqWAyldyPzLh",
        "colab_type": "code",
        "outputId": "07379f00-ed2c-4118-a27a-cb912e6dde9c",
        "colab": {
          "base_uri": "https://localhost:8080/",
          "height": 35
        }
      },
      "source": [
        "\"j\" not in \"python\""
      ],
      "execution_count": 0,
      "outputs": [
        {
          "output_type": "execute_result",
          "data": {
            "text/plain": [
              "True"
            ]
          },
          "metadata": {
            "tags": []
          },
          "execution_count": 68
        }
      ]
    },
    {
      "cell_type": "code",
      "metadata": {
        "id": "4dw5lb98PzHT",
        "colab_type": "code",
        "outputId": "bf4e82c9-2bb2-40ba-aa96-463185559a91",
        "colab": {
          "base_uri": "https://localhost:8080/",
          "height": 35
        }
      },
      "source": [
        "\"만약 주머니에 돈이 있으면 택시를 타고, 없으면 걸어 가라.\""
      ],
      "execution_count": 0,
      "outputs": [
        {
          "output_type": "execute_result",
          "data": {
            "text/plain": [
              "'만약 주머니에 돈이 있으면 택시를 타고, 없으면 걸어 가라.'"
            ]
          },
          "metadata": {
            "tags": []
          },
          "execution_count": 69
        }
      ]
    },
    {
      "cell_type": "code",
      "metadata": {
        "id": "2YfX6ih3Y8c_",
        "colab_type": "code",
        "outputId": "5abdc4de-43a0-4a62-ecf7-fb92336080cc",
        "colab": {
          "base_uri": "https://localhost:8080/",
          "height": 35
        }
      },
      "source": [
        "pocket = ['paper', 'cellphon', 'money']\n",
        "if 'money' in pocket:\n",
        "  print(\"택시를 타고 가라\")\n",
        "else:\n",
        "  print(\"걸어가라\")"
      ],
      "execution_count": 0,
      "outputs": [
        {
          "output_type": "stream",
          "text": [
            "택시를 타고 가라\n"
          ],
          "name": "stdout"
        }
      ]
    },
    {
      "cell_type": "code",
      "metadata": {
        "id": "0ueFwzFlY8nW",
        "colab_type": "code",
        "colab": {}
      },
      "source": [
        "pocket = ['paper', 'money', 'cellphone']\n",
        "if 'money' in pocket:\n",
        "  pass\n",
        "else:\n",
        "  print(\"카드를 꺼내라\")"
      ],
      "execution_count": 0,
      "outputs": []
    },
    {
      "cell_type": "code",
      "metadata": {
        "id": "kXcQMmGtY8rc",
        "colab_type": "code",
        "outputId": "cb75e8f2-f9a6-4935-cef5-f6ece6ba3e92",
        "colab": {
          "base_uri": "https://localhost:8080/",
          "height": 35
        }
      },
      "source": [
        "pocket = ['paper', 'handphone']\n",
        "card = True\n",
        "\n",
        "if 'money' in pocket:\n",
        "   print(\"택를 타고가라\")\n",
        "else:  \n",
        "  print(\"걸어가라\")"
      ],
      "execution_count": 0,
      "outputs": [
        {
          "output_type": "stream",
          "text": [
            "걸어가라\n"
          ],
          "name": "stdout"
        }
      ]
    },
    {
      "cell_type": "code",
      "metadata": {
        "id": "vh2nhS-kY8vr",
        "colab_type": "code",
        "outputId": "0eca35c5-4191-48dd-fbd1-54343524016f",
        "colab": {
          "base_uri": "https://localhost:8080/",
          "height": 35
        }
      },
      "source": [
        "pocket = ['paper', 'handphone']\n",
        "card = True\n",
        "\n",
        "if 'money' in pocket:\n",
        "   print(\"택를 타고가라\")\n",
        "elif card:\n",
        "  print(\"택시를 타고가라\")\n",
        "else:  \n",
        "  print(\"걸어가라\")"
      ],
      "execution_count": 0,
      "outputs": [
        {
          "output_type": "stream",
          "text": [
            "택시를 타고가라\n"
          ],
          "name": "stdout"
        }
      ]
    },
    {
      "cell_type": "code",
      "metadata": {
        "id": "fiU0kneEY85B",
        "colab_type": "code",
        "outputId": "4c19b794-c93d-48d1-a14d-5e7a1cf70fc6",
        "colab": {
          "base_uri": "https://localhost:8080/",
          "height": 35
        }
      },
      "source": [
        "if 'money' in pocket:\n",
        "  pass\n",
        "else:\n",
        "  print(\"카드를 꺼내라\")"
      ],
      "execution_count": 0,
      "outputs": [
        {
          "output_type": "stream",
          "text": [
            "카드를 꺼내라\n"
          ],
          "name": "stdout"
        }
      ]
    },
    {
      "cell_type": "code",
      "metadata": {
        "id": "Z9iUTKtsY89l",
        "colab_type": "code",
        "colab": {}
      },
      "source": [
        "pocket = ['paper', 'money', 'cellphone']\n",
        "if 'money' in pocket: pass\n",
        "else: print(\"카드를 꺼내라\")"
      ],
      "execution_count": 0,
      "outputs": []
    },
    {
      "cell_type": "markdown",
      "metadata": {
        "id": "FaabA_hrZjv3",
        "colab_type": "text"
      },
      "source": [
        "# 조건부 표현식"
      ]
    },
    {
      "cell_type": "code",
      "metadata": {
        "id": "qtwOiRaKY9B2",
        "colab_type": "code",
        "outputId": "45762bd0-0f1e-4c1c-d53c-c6e87d3866aa",
        "colab": {
          "base_uri": "https://localhost:8080/",
          "height": 227
        }
      },
      "source": [
        "if score >= 60:\n",
        "  message = \"success\"\n",
        "else:\n",
        "  message = \"failure\""
      ],
      "execution_count": 0,
      "outputs": [
        {
          "output_type": "error",
          "ename": "NameError",
          "evalue": "ignored",
          "traceback": [
            "\u001b[0;31m---------------------------------------------------------------------------\u001b[0m",
            "\u001b[0;31mNameError\u001b[0m                                 Traceback (most recent call last)",
            "\u001b[0;32m<ipython-input-9-4d62f5145c59>\u001b[0m in \u001b[0;36m<module>\u001b[0;34m()\u001b[0m\n\u001b[0;32m----> 1\u001b[0;31m \u001b[0;32mif\u001b[0m \u001b[0mscore\u001b[0m \u001b[0;34m>=\u001b[0m \u001b[0;36m60\u001b[0m\u001b[0;34m:\u001b[0m\u001b[0;34m\u001b[0m\u001b[0;34m\u001b[0m\u001b[0m\n\u001b[0m\u001b[1;32m      2\u001b[0m   \u001b[0mmessage\u001b[0m \u001b[0;34m=\u001b[0m \u001b[0;34m\"success\"\u001b[0m\u001b[0;34m\u001b[0m\u001b[0;34m\u001b[0m\u001b[0m\n\u001b[1;32m      3\u001b[0m \u001b[0;32melse\u001b[0m\u001b[0;34m:\u001b[0m\u001b[0;34m\u001b[0m\u001b[0;34m\u001b[0m\u001b[0m\n\u001b[1;32m      4\u001b[0m   \u001b[0mmessage\u001b[0m \u001b[0;34m=\u001b[0m \u001b[0;34m\"failure\"\u001b[0m\u001b[0;34m\u001b[0m\u001b[0;34m\u001b[0m\u001b[0m\n",
            "\u001b[0;31mNameError\u001b[0m: name 'score' is not defined"
          ]
        }
      ]
    },
    {
      "cell_type": "code",
      "metadata": {
        "id": "dJdpyTexY9GU",
        "colab_type": "code",
        "outputId": "938017c3-ff05-478b-ab4a-ca18db2510cb",
        "colab": {
          "base_uri": "https://localhost:8080/",
          "height": 173
        }
      },
      "source": [
        "message = \"success\" if score >= 60 else \"failure\""
      ],
      "execution_count": 0,
      "outputs": [
        {
          "output_type": "error",
          "ename": "NameError",
          "evalue": "ignored",
          "traceback": [
            "\u001b[0;31m---------------------------------------------------------------------------\u001b[0m",
            "\u001b[0;31mNameError\u001b[0m                                 Traceback (most recent call last)",
            "\u001b[0;32m<ipython-input-10-c3618d307639>\u001b[0m in \u001b[0;36m<module>\u001b[0;34m()\u001b[0m\n\u001b[0;32m----> 1\u001b[0;31m \u001b[0mmessage\u001b[0m \u001b[0;34m=\u001b[0m \u001b[0;34m\"success\"\u001b[0m \u001b[0;32mif\u001b[0m \u001b[0mscore\u001b[0m \u001b[0;34m>=\u001b[0m \u001b[0;36m60\u001b[0m \u001b[0;32melse\u001b[0m \u001b[0;34m\"failure\"\u001b[0m\u001b[0;34m\u001b[0m\u001b[0;34m\u001b[0m\u001b[0m\n\u001b[0m",
            "\u001b[0;31mNameError\u001b[0m: name 'score' is not defined"
          ]
        }
      ]
    },
    {
      "cell_type": "markdown",
      "metadata": {
        "id": "fxviLlX_Z-oU",
        "colab_type": "text"
      },
      "source": [
        "# while문"
      ]
    },
    {
      "cell_type": "code",
      "metadata": {
        "id": "xA3Btm9SY9K7",
        "colab_type": "code",
        "outputId": "e64d1919-f79c-427d-b148-24326cb3e605",
        "colab": {
          "base_uri": "https://localhost:8080/",
          "height": 217
        }
      },
      "source": [
        "threeHit = 0\n",
        "while threeHit <10:\n",
        "  \n",
        "  threeHit = threeHit +1\n",
        "  print(\"나무를 %d번 찍었습니다.\" % threeHit)\n",
        "  if threeHit == 10:\n",
        "    print(\"나무 넘어갑니다.\")\n",
        "  "
      ],
      "execution_count": 0,
      "outputs": [
        {
          "output_type": "stream",
          "text": [
            "나무를 1번 찍었습니다.\n",
            "나무를 2번 찍었습니다.\n",
            "나무를 3번 찍었습니다.\n",
            "나무를 4번 찍었습니다.\n",
            "나무를 5번 찍었습니다.\n",
            "나무를 6번 찍었습니다.\n",
            "나무를 7번 찍었습니다.\n",
            "나무를 8번 찍었습니다.\n",
            "나무를 9번 찍었습니다.\n",
            "나무를 10번 찍었습니다.\n",
            "나무 넘어갑니다.\n"
          ],
          "name": "stdout"
        }
      ]
    },
    {
      "cell_type": "code",
      "metadata": {
        "id": "zdqk_zE-Y9PP",
        "colab_type": "code",
        "colab": {}
      },
      "source": [
        "prompt = \"\"\"\n",
        "1. Add\n",
        "2. Del\n",
        "3. List\n",
        "4. Quit\n",
        "Enter number: \"\"\""
      ],
      "execution_count": 0,
      "outputs": []
    },
    {
      "cell_type": "code",
      "metadata": {
        "id": "ClbHRvzTY9Tm",
        "colab_type": "code",
        "outputId": "8cb26a90-4364-4279-d75f-f4a1068c0573",
        "colab": {
          "base_uri": "https://localhost:8080/",
          "height": 272
        }
      },
      "source": [
        "number = 0\n",
        "while number != 4:\n",
        "  print(prompt)\n",
        "  number = int(input())"
      ],
      "execution_count": 0,
      "outputs": [
        {
          "output_type": "stream",
          "text": [
            "\n",
            "1. Add\n",
            "2. Del\n",
            "3. List\n",
            "4. Quit\n",
            "Enter number: \n",
            "1\n",
            "\n",
            "1. Add\n",
            "2. Del\n",
            "3. List\n",
            "4. Quit\n",
            "Enter number: \n",
            "4\n"
          ],
          "name": "stdout"
        }
      ]
    },
    {
      "cell_type": "code",
      "metadata": {
        "id": "aDYP39vxY9X0",
        "colab_type": "code",
        "colab": {
          "base_uri": "https://localhost:8080/",
          "height": 399
        },
        "outputId": "f042500b-2eee-4831-e575-050b9ac720dd"
      },
      "source": [
        "coffee = 10\n",
        "money = 300\n",
        "while money:\n",
        "    print(\"돈을 받았으니 커피를 줍시다.\")\n",
        "    coffee = coffee -1\n",
        "    print(\"남은 커피의 양은 %d개입니다.\" % coffee)\n",
        "    if coffee == 0:\n",
        "        print(\"커피가 다 떨어졌습니다.판매를 중지합니다.\")\n",
        "        break\n",
        "    "
      ],
      "execution_count": 5,
      "outputs": [
        {
          "output_type": "stream",
          "text": [
            "돈을 받았으니 커피를 줍시다.\n",
            "남은 커피의 양은 9개입니다.\n",
            "돈을 받았으니 커피를 줍시다.\n",
            "남은 커피의 양은 8개입니다.\n",
            "돈을 받았으니 커피를 줍시다.\n",
            "남은 커피의 양은 7개입니다.\n",
            "돈을 받았으니 커피를 줍시다.\n",
            "남은 커피의 양은 6개입니다.\n",
            "돈을 받았으니 커피를 줍시다.\n",
            "남은 커피의 양은 5개입니다.\n",
            "돈을 받았으니 커피를 줍시다.\n",
            "남은 커피의 양은 4개입니다.\n",
            "돈을 받았으니 커피를 줍시다.\n",
            "남은 커피의 양은 3개입니다.\n",
            "돈을 받았으니 커피를 줍시다.\n",
            "남은 커피의 양은 2개입니다.\n",
            "돈을 받았으니 커피를 줍시다.\n",
            "남은 커피의 양은 1개입니다.\n",
            "돈을 받았으니 커피를 줍시다.\n",
            "남은 커피의 양은 0개입니다.\n",
            "커피가 다 떨어졌습니다.판매를 중지합니다.\n"
          ],
          "name": "stdout"
        }
      ]
    },
    {
      "cell_type": "code",
      "metadata": {
        "id": "MsVPDkdlY9cM",
        "colab_type": "code",
        "colab": {
          "base_uri": "https://localhost:8080/",
          "height": 454
        },
        "outputId": "80bd1be8-0000-4cc9-b7b7-d8fa4bdb6286"
      },
      "source": [
        "coffee = 10\n",
        "while True:\n",
        "    money = int(input(\"돈을 넣어 주세요: \"))\n",
        "    if money == 300:\n",
        "        print(\"커피를 줍니다.\")\n",
        "        coffee = coffee -1\n",
        "    elif money > 300:\n",
        "        print(\"거스름돈 %d를 주고 커피를 줍니다.\" % (money -300))\n",
        "        coffee = coffee -1\n",
        "    else:\n",
        "        print(\"돈을 다시 돌려주고 커피를 주지 않습니다.\")\n",
        "        print(\"남은 커피의 양은 %d개 입니다.\" % coffee)\n",
        "    if coffee == 0:\n",
        "        print(\"커피가 다 떨어졌습니다. 판매를 중지 합니다.\")\n",
        "        break"
      ],
      "execution_count": 6,
      "outputs": [
        {
          "output_type": "stream",
          "text": [
            "돈을 넣어 주세요: 2000\n",
            "거스름돈 1700를 주고 커피를 줍니다.\n",
            "돈을 넣어 주세요: 100\n",
            "돈을 다시 돌려주고 커피를 주지 않습니다.\n",
            "남은 커피의 양은 9개 입니다.\n",
            "돈을 넣어 주세요: 3000\n",
            "거스름돈 2700를 주고 커피를 줍니다.\n",
            "돈을 넣어 주세요: 5000\n",
            "거스름돈 4700를 주고 커피를 줍니다.\n",
            "돈을 넣어 주세요: 3000\n",
            "거스름돈 2700를 주고 커피를 줍니다.\n",
            "돈을 넣어 주세요: 5000\n",
            "거스름돈 4700를 주고 커피를 줍니다.\n",
            "돈을 넣어 주세요: 3000\n",
            "거스름돈 2700를 주고 커피를 줍니다.\n",
            "돈을 넣어 주세요: 5000\n",
            "거스름돈 4700를 주고 커피를 줍니다.\n",
            "돈을 넣어 주세요: 6000\n",
            "거스름돈 5700를 주고 커피를 줍니다.\n",
            "돈을 넣어 주세요: 5000\n",
            "거스름돈 4700를 주고 커피를 줍니다.\n",
            "돈을 넣어 주세요: 2000\n",
            "거스름돈 1700를 주고 커피를 줍니다.\n",
            "커피가 다 떨어졌습니다. 판매를 중지 합니다.\n"
          ],
          "name": "stdout"
        }
      ]
    },
    {
      "cell_type": "code",
      "metadata": {
        "id": "cQ9mm4dsY9gb",
        "colab_type": "code",
        "colab": {}
      },
      "source": [
        ""
      ],
      "execution_count": 0,
      "outputs": []
    },
    {
      "cell_type": "markdown",
      "metadata": {
        "id": "OE3Fcc8gXXLM",
        "colab_type": "text"
      },
      "source": [
        "# 함수 "
      ]
    },
    {
      "cell_type": "code",
      "metadata": {
        "id": "8kFmKHAoY9lE",
        "colab_type": "code",
        "colab": {}
      },
      "source": [
        "def add(a, b):\n",
        "  return a+b"
      ],
      "execution_count": 0,
      "outputs": []
    },
    {
      "cell_type": "code",
      "metadata": {
        "id": "5qXpkC7RY9pY",
        "colab_type": "code",
        "colab": {
          "base_uri": "https://localhost:8080/",
          "height": 35
        },
        "outputId": "c5d1d88e-2aef-4dfc-9249-273682917470"
      },
      "source": [
        "a = 3\n",
        "b = 4\n",
        "c = add(a, b)\n",
        "print(c)\n"
      ],
      "execution_count": 10,
      "outputs": [
        {
          "output_type": "stream",
          "text": [
            "7\n"
          ],
          "name": "stdout"
        }
      ]
    },
    {
      "cell_type": "markdown",
      "metadata": {
        "id": "yyhLAW1vYQhZ",
        "colab_type": "text"
      },
      "source": [
        "#입력값이 없는 함수"
      ]
    },
    {
      "cell_type": "code",
      "metadata": {
        "id": "ITP3UV-BY9so",
        "colab_type": "code",
        "colab": {}
      },
      "source": [
        "def say():\n",
        "    return \"Hi\""
      ],
      "execution_count": 0,
      "outputs": []
    },
    {
      "cell_type": "code",
      "metadata": {
        "id": "nnO9bS1hY9wy",
        "colab_type": "code",
        "colab": {
          "base_uri": "https://localhost:8080/",
          "height": 35
        },
        "outputId": "d2139591-8c16-47a9-e401-6f6dc8eaf3e7"
      },
      "source": [
        "a=say()\n",
        "print(a)"
      ],
      "execution_count": 12,
      "outputs": [
        {
          "output_type": "stream",
          "text": [
            "Hi\n"
          ],
          "name": "stdout"
        }
      ]
    },
    {
      "cell_type": "code",
      "metadata": {
        "id": "viP09We0Y91U",
        "colab_type": "code",
        "colab": {}
      },
      "source": [
        "def add(a,b):\n",
        "    print(\"%d, %d의 합은 %d입니다.\" %(a,b,a+b))"
      ],
      "execution_count": 0,
      "outputs": []
    },
    {
      "cell_type": "code",
      "metadata": {
        "id": "tNvxvModY941",
        "colab_type": "code",
        "colab": {
          "base_uri": "https://localhost:8080/",
          "height": 35
        },
        "outputId": "fa21c543-0b18-408e-a712-d6ea0cb0554f"
      },
      "source": [
        "add(3, 4)"
      ],
      "execution_count": 15,
      "outputs": [
        {
          "output_type": "stream",
          "text": [
            "3, 4의 합은 7입니다.\n"
          ],
          "name": "stdout"
        }
      ]
    },
    {
      "cell_type": "code",
      "metadata": {
        "id": "tvd7YyWAY98s",
        "colab_type": "code",
        "colab": {
          "base_uri": "https://localhost:8080/",
          "height": 54
        },
        "outputId": "512f28d3-0a27-4dd8-90de-09ce920e47ae"
      },
      "source": [
        "a = add(3, 4)\n",
        "print(a)"
      ],
      "execution_count": 17,
      "outputs": [
        {
          "output_type": "stream",
          "text": [
            "3, 4의 합은 7입니다.\n",
            "None\n"
          ],
          "name": "stdout"
        }
      ]
    },
    {
      "cell_type": "code",
      "metadata": {
        "id": "arI4-qo1Y5xV",
        "colab_type": "code",
        "colab": {}
      },
      "source": [
        "def say():\n",
        "    print(\"Hi\")"
      ],
      "execution_count": 0,
      "outputs": []
    },
    {
      "cell_type": "code",
      "metadata": {
        "id": "kW9L6lzVY-Az",
        "colab_type": "code",
        "colab": {
          "base_uri": "https://localhost:8080/",
          "height": 35
        },
        "outputId": "512b6082-ee43-42a7-9c10-e188dc495d05"
      },
      "source": [
        "say()"
      ],
      "execution_count": 19,
      "outputs": [
        {
          "output_type": "stream",
          "text": [
            "Hi\n"
          ],
          "name": "stdout"
        }
      ]
    },
    {
      "cell_type": "markdown",
      "metadata": {
        "id": "ivF5Q3D2ZsLa",
        "colab_type": "text"
      },
      "source": [
        "# 매개변수 지정 호출"
      ]
    },
    {
      "cell_type": "code",
      "metadata": {
        "id": "DVBz-oi2Z8PF",
        "colab_type": "code",
        "colab": {}
      },
      "source": [
        "def add(a, b):\n",
        "  return a+b"
      ],
      "execution_count": 0,
      "outputs": []
    },
    {
      "cell_type": "code",
      "metadata": {
        "id": "x80JdbmXY-FU",
        "colab_type": "code",
        "colab": {
          "base_uri": "https://localhost:8080/",
          "height": 35
        },
        "outputId": "62ff616a-e4a2-4037-b1c8-c21639cb6924"
      },
      "source": [
        "result = add(a=3, b=7)\n",
        "print(result)\n"
      ],
      "execution_count": 25,
      "outputs": [
        {
          "output_type": "stream",
          "text": [
            "10\n"
          ],
          "name": "stdout"
        }
      ]
    },
    {
      "cell_type": "code",
      "metadata": {
        "id": "xhQJNkqcZ1YJ",
        "colab_type": "code",
        "colab": {
          "base_uri": "https://localhost:8080/",
          "height": 35
        },
        "outputId": "dd5b9a7b-defd-41c3-e787-90dbbf29a141"
      },
      "source": [
        "result = add(a=5,b=3)\n",
        "print(result)\n"
      ],
      "execution_count": 26,
      "outputs": [
        {
          "output_type": "stream",
          "text": [
            "8\n"
          ],
          "name": "stdout"
        }
      ]
    },
    {
      "cell_type": "markdown",
      "metadata": {
        "id": "9vVLvx3YaJNS",
        "colab_type": "text"
      },
      "source": [
        "#여러개의 입력값을 받는 함수"
      ]
    },
    {
      "cell_type": "code",
      "metadata": {
        "id": "6RsdAWjQZyUc",
        "colab_type": "code",
        "colab": {}
      },
      "source": [
        "def add_many(*args): \n",
        "     result = 0 \n",
        "     for i in args: \n",
        "         result = result + i \n",
        "     return result "
      ],
      "execution_count": 0,
      "outputs": []
    },
    {
      "cell_type": "code",
      "metadata": {
        "id": "s3CmvlVzY-JO",
        "colab_type": "code",
        "colab": {
          "base_uri": "https://localhost:8080/",
          "height": 35
        },
        "outputId": "dba4ce4e-1fed-4eee-d852-47c5118555f9"
      },
      "source": [
        "result=add_many(1,2,3)\n",
        "print(result)"
      ],
      "execution_count": 30,
      "outputs": [
        {
          "output_type": "stream",
          "text": [
            "6\n"
          ],
          "name": "stdout"
        }
      ]
    },
    {
      "cell_type": "code",
      "metadata": {
        "id": "jhSvZjcWY-N9",
        "colab_type": "code",
        "colab": {
          "base_uri": "https://localhost:8080/",
          "height": 35
        },
        "outputId": "c2f176a7-aa18-40b9-d724-04f3c759bcea"
      },
      "source": [
        "result=add_many(1,2,3,4,5,6,7,8,9,10)\n",
        "print(result)"
      ],
      "execution_count": 31,
      "outputs": [
        {
          "output_type": "stream",
          "text": [
            "55\n"
          ],
          "name": "stdout"
        }
      ]
    },
    {
      "cell_type": "code",
      "metadata": {
        "id": "9zm-CjXaY-Rr",
        "colab_type": "code",
        "colab": {}
      },
      "source": [
        "def add_mul(choice, *args): \n",
        "     if choice == \"add\": \n",
        "         result = 0 \n",
        "         for i in args: \n",
        "             result = result + i \n",
        "     elif choice == \"mul\": \n",
        "         result = 1 \n",
        "         for i in args: \n",
        "             result = result * i \n",
        "     return result \n",
        " "
      ],
      "execution_count": 0,
      "outputs": []
    },
    {
      "cell_type": "code",
      "metadata": {
        "id": "r12a-xk2Y-Vv",
        "colab_type": "code",
        "colab": {
          "base_uri": "https://localhost:8080/",
          "height": 35
        },
        "outputId": "aa582db4-21b3-4b5d-b4ee-a874a12250b2"
      },
      "source": [
        "result = add_mul('add', 1,2,3,4,5)\n",
        "print(result)"
      ],
      "execution_count": 36,
      "outputs": [
        {
          "output_type": "stream",
          "text": [
            "15\n"
          ],
          "name": "stdout"
        }
      ]
    },
    {
      "cell_type": "code",
      "metadata": {
        "id": "rsopgaueY-Zp",
        "colab_type": "code",
        "colab": {
          "base_uri": "https://localhost:8080/",
          "height": 35
        },
        "outputId": "edb8cc3c-1fc8-4d8a-f598-8ad2094030ad"
      },
      "source": [
        "result = add_mul('mul', 1,2,3,4,5)\n",
        "print(result)\n"
      ],
      "execution_count": 37,
      "outputs": [
        {
          "output_type": "stream",
          "text": [
            "120\n"
          ],
          "name": "stdout"
        }
      ]
    },
    {
      "cell_type": "markdown",
      "metadata": {
        "id": "9qcGK0dwbPso",
        "colab_type": "text"
      },
      "source": [
        "# 함수의 결괏값은 언제나 하나이다"
      ]
    },
    {
      "cell_type": "code",
      "metadata": {
        "id": "wzxcE6nTY-ea",
        "colab_type": "code",
        "colab": {}
      },
      "source": [
        "def add_and_mul(a,b):\n",
        "  return a+b, a*b"
      ],
      "execution_count": 0,
      "outputs": []
    },
    {
      "cell_type": "code",
      "metadata": {
        "id": "U8O9jcVTbJOi",
        "colab_type": "code",
        "colab": {}
      },
      "source": [
        "result = add_and_mul(3,4)"
      ],
      "execution_count": 0,
      "outputs": []
    },
    {
      "cell_type": "code",
      "metadata": {
        "id": "kCID8HxAbJYD",
        "colab_type": "code",
        "colab": {
          "base_uri": "https://localhost:8080/",
          "height": 35
        },
        "outputId": "c9e54d81-d0ff-4074-ca74-214a6419bc58"
      },
      "source": [
        "print(result)"
      ],
      "execution_count": 41,
      "outputs": [
        {
          "output_type": "stream",
          "text": [
            "(7, 12)\n"
          ],
          "name": "stdout"
        }
      ]
    },
    {
      "cell_type": "code",
      "metadata": {
        "id": "Tr5SnxBIbJdb",
        "colab_type": "code",
        "colab": {}
      },
      "source": [
        "def say_nick(nick):\n",
        "    if nick == \"바보\":\n",
        "        return\n",
        "    print(\"나의 별명은 %s입니다.\" %nick)"
      ],
      "execution_count": 0,
      "outputs": []
    },
    {
      "cell_type": "code",
      "metadata": {
        "id": "VD1Jvp8_bKd3",
        "colab_type": "code",
        "colab": {
          "base_uri": "https://localhost:8080/",
          "height": 35
        },
        "outputId": "64126247-71ea-427f-98bb-a78ff6bbf925"
      },
      "source": [
        "say_nick(\"야호\")"
      ],
      "execution_count": 44,
      "outputs": [
        {
          "output_type": "stream",
          "text": [
            "나의 별명은 야호입니다.\n"
          ],
          "name": "stdout"
        }
      ]
    },
    {
      "cell_type": "code",
      "metadata": {
        "id": "mNjWx8N1bK_f",
        "colab_type": "code",
        "colab": {}
      },
      "source": [
        "say_nick(\"바보\")"
      ],
      "execution_count": 0,
      "outputs": []
    },
    {
      "cell_type": "markdown",
      "metadata": {
        "id": "NSKQ2O16cYFj",
        "colab_type": "text"
      },
      "source": [
        "#매개변수에 초깃값 미리 설정하기"
      ]
    },
    {
      "cell_type": "code",
      "metadata": {
        "id": "-OLkfc67bLo9",
        "colab_type": "code",
        "colab": {}
      },
      "source": [
        "def say_myself(name, old, man=True): \n",
        "    print(\"나의 이름은 %s 입니다.\" % name) \n",
        "    print(\"나이는 %d살입니다.\" % old) \n",
        "    if man: \n",
        "        print(\"남자입니다.\")\n",
        "    else: \n",
        "        print(\"여자입니다.\")"
      ],
      "execution_count": 0,
      "outputs": []
    },
    {
      "cell_type": "code",
      "metadata": {
        "id": "fySzXEVNbL1F",
        "colab_type": "code",
        "colab": {
          "base_uri": "https://localhost:8080/",
          "height": 72
        },
        "outputId": "3776ad80-7e89-42d1-f893-08e837f3a117"
      },
      "source": [
        "say_myself(\"박응용\",27)"
      ],
      "execution_count": 47,
      "outputs": [
        {
          "output_type": "stream",
          "text": [
            "나의 이름은 박응용 입니다.\n",
            "나이는 27살입니다.\n",
            "남자입니다.\n"
          ],
          "name": "stdout"
        }
      ]
    },
    {
      "cell_type": "code",
      "metadata": {
        "id": "KMsCUOg_bL_k",
        "colab_type": "code",
        "colab": {
          "base_uri": "https://localhost:8080/",
          "height": 72
        },
        "outputId": "9b269c92-b9cb-48e7-f4c9-57d0c0f82c95"
      },
      "source": [
        "say_myself(\"박응선\",27,False)"
      ],
      "execution_count": 50,
      "outputs": [
        {
          "output_type": "stream",
          "text": [
            "나의 이름은 박응선 입니다.\n",
            "나이는 27살입니다.\n",
            "여자입니다.\n"
          ],
          "name": "stdout"
        }
      ]
    },
    {
      "cell_type": "code",
      "metadata": {
        "id": "Ocjtc9ZCbMJm",
        "colab_type": "code",
        "colab": {
          "base_uri": "https://localhost:8080/",
          "height": 136
        },
        "outputId": "b230fc25-48e6-4f50-8d18-f86a0d83885d"
      },
      "source": [
        "def say_myself(name, man=True, old): \n",
        "    print(\"나의 이름은 %s 입니다.\" % name) \n",
        "    print(\"나이는 %d살입니다.\" % old) \n",
        "    if man: \n",
        "        print(\"남자입니다.\") \n",
        "    else: \n",
        "        print(\"여자입니다.\")"
      ],
      "execution_count": 51,
      "outputs": [
        {
          "output_type": "error",
          "ename": "SyntaxError",
          "evalue": "ignored",
          "traceback": [
            "\u001b[0;36m  File \u001b[0;32m\"<ipython-input-51-52c3af61a84d>\"\u001b[0;36m, line \u001b[0;32m1\u001b[0m\n\u001b[0;31m    def say_myself(name, man=True, old):\u001b[0m\n\u001b[0m                  ^\u001b[0m\n\u001b[0;31mSyntaxError\u001b[0m\u001b[0;31m:\u001b[0m non-default argument follows default argument\n"
          ]
        }
      ]
    },
    {
      "cell_type": "markdown",
      "metadata": {
        "id": "CiQU8Wd9dGnS",
        "colab_type": "text"
      },
      "source": [
        "#함수 안에서 선언한 변수의 효력 범위\n"
      ]
    },
    {
      "cell_type": "code",
      "metadata": {
        "id": "BRWnPvETbMUb",
        "colab_type": "code",
        "colab": {
          "base_uri": "https://localhost:8080/",
          "height": 35
        },
        "outputId": "c9cbbd18-e504-44fc-91ee-c70061e9d88e"
      },
      "source": [
        "a=1\n",
        "def vartest(a):\n",
        "    a=a+1\n",
        "vartest(a)\n",
        "print(a)"
      ],
      "execution_count": 52,
      "outputs": [
        {
          "output_type": "stream",
          "text": [
            "1\n"
          ],
          "name": "stdout"
        }
      ]
    },
    {
      "cell_type": "code",
      "metadata": {
        "id": "mxu5jgKWbMg9",
        "colab_type": "code",
        "colab": {}
      },
      "source": [
        "def vartest(hello):\n",
        "    hello=hello+1"
      ],
      "execution_count": 0,
      "outputs": []
    },
    {
      "cell_type": "code",
      "metadata": {
        "id": "TEL7pK2IbMsa",
        "colab_type": "code",
        "colab": {
          "base_uri": "https://localhost:8080/",
          "height": 35
        },
        "outputId": "4b808789-7243-4563-9db8-fd4e48ddfa64"
      },
      "source": [
        "def vartest(a):\n",
        "    a=a+1\n",
        "vartest(3)\n",
        "print(a)"
      ],
      "execution_count": 54,
      "outputs": [
        {
          "output_type": "stream",
          "text": [
            "1\n"
          ],
          "name": "stdout"
        }
      ]
    },
    {
      "cell_type": "markdown",
      "metadata": {
        "id": "JYrc0A4pdZoq",
        "colab_type": "text"
      },
      "source": [
        "# 함수 안에서 함수 밖의 변수를 변경하는 방법"
      ]
    },
    {
      "cell_type": "code",
      "metadata": {
        "id": "9CPYJsQibM3z",
        "colab_type": "code",
        "colab": {
          "base_uri": "https://localhost:8080/",
          "height": 35
        },
        "outputId": "37b43ca1-a145-40f7-a8de-bfd391029f2d"
      },
      "source": [
        "a = 1 \n",
        "def vartest(a): \n",
        "    a = a +1 \n",
        "    return a\n",
        "\n",
        "a = vartest(a) \n",
        "print(a)"
      ],
      "execution_count": 55,
      "outputs": [
        {
          "output_type": "stream",
          "text": [
            "2\n"
          ],
          "name": "stdout"
        }
      ]
    },
    {
      "cell_type": "code",
      "metadata": {
        "id": "_y4y2Q4qbNDh",
        "colab_type": "code",
        "colab": {}
      },
      "source": [
        "#global "
      ],
      "execution_count": 0,
      "outputs": []
    },
    {
      "cell_type": "code",
      "metadata": {
        "id": "eY08GVcwbNPl",
        "colab_type": "code",
        "colab": {
          "base_uri": "https://localhost:8080/",
          "height": 35
        },
        "outputId": "9b0a8c7a-0d99-4f4e-ba43-f7f60e16a123"
      },
      "source": [
        "a = 1 \n",
        "def vartest(): \n",
        "    global a \n",
        "    a = a+1\n",
        "\n",
        "vartest() \n",
        "print(a)"
      ],
      "execution_count": 57,
      "outputs": [
        {
          "output_type": "stream",
          "text": [
            "2\n"
          ],
          "name": "stdout"
        }
      ]
    },
    {
      "cell_type": "markdown",
      "metadata": {
        "id": "3IczAL2Dd10T",
        "colab_type": "text"
      },
      "source": [
        "#lambda"
      ]
    },
    {
      "cell_type": "code",
      "metadata": {
        "id": "8tf6dtK8bNai",
        "colab_type": "code",
        "colab": {
          "base_uri": "https://localhost:8080/",
          "height": 35
        },
        "outputId": "6ec26841-fced-43bc-8977-94aaa47f8866"
      },
      "source": [
        "add = lambda a, b: a+b\n",
        "result = add(3, 4)\n",
        "print(result)\n"
      ],
      "execution_count": 59,
      "outputs": [
        {
          "output_type": "stream",
          "text": [
            "7\n"
          ],
          "name": "stdout"
        }
      ]
    },
    {
      "cell_type": "code",
      "metadata": {
        "id": "_nADcqJ6bNm8",
        "colab_type": "code",
        "colab": {
          "base_uri": "https://localhost:8080/",
          "height": 35
        },
        "outputId": "fc2265c9-48ef-4781-9c6c-a4fec422ef2e"
      },
      "source": [
        "def add(a, b):\n",
        " return a+b\n",
        "\n",
        "result = add(3, 4)\n",
        "print(result)"
      ],
      "execution_count": 60,
      "outputs": [
        {
          "output_type": "stream",
          "text": [
            "7\n"
          ],
          "name": "stdout"
        }
      ]
    },
    {
      "cell_type": "markdown",
      "metadata": {
        "id": "PzJYP5tHeSUU",
        "colab_type": "text"
      },
      "source": [
        "#input의 사용"
      ]
    },
    {
      "cell_type": "code",
      "metadata": {
        "id": "hI1H_4ZubK7P",
        "colab_type": "code",
        "colab": {
          "base_uri": "https://localhost:8080/",
          "height": 35
        },
        "outputId": "5088ad5c-6f60-4fb7-cba5-2a1122fa7184"
      },
      "source": [
        "a=input()"
      ],
      "execution_count": 61,
      "outputs": [
        {
          "output_type": "stream",
          "text": [
            "Life is too short, you need python\n"
          ],
          "name": "stdout"
        }
      ]
    },
    {
      "cell_type": "code",
      "metadata": {
        "id": "5u6K9HdUbK3y",
        "colab_type": "code",
        "colab": {
          "base_uri": "https://localhost:8080/",
          "height": 35
        },
        "outputId": "57082c63-ddf4-414f-c46f-61aa719203dc"
      },
      "source": [
        "a"
      ],
      "execution_count": 62,
      "outputs": [
        {
          "output_type": "execute_result",
          "data": {
            "text/plain": [
              "'Life is too short, you need python'"
            ]
          },
          "metadata": {
            "tags": []
          },
          "execution_count": 62
        }
      ]
    },
    {
      "cell_type": "code",
      "metadata": {
        "id": "xN0-YdkmbKz9",
        "colab_type": "code",
        "colab": {
          "base_uri": "https://localhost:8080/",
          "height": 35
        },
        "outputId": "e8688ec7-5bb5-471d-f354-8a505e69e518"
      },
      "source": [
        "number=input(\"숫자를 입력하세요.\")"
      ],
      "execution_count": 63,
      "outputs": [
        {
          "output_type": "stream",
          "text": [
            "숫자를 입력하세요.5\n"
          ],
          "name": "stdout"
        }
      ]
    },
    {
      "cell_type": "code",
      "metadata": {
        "id": "37_ns_sJbKv0",
        "colab_type": "code",
        "colab": {
          "base_uri": "https://localhost:8080/",
          "height": 35
        },
        "outputId": "d950898e-b9fa-4f13-fabe-15d9877d1d34"
      },
      "source": [
        "print(number)"
      ],
      "execution_count": 64,
      "outputs": [
        {
          "output_type": "stream",
          "text": [
            "5\n"
          ],
          "name": "stdout"
        }
      ]
    },
    {
      "cell_type": "markdown",
      "metadata": {
        "id": "Cc0Tn56PelBY",
        "colab_type": "text"
      },
      "source": [
        "# print"
      ]
    },
    {
      "cell_type": "code",
      "metadata": {
        "id": "RXGf8vllekI-",
        "colab_type": "code",
        "colab": {
          "base_uri": "https://localhost:8080/",
          "height": 35
        },
        "outputId": "7f24f3f7-1324-4fb2-bab7-2c910b53d6b9"
      },
      "source": [
        "a=123\n",
        "print(a)"
      ],
      "execution_count": 65,
      "outputs": [
        {
          "output_type": "stream",
          "text": [
            "123\n"
          ],
          "name": "stdout"
        }
      ]
    },
    {
      "cell_type": "code",
      "metadata": {
        "id": "aoBF_qoxbKsH",
        "colab_type": "code",
        "colab": {
          "base_uri": "https://localhost:8080/",
          "height": 35
        },
        "outputId": "f6a49429-a7c8-4fc3-82f7-a2a0365172cd"
      },
      "source": [
        "a=\"Python\"\n",
        "print(a)"
      ],
      "execution_count": 66,
      "outputs": [
        {
          "output_type": "stream",
          "text": [
            "Python\n"
          ],
          "name": "stdout"
        }
      ]
    },
    {
      "cell_type": "code",
      "metadata": {
        "id": "qWwdMKzzbKqR",
        "colab_type": "code",
        "colab": {
          "base_uri": "https://localhost:8080/",
          "height": 35
        },
        "outputId": "bb6d087e-1193-4c8d-8749-cf60c9dd4541"
      },
      "source": [
        "a=[1,2,3]\n",
        "print(a)"
      ],
      "execution_count": 67,
      "outputs": [
        {
          "output_type": "stream",
          "text": [
            "[1, 2, 3]\n"
          ],
          "name": "stdout"
        }
      ]
    },
    {
      "cell_type": "markdown",
      "metadata": {
        "id": "F3XNLROZexSp",
        "colab_type": "text"
      },
      "source": [
        "#큰따옴표(\")로 둘러싸인 문자열은 + 연산과 동일하다"
      ]
    },
    {
      "cell_type": "code",
      "metadata": {
        "id": "sGgJ6l4vfCr7",
        "colab_type": "code",
        "colab": {
          "base_uri": "https://localhost:8080/",
          "height": 35
        },
        "outputId": "07804546-e843-4d69-9023-fb15ddaa55a0"
      },
      "source": [
        "print(\"life\"\"is\"\"too short\")"
      ],
      "execution_count": 69,
      "outputs": [
        {
          "output_type": "stream",
          "text": [
            "lifeistoo short\n"
          ],
          "name": "stdout"
        }
      ]
    },
    {
      "cell_type": "code",
      "metadata": {
        "id": "u72js2P9fJNR",
        "colab_type": "code",
        "colab": {
          "base_uri": "https://localhost:8080/",
          "height": 35
        },
        "outputId": "d427241e-7b9f-40ca-dc8f-307fce0d1613"
      },
      "source": [
        "print(\"life\"+\"is\"+\"too short\")"
      ],
      "execution_count": 70,
      "outputs": [
        {
          "output_type": "stream",
          "text": [
            "lifeistoo short\n"
          ],
          "name": "stdout"
        }
      ]
    },
    {
      "cell_type": "markdown",
      "metadata": {
        "id": "YlmA-M3fe1Fq",
        "colab_type": "text"
      },
      "source": [
        "#문자열 띄어쓰기는 콤마로 한다"
      ]
    },
    {
      "cell_type": "code",
      "metadata": {
        "id": "uv2isBYobKln",
        "colab_type": "code",
        "colab": {
          "base_uri": "https://localhost:8080/",
          "height": 35
        },
        "outputId": "fea65bd6-656a-4d0a-b0af-307d96a21eb4"
      },
      "source": [
        "print(\"life\",\"is\",\"too short\")"
      ],
      "execution_count": 71,
      "outputs": [
        {
          "output_type": "stream",
          "text": [
            "life is too short\n"
          ],
          "name": "stdout"
        }
      ]
    },
    {
      "cell_type": "markdown",
      "metadata": {
        "id": "8Rzkn4i-fPLz",
        "colab_type": "text"
      },
      "source": [
        "#한 줄에 결괏값 출력하기\n"
      ]
    },
    {
      "cell_type": "code",
      "metadata": {
        "id": "fdwpikUHbKih",
        "colab_type": "code",
        "colab": {
          "base_uri": "https://localhost:8080/",
          "height": 35
        },
        "outputId": "477dcfaf-c34e-45c8-f0ae-bb93fce90f99"
      },
      "source": [
        "for i in range(10):\n",
        "    print(i,end=' ')"
      ],
      "execution_count": 72,
      "outputs": [
        {
          "output_type": "stream",
          "text": [
            "0 1 2 3 4 5 6 7 8 9 "
          ],
          "name": "stdout"
        }
      ]
    },
    {
      "cell_type": "markdown",
      "metadata": {
        "id": "L9YdTw2Ifeqf",
        "colab_type": "text"
      },
      "source": [
        "#파일 읽고 쓰기"
      ]
    },
    {
      "cell_type": "code",
      "metadata": {
        "id": "BIxTSrQ7bKab",
        "colab_type": "code",
        "colab": {}
      },
      "source": [
        "f = open(\"새파일.txt\", 'w')\n",
        "f.close()"
      ],
      "execution_count": 0,
      "outputs": []
    },
    {
      "cell_type": "code",
      "metadata": {
        "id": "cnC5xP3NbKXS",
        "colab_type": "code",
        "colab": {}
      },
      "source": [
        "f = open(\"/content/drive/새파일.txt\", 'w')\n",
        "f.close()"
      ],
      "execution_count": 0,
      "outputs": []
    },
    {
      "cell_type": "code",
      "metadata": {
        "id": "JsBPDLxObKTO",
        "colab_type": "code",
        "colab": {}
      },
      "source": [
        "f=open(\"새파일.txt\",'w')\n",
        "for i in range(1,11):\n",
        "    data=\"%d번째 줄입니다.\\n\" %i\n",
        "    f.write(data)\n",
        "f.close()"
      ],
      "execution_count": 0,
      "outputs": []
    },
    {
      "cell_type": "code",
      "metadata": {
        "id": "qKgdAmCLbKMD",
        "colab_type": "code",
        "colab": {
          "base_uri": "https://localhost:8080/",
          "height": 381
        },
        "outputId": "1673945b-80dd-45fe-ae45-a68e693e1923"
      },
      "source": [
        "for i in range(1,11):\n",
        "    data=\"%d번째 줄입니다.\\n\" %i\n",
        "    print(data)"
      ],
      "execution_count": 85,
      "outputs": [
        {
          "output_type": "stream",
          "text": [
            "1번째 줄입니다.\n",
            "\n",
            "2번째 줄입니다.\n",
            "\n",
            "3번째 줄입니다.\n",
            "\n",
            "4번째 줄입니다.\n",
            "\n",
            "5번째 줄입니다.\n",
            "\n",
            "6번째 줄입니다.\n",
            "\n",
            "7번째 줄입니다.\n",
            "\n",
            "8번째 줄입니다.\n",
            "\n",
            "9번째 줄입니다.\n",
            "\n",
            "10번째 줄입니다.\n",
            "\n"
          ],
          "name": "stdout"
        }
      ]
    },
    {
      "cell_type": "code",
      "metadata": {
        "id": "9uHA-kwybKIT",
        "colab_type": "code",
        "colab": {
          "base_uri": "https://localhost:8080/",
          "height": 54
        },
        "outputId": "b5a93201-3f1a-4f1f-91ee-47e98f955e82"
      },
      "source": [
        "f=open(\"새파일.txt\",\"r\")\n",
        "line=f.readline()\n",
        "print(line)\n",
        "f.close()"
      ],
      "execution_count": 86,
      "outputs": [
        {
          "output_type": "stream",
          "text": [
            "1번째 줄입니다.\n",
            "\n"
          ],
          "name": "stdout"
        }
      ]
    },
    {
      "cell_type": "code",
      "metadata": {
        "id": "HUNr4nS0bKEi",
        "colab_type": "code",
        "colab": {
          "base_uri": "https://localhost:8080/",
          "height": 381
        },
        "outputId": "07dcab45-f4b1-40ff-a731-ca8ecaba3b1b"
      },
      "source": [
        "f=open(\"새파일.txt\",\"r\")\n",
        "while True:\n",
        "    line=f.readline()\n",
        "    if not line:break\n",
        "    print(line)\n",
        "f.close()"
      ],
      "execution_count": 88,
      "outputs": [
        {
          "output_type": "stream",
          "text": [
            "1번째 줄입니다.\n",
            "\n",
            "2번째 줄입니다.\n",
            "\n",
            "3번째 줄입니다.\n",
            "\n",
            "4번째 줄입니다.\n",
            "\n",
            "5번째 줄입니다.\n",
            "\n",
            "6번째 줄입니다.\n",
            "\n",
            "7번째 줄입니다.\n",
            "\n",
            "8번째 줄입니다.\n",
            "\n",
            "9번째 줄입니다.\n",
            "\n",
            "10번째 줄입니다.\n",
            "\n"
          ],
          "name": "stdout"
        }
      ]
    },
    {
      "cell_type": "code",
      "metadata": {
        "id": "DM54nHW8bKAT",
        "colab_type": "code",
        "colab": {
          "base_uri": "https://localhost:8080/",
          "height": 217
        },
        "outputId": "336a57f1-def7-406a-ea5a-2bf3f3acde87"
      },
      "source": [
        "f=open(\"새파일.txt\",\"r\")\n",
        "data = f.read()\n",
        "print(data)\n",
        "f.close()"
      ],
      "execution_count": 92,
      "outputs": [
        {
          "output_type": "stream",
          "text": [
            "1번째 줄입니다.\n",
            "2번째 줄입니다.\n",
            "3번째 줄입니다.\n",
            "4번째 줄입니다.\n",
            "5번째 줄입니다.\n",
            "6번째 줄입니다.\n",
            "7번째 줄입니다.\n",
            "8번째 줄입니다.\n",
            "9번째 줄입니다.\n",
            "10번째 줄입니다.\n",
            "\n"
          ],
          "name": "stdout"
        }
      ]
    },
    {
      "cell_type": "code",
      "metadata": {
        "id": "9LWpjQ0qbJ-d",
        "colab_type": "code",
        "colab": {}
      },
      "source": [
        "f=open(\"새파일.txt\",\"a\")\n",
        "for i in range(11, 20):\n",
        "    data = \"%d번째 줄입니다.\\n\" % i\n",
        "    f.write(data)\n",
        "f.close()"
      ],
      "execution_count": 0,
      "outputs": []
    },
    {
      "cell_type": "code",
      "metadata": {
        "id": "cdh-ev_4bJ75",
        "colab_type": "code",
        "colab": {}
      },
      "source": [
        "f=open(\"foo.txt\",\"w\")\n",
        "f.write(\"Life is too short, you need python\")\n",
        "f.close()"
      ],
      "execution_count": 0,
      "outputs": []
    },
    {
      "cell_type": "code",
      "metadata": {
        "id": "KWU5Ki3DbJ2g",
        "colab_type": "code",
        "colab": {}
      },
      "source": [
        "with open(\"foo.txt\",\"w\") as f:\n",
        "    f.write(\"Life is too short, you need python\")"
      ],
      "execution_count": 0,
      "outputs": []
    },
    {
      "cell_type": "code",
      "metadata": {
        "id": "R1Pw71zibJyz",
        "colab_type": "code",
        "colab": {}
      },
      "source": [
        "def fib(n):\n",
        "    if n==0 : return(0)\n",
        "    if n==1 : return(1)\n",
        "    return fib(n-1)+fib(n-2) "
      ],
      "execution_count": 0,
      "outputs": []
    },
    {
      "cell_type": "code",
      "metadata": {
        "id": "5fjKNUsYbJuS",
        "colab_type": "code",
        "colab": {
          "base_uri": "https://localhost:8080/",
          "height": 72
        },
        "outputId": "bc109c6d-5500-4586-8f81-131f3a646396"
      },
      "source": [
        "input1 = input(\"첫번째 숫자를 입력하세요:\")\n",
        "input2 = input(\"두번째 숫자를 입력하세요:\")\n",
        "\n",
        "total = input1 + input2\n",
        "print(\"두 수의 합은 %s 입니다\" % total)"
      ],
      "execution_count": 97,
      "outputs": [
        {
          "output_type": "stream",
          "text": [
            "첫번째 숫자를 입력하세요:2\n",
            "두번째 숫자를 입력하세요:3\n",
            "두 수의 합은 23 입니다\n"
          ],
          "name": "stdout"
        }
      ]
    },
    {
      "cell_type": "code",
      "metadata": {
        "id": "YbV1I-Y0j7oH",
        "colab_type": "code",
        "colab": {}
      },
      "source": [
        ""
      ],
      "execution_count": 0,
      "outputs": []
    },
    {
      "cell_type": "code",
      "metadata": {
        "id": "kWq8CVG5bJrw",
        "colab_type": "code",
        "colab": {}
      },
      "source": [
        "d"
      ],
      "execution_count": 0,
      "outputs": []
    },
    {
      "cell_type": "code",
      "metadata": {
        "id": "OP8WG7TjbJp3",
        "colab_type": "code",
        "colab": {}
      },
      "source": [
        ""
      ],
      "execution_count": 0,
      "outputs": []
    },
    {
      "cell_type": "code",
      "metadata": {
        "id": "x5g-6UYrbJm_",
        "colab_type": "code",
        "colab": {}
      },
      "source": [
        ""
      ],
      "execution_count": 0,
      "outputs": []
    }
  ]
}