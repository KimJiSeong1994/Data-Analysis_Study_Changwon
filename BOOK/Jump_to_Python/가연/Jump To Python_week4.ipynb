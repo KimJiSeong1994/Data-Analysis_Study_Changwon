{
 "cells": [
  {
   "cell_type": "markdown",
   "metadata": {},
   "source": [
    "## 07-1 정규 표현식 살펴보기"
   ]
  },
  {
   "cell_type": "code",
   "execution_count": 2,
   "metadata": {
    "collapsed": false
   },
   "outputs": [
    {
     "name": "stdout",
     "output_type": "stream",
     "text": [
      "\n",
      "park 800905-*******\n",
      "kim  700905-*******\n",
      "\n"
     ]
    }
   ],
   "source": [
    "data=\"\"\"\n",
    "park 800905-1049118\n",
    "kim  700905-1059119\n",
    "\"\"\"\n",
    "\n",
    "result=[]\n",
    "for line in data.split(\"\\n\"):\n",
    "    word_result=[]\n",
    "    for word in line.split(\" \"):\n",
    "        if len(word)==14 and word[:6].isdigit() and word[7:].isdigit():\n",
    "            word=word[:6]+\"-\"+\"*******\"\n",
    "        word_result.append(word)\n",
    "    result.append(\" \".join(word_result))\n",
    "print(\"\\n\".join(result))"
   ]
  },
  {
   "cell_type": "code",
   "execution_count": 5,
   "metadata": {
    "collapsed": false
   },
   "outputs": [
    {
     "name": "stdout",
     "output_type": "stream",
     "text": [
      "\n",
      "park 800905-*******\n",
      "kim  700905-*******\n",
      "\n"
     ]
    }
   ],
   "source": [
    "#정규식 사용\n",
    "\n",
    "import re\n",
    "\n",
    "data=\"\"\"\n",
    "park 800905-1049118\n",
    "kim  700905-1059119\n",
    "\"\"\"\n",
    "\n",
    "pat=re.compile(\"(\\d{6})[-]\\d{7}\")\n",
    "print(pat.sub(\"\\g<1>-*******\", data))"
   ]
  },
  {
   "cell_type": "markdown",
   "metadata": {},
   "source": [
    "## 07-2.3. 정규식을 이용한 문자열 검색"
   ]
  },
  {
   "cell_type": "code",
   "execution_count": 13,
   "metadata": {
    "collapsed": true
   },
   "outputs": [],
   "source": [
    "import re\n",
    "\n",
    "p=re.compile(\"[a-z]+\")"
   ]
  },
  {
   "cell_type": "markdown",
   "metadata": {},
   "source": [
    "-----\n",
    "match : 문자열의 처음부터 정규식과 매치되는지 조사"
   ]
  },
  {
   "cell_type": "code",
   "execution_count": 8,
   "metadata": {
    "collapsed": false
   },
   "outputs": [
    {
     "name": "stdout",
     "output_type": "stream",
     "text": [
      "<_sre.SRE_Match object; span=(0, 6), match='python'>\n"
     ]
    }
   ],
   "source": [
    "m=p.match(\"python\")\n",
    "print(m)"
   ]
  },
  {
   "cell_type": "code",
   "execution_count": 9,
   "metadata": {
    "collapsed": false
   },
   "outputs": [
    {
     "name": "stdout",
     "output_type": "stream",
     "text": [
      "None\n"
     ]
    }
   ],
   "source": [
    "m=p.match(\"3 python\")\n",
    "print(m)"
   ]
  },
  {
   "cell_type": "code",
   "execution_count": 11,
   "metadata": {
    "collapsed": false
   },
   "outputs": [
    {
     "name": "stdout",
     "output_type": "stream",
     "text": [
      "Match found:  string\n"
     ]
    }
   ],
   "source": [
    "p=re.compile(\"[a-z]+\")\n",
    "m=p.match(\"string goes here\")\n",
    "\n",
    "if m:\n",
    "    print(\"Match found: \", m.group())\n",
    "else:\n",
    "    print(\"No Match\")"
   ]
  },
  {
   "cell_type": "markdown",
   "metadata": {},
   "source": [
    "-----\n",
    "search : match와 비슷하지만 문자열 처음부터가 아니라 전체를 검색"
   ]
  },
  {
   "cell_type": "code",
   "execution_count": 14,
   "metadata": {
    "collapsed": false
   },
   "outputs": [
    {
     "name": "stdout",
     "output_type": "stream",
     "text": [
      "<_sre.SRE_Match object; span=(0, 6), match='python'>\n"
     ]
    }
   ],
   "source": [
    "m=p.search(\"python\")\n",
    "print(m)"
   ]
  },
  {
   "cell_type": "code",
   "execution_count": 15,
   "metadata": {
    "collapsed": false
   },
   "outputs": [
    {
     "name": "stdout",
     "output_type": "stream",
     "text": [
      "<_sre.SRE_Match object; span=(2, 8), match='python'>\n"
     ]
    }
   ],
   "source": [
    "m=p.search(\"3 python\")\n",
    "print(m)"
   ]
  },
  {
   "cell_type": "markdown",
   "metadata": {},
   "source": [
    "-----\n",
    "filndall"
   ]
  },
  {
   "cell_type": "code",
   "execution_count": 16,
   "metadata": {
    "collapsed": false
   },
   "outputs": [
    {
     "name": "stdout",
     "output_type": "stream",
     "text": [
      "['life', 'is', 'too', 'short']\n"
     ]
    }
   ],
   "source": [
    "result=p.findall(\"life is too short\")\n",
    "print(result)"
   ]
  },
  {
   "cell_type": "markdown",
   "metadata": {},
   "source": [
    "-----\n",
    "finditer : findall과 동일하지만 반복가능한 객체를 돌려줌"
   ]
  },
  {
   "cell_type": "code",
   "execution_count": 17,
   "metadata": {
    "collapsed": false
   },
   "outputs": [
    {
     "name": "stdout",
     "output_type": "stream",
     "text": [
      "<callable_iterator object at 0x000001B1A4394CF8>\n"
     ]
    }
   ],
   "source": [
    "result=p.finditer(\"life is too short\")\n",
    "print(result)"
   ]
  },
  {
   "cell_type": "code",
   "execution_count": 19,
   "metadata": {
    "collapsed": false
   },
   "outputs": [
    {
     "name": "stdout",
     "output_type": "stream",
     "text": [
      "<_sre.SRE_Match object; span=(5, 7), match='is'>\n",
      "<_sre.SRE_Match object; span=(8, 11), match='too'>\n",
      "<_sre.SRE_Match object; span=(12, 17), match='short'>\n"
     ]
    }
   ],
   "source": [
    "for r in result: print(r)"
   ]
  },
  {
   "cell_type": "markdown",
   "metadata": {},
   "source": [
    "## 07-2.4. match 객체의 메서드"
   ]
  },
  {
   "cell_type": "code",
   "execution_count": 20,
   "metadata": {
    "collapsed": false
   },
   "outputs": [
    {
     "data": {
      "text/plain": [
       "'python'"
      ]
     },
     "execution_count": 20,
     "metadata": {},
     "output_type": "execute_result"
    }
   ],
   "source": [
    "m=p.match(\"python\")\n",
    "m.group()"
   ]
  },
  {
   "cell_type": "code",
   "execution_count": 21,
   "metadata": {
    "collapsed": false
   },
   "outputs": [
    {
     "data": {
      "text/plain": [
       "0"
      ]
     },
     "execution_count": 21,
     "metadata": {},
     "output_type": "execute_result"
    }
   ],
   "source": [
    "m.start()"
   ]
  },
  {
   "cell_type": "code",
   "execution_count": 22,
   "metadata": {
    "collapsed": false
   },
   "outputs": [
    {
     "data": {
      "text/plain": [
       "6"
      ]
     },
     "execution_count": 22,
     "metadata": {},
     "output_type": "execute_result"
    }
   ],
   "source": [
    "m.end()"
   ]
  },
  {
   "cell_type": "code",
   "execution_count": 23,
   "metadata": {
    "collapsed": false
   },
   "outputs": [
    {
     "data": {
      "text/plain": [
       "(0, 6)"
      ]
     },
     "execution_count": 23,
     "metadata": {},
     "output_type": "execute_result"
    }
   ],
   "source": [
    "m.span()"
   ]
  },
  {
   "cell_type": "code",
   "execution_count": 24,
   "metadata": {
    "collapsed": false
   },
   "outputs": [
    {
     "data": {
      "text/plain": [
       "'python'"
      ]
     },
     "execution_count": 24,
     "metadata": {},
     "output_type": "execute_result"
    }
   ],
   "source": [
    "m=p.search(\"3 python\")\n",
    "m.group()"
   ]
  },
  {
   "cell_type": "code",
   "execution_count": 25,
   "metadata": {
    "collapsed": false
   },
   "outputs": [
    {
     "data": {
      "text/plain": [
       "2"
      ]
     },
     "execution_count": 25,
     "metadata": {},
     "output_type": "execute_result"
    }
   ],
   "source": [
    "m.start()"
   ]
  },
  {
   "cell_type": "code",
   "execution_count": 26,
   "metadata": {
    "collapsed": false
   },
   "outputs": [
    {
     "data": {
      "text/plain": [
       "8"
      ]
     },
     "execution_count": 26,
     "metadata": {},
     "output_type": "execute_result"
    }
   ],
   "source": [
    "m.end()"
   ]
  },
  {
   "cell_type": "code",
   "execution_count": 27,
   "metadata": {
    "collapsed": false
   },
   "outputs": [
    {
     "data": {
      "text/plain": [
       "(2, 8)"
      ]
     },
     "execution_count": 27,
     "metadata": {},
     "output_type": "execute_result"
    }
   ],
   "source": [
    "m.span()"
   ]
  },
  {
   "cell_type": "markdown",
   "metadata": {},
   "source": [
    "-----\n",
    "모듈 단위로 수행하기"
   ]
  },
  {
   "cell_type": "code",
   "execution_count": 28,
   "metadata": {
    "collapsed": true
   },
   "outputs": [],
   "source": [
    "p=re.compile(\"[a-z]+\")\n",
    "m=p.match(\"python\")"
   ]
  },
  {
   "cell_type": "code",
   "execution_count": 29,
   "metadata": {
    "collapsed": true
   },
   "outputs": [],
   "source": [
    "m=re.match(\"[a-z]+\", \"python\")"
   ]
  },
  {
   "cell_type": "markdown",
   "metadata": {},
   "source": [
    "## 07-2.5. 컴파일 옵션"
   ]
  },
  {
   "cell_type": "markdown",
   "metadata": {},
   "source": [
    "-----\n",
    "DOTALL(S) : .이 줄바꿈 문자를 포함하여 모든 문자와 매치할 수 있도록 한다."
   ]
  },
  {
   "cell_type": "code",
   "execution_count": 30,
   "metadata": {
    "collapsed": false
   },
   "outputs": [
    {
     "name": "stdout",
     "output_type": "stream",
     "text": [
      "None\n"
     ]
    }
   ],
   "source": [
    "import re\n",
    "\n",
    "p=re.compile(\"a.b\")\n",
    "m=p.match(\"a\\nb\")\n",
    "print(m)"
   ]
  },
  {
   "cell_type": "code",
   "execution_count": 31,
   "metadata": {
    "collapsed": false
   },
   "outputs": [
    {
     "name": "stdout",
     "output_type": "stream",
     "text": [
      "<_sre.SRE_Match object; span=(0, 3), match='a\\nb'>\n"
     ]
    }
   ],
   "source": [
    "p=re.compile(\"a.b\", re.DOTALL)\n",
    "m=p.match(\"a\\nb\")\n",
    "print(m)"
   ]
  },
  {
   "cell_type": "markdown",
   "metadata": {},
   "source": [
    "-----\n",
    "IGNORECASE(I):대소문자에 관계없이 매치할 수 있도록 한다."
   ]
  },
  {
   "cell_type": "code",
   "execution_count": 32,
   "metadata": {
    "collapsed": false
   },
   "outputs": [
    {
     "data": {
      "text/plain": [
       "<_sre.SRE_Match object; span=(0, 1), match='p'>"
      ]
     },
     "execution_count": 32,
     "metadata": {},
     "output_type": "execute_result"
    }
   ],
   "source": [
    "p=re.compile(\"[a-z]\", re.I)\n",
    "p.match(\"python\")"
   ]
  },
  {
   "cell_type": "code",
   "execution_count": 33,
   "metadata": {
    "collapsed": false
   },
   "outputs": [
    {
     "data": {
      "text/plain": [
       "<_sre.SRE_Match object; span=(0, 1), match='P'>"
      ]
     },
     "execution_count": 33,
     "metadata": {},
     "output_type": "execute_result"
    }
   ],
   "source": [
    "p.match(\"Python\")"
   ]
  },
  {
   "cell_type": "code",
   "execution_count": 34,
   "metadata": {
    "collapsed": false
   },
   "outputs": [
    {
     "data": {
      "text/plain": [
       "<_sre.SRE_Match object; span=(0, 1), match='P'>"
      ]
     },
     "execution_count": 34,
     "metadata": {},
     "output_type": "execute_result"
    }
   ],
   "source": [
    "p.match(\"PYTHON\")"
   ]
  },
  {
   "cell_type": "markdown",
   "metadata": {},
   "source": [
    "-----\n",
    "MULTILINE(M):여러줄과 매치할 수 있도록 한다.(^,$ 메타문자의 사용과 관계가 있는 옵션이다.)"
   ]
  },
  {
   "cell_type": "code",
   "execution_count": 35,
   "metadata": {
    "collapsed": false
   },
   "outputs": [
    {
     "name": "stdout",
     "output_type": "stream",
     "text": [
      "['python one']\n"
     ]
    }
   ],
   "source": [
    "import re\n",
    "p=re.compile(\"^python\\s\\w+\")\n",
    "\n",
    "data=\"\"\"python one\n",
    "life is too short\n",
    "python two\n",
    "you need python\n",
    "python three\"\"\"\n",
    "\n",
    "print(p.findall(data))"
   ]
  },
  {
   "cell_type": "code",
   "execution_count": 36,
   "metadata": {
    "collapsed": false
   },
   "outputs": [
    {
     "name": "stdout",
     "output_type": "stream",
     "text": [
      "['python one', 'python two', 'python three']\n"
     ]
    }
   ],
   "source": [
    "import re\n",
    "p=re.compile(\"^python\\s\\w+\", re.MULTILINE)\n",
    "\n",
    "data=\"\"\"python one\n",
    "life is too short\n",
    "python two\n",
    "you need python\n",
    "python three\"\"\"\n",
    "\n",
    "print(p.findall(data))"
   ]
  },
  {
   "cell_type": "markdown",
   "metadata": {},
   "source": [
    "-----\n",
    "VERBOSE(X):verbose모드를 사용할 수 있도록 한다.(정규식을 보기 편하게 만들 수 있고 주석등을 사용할 수 있게 된다.)"
   ]
  },
  {
   "cell_type": "code",
   "execution_count": 37,
   "metadata": {
    "collapsed": true
   },
   "outputs": [],
   "source": [
    "charref=re.compile(r\"&[#](0[0-7]+|[0-9]+|x[0-9a-fA-F]+);\")"
   ]
  },
  {
   "cell_type": "code",
   "execution_count": 39,
   "metadata": {
    "collapsed": true
   },
   "outputs": [],
   "source": [
    "charref=re.compile(r\"\"\"\n",
    "&[#]               #Start of a numeric entity reference\n",
    "(\n",
    "0[0-7]+            #Octal form\n",
    "|[0-9]+            #Decimal form\n",
    "|x[0-9a-fA-F]+     #Hexadecimal form\n",
    ")\n",
    ";                  #Trailing semicolon\n",
    "\"\"\", re.VERBOSE)"
   ]
  },
  {
   "cell_type": "markdown",
   "metadata": {
    "collapsed": true
   },
   "source": [
    "## 07-2.6. 백슬래시 문제"
   ]
  },
  {
   "cell_type": "code",
   "execution_count": 1,
   "metadata": {
    "collapsed": true
   },
   "outputs": [],
   "source": [
    "import re\n",
    "\n",
    "p=re.compile(\"\\\\section\")"
   ]
  },
  {
   "cell_type": "code",
   "execution_count": 2,
   "metadata": {
    "collapsed": true
   },
   "outputs": [],
   "source": [
    "p=re.compile(\"\\\\\\\\section\")"
   ]
  },
  {
   "cell_type": "code",
   "execution_count": 3,
   "metadata": {
    "collapsed": true
   },
   "outputs": [],
   "source": [
    "p=re.compile(r\"\\\\section\")"
   ]
  },
  {
   "cell_type": "markdown",
   "metadata": {},
   "source": [
    "## 07-3.1 메타문자"
   ]
  },
  {
   "cell_type": "markdown",
   "metadata": {},
   "source": [
    "-----\n",
    "| : or과 동일한 의미"
   ]
  },
  {
   "cell_type": "code",
   "execution_count": 5,
   "metadata": {
    "collapsed": false
   },
   "outputs": [
    {
     "name": "stdout",
     "output_type": "stream",
     "text": [
      "<_sre.SRE_Match object; span=(0, 4), match='Crow'>\n"
     ]
    }
   ],
   "source": [
    "p=re.compile(\"Crow|Servo\")\n",
    "m=p.match(\"CrowHello\")\n",
    "print(m)"
   ]
  },
  {
   "cell_type": "markdown",
   "metadata": {},
   "source": [
    "-----\n",
    "^:문자열의 맨 처음과 일치함을 의미"
   ]
  },
  {
   "cell_type": "code",
   "execution_count": 6,
   "metadata": {
    "collapsed": false
   },
   "outputs": [
    {
     "name": "stdout",
     "output_type": "stream",
     "text": [
      "<_sre.SRE_Match object; span=(0, 4), match='Life'>\n"
     ]
    }
   ],
   "source": [
    "print(re.search(\"^Life\", \"Life is too short\"))"
   ]
  },
  {
   "cell_type": "code",
   "execution_count": 7,
   "metadata": {
    "collapsed": false
   },
   "outputs": [
    {
     "name": "stdout",
     "output_type": "stream",
     "text": [
      "None\n"
     ]
    }
   ],
   "source": [
    "print(re.search(\"^Life\", \"My Life\"))"
   ]
  },
  {
   "cell_type": "code",
   "execution_count": 8,
   "metadata": {
    "collapsed": false
   },
   "outputs": [
    {
     "name": "stdout",
     "output_type": "stream",
     "text": [
      "None\n"
     ]
    }
   ],
   "source": [
    "print(re.search(\"^Life\", \"life is too short\"))"
   ]
  },
  {
   "cell_type": "markdown",
   "metadata": {},
   "source": [
    "-----\n",
    "$:문자열의 끝과 매치함을 의미(^과 반대)"
   ]
  },
  {
   "cell_type": "code",
   "execution_count": 9,
   "metadata": {
    "collapsed": false
   },
   "outputs": [
    {
     "name": "stdout",
     "output_type": "stream",
     "text": [
      "<_sre.SRE_Match object; span=(12, 17), match='short'>\n"
     ]
    }
   ],
   "source": [
    "print(re.search(\"short$\", \"Life is too short\"))"
   ]
  },
  {
   "cell_type": "code",
   "execution_count": 10,
   "metadata": {
    "collapsed": false
   },
   "outputs": [
    {
     "name": "stdout",
     "output_type": "stream",
     "text": [
      "None\n"
     ]
    }
   ],
   "source": [
    "print(re.search(\"short$\", \"Life is too short, you need python\"))"
   ]
  },
  {
   "cell_type": "markdown",
   "metadata": {},
   "source": [
    "-----\n",
    "\\A:문자열의 처음과 매치됨(re.MULTILINE 옵션 사용할 경우 ^과 달리 \\A는 줄과 상관없이 전체 문자열의 처음하고만 매치)"
   ]
  },
  {
   "cell_type": "markdown",
   "metadata": {},
   "source": [
    "-----\n",
    "\\Z:문자열의 끝과 매치됨(\\A와 마찬가지로 전체 문자열의 끝과 매치)"
   ]
  },
  {
   "cell_type": "markdown",
   "metadata": {},
   "source": [
    "-----\n",
    "\\b:단어 구분자. 보통 whitespace에 의해 구분됨"
   ]
  },
  {
   "cell_type": "code",
   "execution_count": 11,
   "metadata": {
    "collapsed": false
   },
   "outputs": [
    {
     "name": "stdout",
     "output_type": "stream",
     "text": [
      "<_sre.SRE_Match object; span=(3, 8), match='class'>\n"
     ]
    }
   ],
   "source": [
    "p=re.compile(r\"\\bclass\\b\")\n",
    "print(p.search(\"no class at all\"))"
   ]
  },
  {
   "cell_type": "code",
   "execution_count": 12,
   "metadata": {
    "collapsed": false
   },
   "outputs": [
    {
     "name": "stdout",
     "output_type": "stream",
     "text": [
      "None\n"
     ]
    }
   ],
   "source": [
    "print(p.search(\"the declassified algorith\"))"
   ]
  },
  {
   "cell_type": "markdown",
   "metadata": {},
   "source": [
    "-----\n",
    "\\B:whitespace로 구분된 단어가 아닌 경우에만 매치(\\b와 반대)"
   ]
  },
  {
   "cell_type": "code",
   "execution_count": 13,
   "metadata": {
    "collapsed": false
   },
   "outputs": [
    {
     "name": "stdout",
     "output_type": "stream",
     "text": [
      "None\n"
     ]
    }
   ],
   "source": [
    "p=re.compile(r\"\\Bclass\\B\")\n",
    "print(p.search(\"no class at all\"))"
   ]
  },
  {
   "cell_type": "code",
   "execution_count": 14,
   "metadata": {
    "collapsed": false
   },
   "outputs": [
    {
     "name": "stdout",
     "output_type": "stream",
     "text": [
      "<_sre.SRE_Match object; span=(6, 11), match='class'>\n"
     ]
    }
   ],
   "source": [
    "print(p.search(\"the declassified algorithm\"))"
   ]
  },
  {
   "cell_type": "code",
   "execution_count": 15,
   "metadata": {
    "collapsed": false
   },
   "outputs": [
    {
     "name": "stdout",
     "output_type": "stream",
     "text": [
      "None\n"
     ]
    }
   ],
   "source": [
    "print(p.search(\"one subclass is\"))"
   ]
  },
  {
   "cell_type": "markdown",
   "metadata": {},
   "source": [
    "## 07-3.2. 그루핑"
   ]
  },
  {
   "cell_type": "code",
   "execution_count": 16,
   "metadata": {
    "collapsed": false
   },
   "outputs": [
    {
     "name": "stdout",
     "output_type": "stream",
     "text": [
      "<_sre.SRE_Match object; span=(0, 9), match='ABCABCABC'>\n"
     ]
    }
   ],
   "source": [
    "p=re.compile(\"(ABC)+\")\n",
    "m=p.search(\"ABCABCABC OK?\")\n",
    "print(m)"
   ]
  },
  {
   "cell_type": "code",
   "execution_count": 17,
   "metadata": {
    "collapsed": false
   },
   "outputs": [
    {
     "name": "stdout",
     "output_type": "stream",
     "text": [
      "ABCABCABC\n"
     ]
    }
   ],
   "source": [
    "print(m.group())"
   ]
  },
  {
   "cell_type": "code",
   "execution_count": 27,
   "metadata": {
    "collapsed": true
   },
   "outputs": [],
   "source": [
    "p=re.compile(r\"(\\w+)\\s+((\\d+)[-]\\d+[-]\\d+)\")\n",
    "m=p.search(\"park 010-1234-1234\")"
   ]
  },
  {
   "cell_type": "code",
   "execution_count": 28,
   "metadata": {
    "collapsed": false
   },
   "outputs": [
    {
     "name": "stdout",
     "output_type": "stream",
     "text": [
      "park\n"
     ]
    }
   ],
   "source": [
    "print(m.group(1))"
   ]
  },
  {
   "cell_type": "code",
   "execution_count": 29,
   "metadata": {
    "collapsed": false
   },
   "outputs": [
    {
     "name": "stdout",
     "output_type": "stream",
     "text": [
      "010-1234-1234\n"
     ]
    }
   ],
   "source": [
    "print(m.group(2))"
   ]
  },
  {
   "cell_type": "code",
   "execution_count": 30,
   "metadata": {
    "collapsed": false
   },
   "outputs": [
    {
     "name": "stdout",
     "output_type": "stream",
     "text": [
      "010\n"
     ]
    }
   ],
   "source": [
    "print(m.group(3))"
   ]
  },
  {
   "cell_type": "markdown",
   "metadata": {},
   "source": [
    "-----\n",
    "그루핑된 문자열 재참조하기"
   ]
  },
  {
   "cell_type": "code",
   "execution_count": 31,
   "metadata": {
    "collapsed": false
   },
   "outputs": [
    {
     "data": {
      "text/plain": [
       "'the the'"
      ]
     },
     "execution_count": 31,
     "metadata": {},
     "output_type": "execute_result"
    }
   ],
   "source": [
    "p=re.compile(r\"(\\b\\w+)\\s+\\1\")          #(그룹)+\" \"+그룹과 동일한 단어 => 2개의 동일한 단어를 연속적으로 사용해야만 매치됨\n",
    "p.search(\"Paris in the the spring\").group()        # \\1은 정규식의 그룹 중 첫 번째 그룹을 가리킴. \\2는 두 번째 그룹"
   ]
  },
  {
   "cell_type": "markdown",
   "metadata": {},
   "source": [
    "-----\n",
    "그루핑된 문자열에 이름 붙이기"
   ]
  },
  {
   "cell_type": "code",
   "execution_count": 32,
   "metadata": {
    "collapsed": false
   },
   "outputs": [
    {
     "name": "stdout",
     "output_type": "stream",
     "text": [
      "park\n"
     ]
    }
   ],
   "source": [
    "p=re.compile(r\"(?P<name>\\w+)\\s+((\\d+)[-]\\d+[-]\\d+)\")\n",
    "m=p.search(\"park 010-1234-1234\")\n",
    "print(m.group(\"name\"))"
   ]
  },
  {
   "cell_type": "code",
   "execution_count": 34,
   "metadata": {
    "collapsed": false
   },
   "outputs": [
    {
     "data": {
      "text/plain": [
       "'the the'"
      ]
     },
     "execution_count": 34,
     "metadata": {},
     "output_type": "execute_result"
    }
   ],
   "source": [
    "p=re.compile(r\"(?P<word>\\b\\w+)\\s+(?P=word)\")\n",
    "p.search(\"Paris in the the spring\").group()"
   ]
  },
  {
   "cell_type": "markdown",
   "metadata": {},
   "source": [
    "## 07-3.3. 전방 탐색"
   ]
  },
  {
   "cell_type": "code",
   "execution_count": 35,
   "metadata": {
    "collapsed": false
   },
   "outputs": [
    {
     "name": "stdout",
     "output_type": "stream",
     "text": [
      "http:\n"
     ]
    }
   ],
   "source": [
    "p=re.compile(\".+:\")\n",
    "m=p.search(\"http://google.com\")\n",
    "print(m.group())"
   ]
  },
  {
   "cell_type": "markdown",
   "metadata": {},
   "source": [
    "-----\n",
    "긍정형 전방 탐색:(?=...) ...에 해당되는 정규식과 매치되어야 하며 조건이 통과되어도 문자열이 소비되지 않음"
   ]
  },
  {
   "cell_type": "code",
   "execution_count": 37,
   "metadata": {
    "collapsed": false
   },
   "outputs": [
    {
     "name": "stdout",
     "output_type": "stream",
     "text": [
      "http\n"
     ]
    }
   ],
   "source": [
    "p=re.compile(\".+(?=:)\")           #(?=:)으로 변경함. 검색결과에서는 :이 제거된 후 돌려주는 효과가 있음\n",
    "m=p.search(\"http://google.com\")\n",
    "print(m.group())"
   ]
  },
  {
   "cell_type": "code",
   "execution_count": 38,
   "metadata": {
    "collapsed": true
   },
   "outputs": [],
   "source": [
    "p=re.compile(r\".*[.]([^b].?.?|.[^a]?.?|..?[^t]?)$\")     #조건이 늘어날수록 너무 복잡해짐. 이 때 쓰는게 부정형 전방 탐색"
   ]
  },
  {
   "cell_type": "markdown",
   "metadata": {},
   "source": [
    "-----\n",
    "부정형 전방 탐색:(?!...)...에 해당회는 정규식과 매치되지 않아야하며 조건이 통과되어도 문자열이 소비되지 않음"
   ]
  },
  {
   "cell_type": "code",
   "execution_count": 40,
   "metadata": {
    "collapsed": true
   },
   "outputs": [],
   "source": [
    "p=re.compile(r\".*[.](?!bat$).*$\")         #확장자가 bat가 아닌 경우에만 통과됨"
   ]
  },
  {
   "cell_type": "code",
   "execution_count": 41,
   "metadata": {
    "collapsed": true
   },
   "outputs": [],
   "source": [
    "p=re.compile(r\".*[.](?!bat$|exe$).*$\")    #exe 확장자 제외 조건 추가"
   ]
  },
  {
   "cell_type": "markdown",
   "metadata": {},
   "source": [
    "## 07-3.4. 문자열 바꾸기"
   ]
  },
  {
   "cell_type": "code",
   "execution_count": 42,
   "metadata": {
    "collapsed": false
   },
   "outputs": [
    {
     "data": {
      "text/plain": [
       "'colour socks and colour shoes'"
      ]
     },
     "execution_count": 42,
     "metadata": {},
     "output_type": "execute_result"
    }
   ],
   "source": [
    "p=re.compile(\"(blue|white|red)\")\n",
    "p.sub(\"colour\",\"blue socks and red shoes\")    #첫 번째 매개변수 = 바꿀 문자열 / 두 번째 매개변수 = 대상 문자열"
   ]
  },
  {
   "cell_type": "code",
   "execution_count": 44,
   "metadata": {
    "collapsed": false
   },
   "outputs": [
    {
     "data": {
      "text/plain": [
       "'colour socks and red shoes'"
      ]
     },
     "execution_count": 44,
     "metadata": {},
     "output_type": "execute_result"
    }
   ],
   "source": [
    "p.sub(\"colour\",\"blue socks and red shoes\", count=1)     #바꾸기 횟수 제한"
   ]
  },
  {
   "cell_type": "code",
   "execution_count": 45,
   "metadata": {
    "collapsed": false
   },
   "outputs": [
    {
     "data": {
      "text/plain": [
       "('colour socks and colour shoes', 2)"
      ]
     },
     "execution_count": 45,
     "metadata": {},
     "output_type": "execute_result"
    }
   ],
   "source": [
    "p.subn(\"colour\",\"blue socks and red shoes\")   #subn 메서드는 sub와 동일한 기능. 차이는 결과 튜플로 반환 + 바꾸기 발생 횟수 보여줌"
   ]
  },
  {
   "cell_type": "markdown",
   "metadata": {},
   "source": [
    "-----\n",
    "sub메서드 사용 시 참조 구문 사용하기"
   ]
  },
  {
   "cell_type": "code",
   "execution_count": 46,
   "metadata": {
    "collapsed": false
   },
   "outputs": [
    {
     "name": "stdout",
     "output_type": "stream",
     "text": [
      "010-1234-1234 park\n"
     ]
    }
   ],
   "source": [
    "# 이름+전화번호 -바꾸기-> 전화번호+이름 \n",
    "\n",
    "p=re.compile(r\"(?P<name>\\w+)\\s+(?P<phone>(\\d+)[-]\\d+[-]\\d+)\")\n",
    "print(p.sub(\"\\g<phone> \\g<name>\", \"park 010-1234-1234\"))"
   ]
  },
  {
   "cell_type": "code",
   "execution_count": 47,
   "metadata": {
    "collapsed": false
   },
   "outputs": [
    {
     "name": "stdout",
     "output_type": "stream",
     "text": [
      "010-1234-1234 park\n"
     ]
    }
   ],
   "source": [
    "p=re.compile(r\"(?P<name>\\w+)\\s+(?P<phone>(\\d+)[-]\\d+[-]\\d+)\")\n",
    "print(p.sub(\"\\g<2> \\g<1>\", \"park 010-1234-1234\"))"
   ]
  },
  {
   "cell_type": "markdown",
   "metadata": {},
   "source": [
    "-----\n",
    "sub메서드의 매개변수로 함수 넣기"
   ]
  },
  {
   "cell_type": "code",
   "execution_count": 48,
   "metadata": {
    "collapsed": true
   },
   "outputs": [],
   "source": [
    "def hexrepl(match):\n",
    "    value=int(match.group())\n",
    "    return hex(value)"
   ]
  },
  {
   "cell_type": "code",
   "execution_count": 49,
   "metadata": {
    "collapsed": true
   },
   "outputs": [],
   "source": [
    "p=re.compile(r\"\\d+\")"
   ]
  },
  {
   "cell_type": "code",
   "execution_count": 50,
   "metadata": {
    "collapsed": false
   },
   "outputs": [
    {
     "data": {
      "text/plain": [
       "'Call 0xffd2 for printing, 0xc000 for user code.'"
      ]
     },
     "execution_count": 50,
     "metadata": {},
     "output_type": "execute_result"
    }
   ],
   "source": [
    "p.sub(hexrepl, \"Call 65490 for printing, 49152 for user code.\")"
   ]
  },
  {
   "cell_type": "markdown",
   "metadata": {},
   "source": [
    "## 07-3.5. Greedy vs. Non-Greedy"
   ]
  },
  {
   "cell_type": "code",
   "execution_count": 52,
   "metadata": {
    "collapsed": false
   },
   "outputs": [
    {
     "data": {
      "text/plain": [
       "32"
      ]
     },
     "execution_count": 52,
     "metadata": {},
     "output_type": "execute_result"
    }
   ],
   "source": [
    "s=\"<html><head><title>Title</title>\"\n",
    "len(s)"
   ]
  },
  {
   "cell_type": "code",
   "execution_count": 53,
   "metadata": {
    "collapsed": false
   },
   "outputs": [
    {
     "name": "stdout",
     "output_type": "stream",
     "text": [
      "(0, 32)\n"
     ]
    }
   ],
   "source": [
    "print(re.match(\"<.*>\",s).span())"
   ]
  },
  {
   "cell_type": "code",
   "execution_count": 55,
   "metadata": {
    "collapsed": false
   },
   "outputs": [
    {
     "name": "stdout",
     "output_type": "stream",
     "text": [
      "<html><head><title>Title</title>\n"
     ]
    }
   ],
   "source": [
    "print(re.match(\"<.*>\",s).group())"
   ]
  },
  {
   "cell_type": "code",
   "execution_count": 56,
   "metadata": {
    "collapsed": false
   },
   "outputs": [
    {
     "name": "stdout",
     "output_type": "stream",
     "text": [
      "<html>\n"
     ]
    }
   ],
   "source": [
    "print(re.match(\"<.*?>\",s).group())   #?로 가능한 한 가장 최소한의 반복을 수행하도록 도와줌"
   ]
  },
  {
   "cell_type": "markdown",
   "metadata": {},
   "source": [
    "## 08장 종합문제"
   ]
  },
  {
   "cell_type": "markdown",
   "metadata": {},
   "source": [
    "-----\n",
    "Q1. 문자열 바꾸기"
   ]
  },
  {
   "cell_type": "code",
   "execution_count": 60,
   "metadata": {
    "collapsed": false
   },
   "outputs": [
    {
     "data": {
      "text/plain": [
       "'a#b#c#d'"
      ]
     },
     "execution_count": 60,
     "metadata": {},
     "output_type": "execute_result"
    }
   ],
   "source": [
    "a1=\"a:b:c:d\"\n",
    "\n",
    "a1=a1.split(\":\")\n",
    "\"#\".join(a1)"
   ]
  },
  {
   "cell_type": "markdown",
   "metadata": {},
   "source": [
    "-----\n",
    "Q2. 딕셔너리 값 추출하기"
   ]
  },
  {
   "cell_type": "code",
   "execution_count": 144,
   "metadata": {
    "collapsed": false
   },
   "outputs": [
    {
     "ename": "KeyError",
     "evalue": "'C'",
     "output_type": "error",
     "traceback": [
      "\u001b[0;31m---------------------------------------------------------------------------\u001b[0m",
      "\u001b[0;31mKeyError\u001b[0m                                  Traceback (most recent call last)",
      "\u001b[0;32m<ipython-input-144-8bcc125cbe3b>\u001b[0m in \u001b[0;36m<module>\u001b[0;34m()\u001b[0m\n\u001b[1;32m      1\u001b[0m \u001b[0ma2\u001b[0m\u001b[1;33m=\u001b[0m\u001b[1;33m{\u001b[0m\u001b[1;34m\"A\"\u001b[0m\u001b[1;33m:\u001b[0m\u001b[1;36m90\u001b[0m\u001b[1;33m,\u001b[0m \u001b[1;34m\"B\"\u001b[0m\u001b[1;33m:\u001b[0m\u001b[1;36m80\u001b[0m\u001b[1;33m}\u001b[0m\u001b[1;33m\u001b[0m\u001b[0m\n\u001b[0;32m----> 2\u001b[0;31m \u001b[0ma2\u001b[0m\u001b[1;33m[\u001b[0m\u001b[1;34m\"C\"\u001b[0m\u001b[1;33m]\u001b[0m\u001b[1;33m\u001b[0m\u001b[0m\n\u001b[0m\u001b[1;32m      3\u001b[0m \u001b[1;33m\u001b[0m\u001b[0m\n\u001b[1;32m      4\u001b[0m \u001b[1;31m#\"C\"에 해당하는 key값이 없을 경우 오류 대신 70을 얻을 수 있도록 수정\u001b[0m\u001b[1;33m\u001b[0m\u001b[1;33m\u001b[0m\u001b[0m\n",
      "\u001b[0;31mKeyError\u001b[0m: 'C'"
     ]
    }
   ],
   "source": [
    "a2={\"A\":90, \"B\":80}\n",
    "a2[\"C\"]\n",
    "\n",
    "#\"C\"에 해당하는 key값이 없을 경우 오류 대신 70을 얻을 수 있도록 수정"
   ]
  },
  {
   "cell_type": "code",
   "execution_count": 64,
   "metadata": {
    "collapsed": false
   },
   "outputs": [
    {
     "data": {
      "text/plain": [
       "70"
      ]
     },
     "execution_count": 64,
     "metadata": {},
     "output_type": "execute_result"
    }
   ],
   "source": [
    "a2[\"C\"]=70\n",
    "a2[\"C\"]\n",
    "\n",
    "#이거.. 아니다... ㅠ"
   ]
  },
  {
   "cell_type": "code",
   "execution_count": 147,
   "metadata": {
    "collapsed": false
   },
   "outputs": [
    {
     "data": {
      "text/plain": [
       "70"
      ]
     },
     "execution_count": 147,
     "metadata": {},
     "output_type": "execute_result"
    }
   ],
   "source": [
    "#답\n",
    "\n",
    "#딕셔너리의 get함수 사용\n",
    "a2={\"A\":90,\"B\":80}\n",
    "a2.get(\"C\",70)"
   ]
  },
  {
   "cell_type": "markdown",
   "metadata": {},
   "source": [
    "-----\n",
    "Q3. 리스트의 더하기와 extend 함수"
   ]
  },
  {
   "cell_type": "code",
   "execution_count": 65,
   "metadata": {
    "collapsed": false
   },
   "outputs": [
    {
     "data": {
      "text/plain": [
       "[1, 2, 3, 4, 5]"
      ]
     },
     "execution_count": 65,
     "metadata": {},
     "output_type": "execute_result"
    }
   ],
   "source": [
    "# +기호 사용\n",
    "\n",
    "a3=[1,2,3]\n",
    "a3=a3+[4,5]\n",
    "\n",
    "a3"
   ]
  },
  {
   "cell_type": "code",
   "execution_count": 66,
   "metadata": {
    "collapsed": false
   },
   "outputs": [
    {
     "data": {
      "text/plain": [
       "[1, 2, 3, 4, 5]"
      ]
     },
     "execution_count": 66,
     "metadata": {},
     "output_type": "execute_result"
    }
   ],
   "source": [
    "#extend 사용\n",
    "\n",
    "a3=[1,2,3]\n",
    "a3.extend([4,5])\n",
    "\n",
    "a3"
   ]
  },
  {
   "cell_type": "code",
   "execution_count": 67,
   "metadata": {
    "collapsed": true
   },
   "outputs": [],
   "source": [
    "#차이점이 있는가? 있다면 차이점을 설명하시오."
   ]
  },
  {
   "cell_type": "code",
   "execution_count": 68,
   "metadata": {
    "collapsed": false
   },
   "outputs": [
    {
     "data": {
      "text/plain": [
       "2727872146504"
      ]
     },
     "execution_count": 68,
     "metadata": {},
     "output_type": "execute_result"
    }
   ],
   "source": [
    "a3=[1,2,3]\n",
    "id(a3)"
   ]
  },
  {
   "cell_type": "code",
   "execution_count": 69,
   "metadata": {
    "collapsed": false
   },
   "outputs": [
    {
     "data": {
      "text/plain": [
       "2727872126408"
      ]
     },
     "execution_count": 69,
     "metadata": {},
     "output_type": "execute_result"
    }
   ],
   "source": [
    "a3=a3+[4,5]\n",
    "id(a3)"
   ]
  },
  {
   "cell_type": "code",
   "execution_count": 70,
   "metadata": {
    "collapsed": false
   },
   "outputs": [
    {
     "data": {
      "text/plain": [
       "2727872165960"
      ]
     },
     "execution_count": 70,
     "metadata": {},
     "output_type": "execute_result"
    }
   ],
   "source": [
    "a3=[1,2,3]\n",
    "id(a3)"
   ]
  },
  {
   "cell_type": "code",
   "execution_count": 71,
   "metadata": {
    "collapsed": false
   },
   "outputs": [
    {
     "data": {
      "text/plain": [
       "2727872165960"
      ]
     },
     "execution_count": 71,
     "metadata": {},
     "output_type": "execute_result"
    }
   ],
   "source": [
    "a3.extend((4,5))\n",
    "id(a3)"
   ]
  },
  {
   "cell_type": "code",
   "execution_count": 72,
   "metadata": {
    "collapsed": true
   },
   "outputs": [],
   "source": [
    "# + 를 사용하면 id값이 달라짐. extend를 사용하면 id값이 이전과 동일함"
   ]
  },
  {
   "cell_type": "markdown",
   "metadata": {},
   "source": [
    "-----\n",
    "Q4. 리스트 총합 구하기"
   ]
  },
  {
   "cell_type": "code",
   "execution_count": 79,
   "metadata": {
    "collapsed": false
   },
   "outputs": [
    {
     "name": "stdout",
     "output_type": "stream",
     "text": [
      "481\n"
     ]
    }
   ],
   "source": [
    "#50점 이상 점수의 총합\n",
    "\n",
    "A=[20,55,67,82,45,33,90,87,100,25]\n",
    "\n",
    "result=0\n",
    "for i in A:\n",
    "    if i>=50:\n",
    "        result = i+result\n",
    "    else: pass\n",
    "\n",
    "print(result)"
   ]
  },
  {
   "cell_type": "code",
   "execution_count": 148,
   "metadata": {
    "collapsed": false
   },
   "outputs": [
    {
     "name": "stdout",
     "output_type": "stream",
     "text": [
      "481\n"
     ]
    }
   ],
   "source": [
    "#책의 답\n",
    "\n",
    "A=[20,55,67,82,45,33,90,87,100,25]\n",
    "\n",
    "result=0\n",
    "while A:\n",
    "    mark=A.pop()\n",
    "    if mark>=50:\n",
    "        result += mark\n",
    "        \n",
    "print(result)"
   ]
  },
  {
   "cell_type": "markdown",
   "metadata": {},
   "source": [
    "-----\n",
    "Q5. 피보나치 함수"
   ]
  },
  {
   "cell_type": "code",
   "execution_count": 151,
   "metadata": {
    "collapsed": true
   },
   "outputs": [],
   "source": [
    "#n이하까지 피보나치 수열을 출력하는 함수를 작성\n",
    "\n",
    "def add_seq(n):\n",
    "    result=[0,1]\n",
    "    result_tot=0\n",
    "    while result_tot<=n:\n",
    "        result_tot=result[-1]+result[-2]    \n",
    "        if result_tot>n:\n",
    "            False\n",
    "        else:\n",
    "            result.append(result_tot)\n",
    "    \n",
    "    return result\n"
   ]
  },
  {
   "cell_type": "code",
   "execution_count": 152,
   "metadata": {
    "collapsed": false
   },
   "outputs": [
    {
     "data": {
      "text/plain": [
       "[0, 1, 1, 2, 3, 5, 8, 13]"
      ]
     },
     "execution_count": 152,
     "metadata": {},
     "output_type": "execute_result"
    }
   ],
   "source": [
    "add_seq(20)"
   ]
  },
  {
   "cell_type": "code",
   "execution_count": 156,
   "metadata": {
    "collapsed": true
   },
   "outputs": [],
   "source": [
    "#우정이가 고쳐준 답안\n",
    "\n",
    "def add_seq(n):\n",
    "    result=[0,1]\n",
    "    result_tot=0\n",
    "    while len(result)<n:\n",
    "        result_tot=result[-1]+result[-2]    \n",
    "        if len(result)>n:\n",
    "            False\n",
    "        else:\n",
    "            result.append(result_tot)\n",
    "    \n",
    "    return result"
   ]
  },
  {
   "cell_type": "code",
   "execution_count": 157,
   "metadata": {
    "collapsed": false
   },
   "outputs": [
    {
     "data": {
      "text/plain": [
       "[0, 1, 1, 2, 3, 5, 8, 13, 21, 34]"
      ]
     },
     "execution_count": 157,
     "metadata": {},
     "output_type": "execute_result"
    }
   ],
   "source": [
    "add_seq(10)"
   ]
  },
  {
   "cell_type": "code",
   "execution_count": 158,
   "metadata": {
    "collapsed": false
   },
   "outputs": [
    {
     "name": "stdout",
     "output_type": "stream",
     "text": [
      "0\n",
      "1\n",
      "1\n",
      "2\n",
      "3\n",
      "5\n",
      "8\n",
      "13\n",
      "21\n",
      "34\n"
     ]
    }
   ],
   "source": [
    "#책의 답\n",
    "\n",
    "def fib(n):\n",
    "    if n==0 : return 0\n",
    "    if n==1 : return 1\n",
    "    return fib(n-2) + fib(n-1)\n",
    "\n",
    "for i in range(10):\n",
    "    print(fib(i))"
   ]
  },
  {
   "cell_type": "markdown",
   "metadata": {},
   "source": [
    "-----\n",
    "Q6. 숫자의 총합 구하기"
   ]
  },
  {
   "cell_type": "code",
   "execution_count": 110,
   "metadata": {
    "collapsed": true
   },
   "outputs": [],
   "source": [
    "#입력받은 숫자의 총합을 구하는 프로그램 작성(65,45,2,3,45,8)\n",
    "\n",
    "def add_Q6(*argv):\n",
    "    total=0\n",
    "    for i in argv:\n",
    "        total += i\n",
    "    \n",
    "    return total"
   ]
  },
  {
   "cell_type": "code",
   "execution_count": 111,
   "metadata": {
    "collapsed": false
   },
   "outputs": [
    {
     "data": {
      "text/plain": [
       "168"
      ]
     },
     "execution_count": 111,
     "metadata": {},
     "output_type": "execute_result"
    }
   ],
   "source": [
    "add_Q6(65,45,2,3,45,8)"
   ]
  },
  {
   "cell_type": "code",
   "execution_count": 11,
   "metadata": {
    "collapsed": false
   },
   "outputs": [
    {
     "name": "stdout",
     "output_type": "stream",
     "text": [
      "숫자를 입력하세요: 65,45,2,3,45,8\n",
      "168\n"
     ]
    }
   ],
   "source": [
    "#프로그램을!작성! 책의 답\n",
    "\n",
    "user_input = input(\"숫자를 입력하세요: \")\n",
    "numbers = user_input.split(\",\")             #문자열을 split을 하면 list로 돌려줌\n",
    "total = 0\n",
    "for n in numbers:\n",
    "    total += int(n) \n",
    "print(total)"
   ]
  },
  {
   "cell_type": "markdown",
   "metadata": {},
   "source": [
    "-----\n",
    "Q7. 한 줄 구구단"
   ]
  },
  {
   "cell_type": "code",
   "execution_count": 119,
   "metadata": {
    "collapsed": false
   },
   "outputs": [],
   "source": [
    "#2~9의 숫자 중 하나를 입력받아 해당 숫자의 구구단을 한 줄로 출력하는 프로그램을 작성\n",
    "\n",
    "def gugu(n):\n",
    "    for i in range(1,10):\n",
    "        print(n*i, end=\" \")"
   ]
  },
  {
   "cell_type": "code",
   "execution_count": 120,
   "metadata": {
    "collapsed": false
   },
   "outputs": [
    {
     "name": "stdout",
     "output_type": "stream",
     "text": [
      "3 6 9 12 15 18 21 24 27 "
     ]
    }
   ],
   "source": [
    "gugu(3)"
   ]
  },
  {
   "cell_type": "code",
   "execution_count": 16,
   "metadata": {
    "collapsed": false
   },
   "outputs": [
    {
     "name": "stdout",
     "output_type": "stream",
     "text": [
      "2~9사이의 숫자 입력: 5\n",
      "5 10 15 20 25 30 35 40 45 "
     ]
    }
   ],
   "source": [
    "#프로그램을! 작성!\n",
    "\n",
    "num=int(input(\"2~9사이의 숫자 입력: \"))\n",
    "\n",
    "for i in range(1,10):\n",
    "    print(num*i, end=\" \")"
   ]
  },
  {
   "cell_type": "markdown",
   "metadata": {},
   "source": [
    "-----\n",
    "Q8. 역순 저장"
   ]
  },
  {
   "cell_type": "code",
   "execution_count": 138,
   "metadata": {
    "collapsed": false
   },
   "outputs": [
    {
     "name": "stdout",
     "output_type": "stream",
     "text": [
      "AAA\n",
      "BBB\n",
      "CCC\n",
      "DDD\n",
      "EEE\n"
     ]
    }
   ],
   "source": [
    "#다음 abc.txt 파일 내용을 역순으로 저장하기\n",
    "\n",
    "f8=open(\"C:\\\\Test\\\\JT_Python\\\\abc.txt\", \"r\")\n",
    "data8=f8.read()\n",
    "print(data8)\n",
    "f8.close()"
   ]
  },
  {
   "cell_type": "code",
   "execution_count": 128,
   "metadata": {
    "collapsed": false
   },
   "outputs": [
    {
     "name": "stdout",
     "output_type": "stream",
     "text": [
      "a\n",
      "ba\n",
      "cba\n",
      "dcba\n",
      "edcba\n",
      "edcba\n"
     ]
    }
   ],
   "source": [
    "#for 문을 이용해 문자열을 역순으로 만드는 법\n",
    "\n",
    "s='abcde'\n",
    "s_reverse=''\n",
    "\n",
    "for char in s:\n",
    "    s_reverse=char+s_reverse\n",
    "    print(s_reverse)    #과정을 보기위해 넣음 \n",
    "    \n",
    "print(s_reverse)"
   ]
  },
  {
   "cell_type": "code",
   "execution_count": 139,
   "metadata": {
    "collapsed": false
   },
   "outputs": [
    {
     "name": "stdout",
     "output_type": "stream",
     "text": [
      "EEE\n",
      "DDD\n",
      "CCC\n",
      "BBB\n",
      "AAA\n"
     ]
    }
   ],
   "source": [
    "data8_re=''\n",
    "\n",
    "for i in data8:\n",
    "    data8_re=i+data8_re\n",
    "    \n",
    "print(data8_re)"
   ]
  },
  {
   "cell_type": "code",
   "execution_count": 140,
   "metadata": {
    "collapsed": false
   },
   "outputs": [],
   "source": [
    "f8=open(\"C:\\\\Test\\\\JT_Python\\\\abc.txt\", \"w\")\n",
    "f8.write(data8_re)\n",
    "f8.close()"
   ]
  },
  {
   "cell_type": "code",
   "execution_count": 141,
   "metadata": {
    "collapsed": true
   },
   "outputs": [],
   "source": [
    "f8=open(\"C:\\\\Test\\\\JT_Python\\\\abc.txt\", \"a\")\n",
    "f8.write(\"\\n243\")\n",
    "f8.close()"
   ]
  },
  {
   "cell_type": "code",
   "execution_count": 142,
   "metadata": {
    "collapsed": false
   },
   "outputs": [
    {
     "name": "stdout",
     "output_type": "stream",
     "text": [
      "EEE\n",
      "DDD\n",
      "CCC\n",
      "BBB\n",
      "AAA\n",
      "243\n"
     ]
    }
   ],
   "source": [
    "f8=open(\"C:\\\\Test\\\\JT_Python\\\\abc.txt\", \"r\")\n",
    "check8=f8.read()\n",
    "print(check8)\n",
    "f8.close()"
   ]
  },
  {
   "cell_type": "code",
   "execution_count": 17,
   "metadata": {
    "collapsed": true
   },
   "outputs": [],
   "source": [
    "#책의 답 : 흠 근데 마지막 숫자는...?\n",
    "\n",
    "f = open('C:\\\\Test\\\\JT_Python\\\\abc.txt', 'r')\n",
    "lines = f.readlines()    # 모든 라인을 읽음\n",
    "f.close()\n",
    "\n",
    "lines.reverse()          # 읽은 라인을 역순으로 정렬\n",
    "\n",
    "f = open('C:\\\\Test\\\\JT_Python\\\\abc.txt', 'w')\n",
    "for line in lines:\n",
    "    line = line.strip()  # 포함되어 있는 줄 바꿈 문자 제거\n",
    "    f.write(line)\n",
    "    f.write('\\n')        # 줄 바꿈 문자 삽입\n",
    "f.close()"
   ]
  },
  {
   "cell_type": "markdown",
   "metadata": {},
   "source": [
    "-----\n",
    "Q9. 평균값 구하기"
   ]
  },
  {
   "cell_type": "code",
   "execution_count": 9,
   "metadata": {
    "collapsed": false
   },
   "outputs": [
    {
     "name": "stdout",
     "output_type": "stream",
     "text": [
      "790\n",
      "79.0\n"
     ]
    }
   ],
   "source": [
    "#sample.txt 파일의 숫자 값을 모두 읽어 총합과 평균 값을 구한 후 평균 값을 result.txt 파일에 쓰는 프로그램을 작성\n",
    "\n",
    "f9=open(\"C:\\\\Test\\\\JT_Python\\\\sample.txt\", \"r\")\n",
    "data9=f9.read()\n",
    "f9.close()\n",
    "\n",
    "nums=data9.split(\"\\n\")\n",
    "total=0\n",
    "\n",
    "for i in nums:\n",
    "    total += int(i)\n",
    "\n",
    "print(total)\n",
    "\n",
    "average=total/len(nums)\n",
    "print(average)\n",
    "\n",
    "f9=open(\"C:\\\\Test\\\\JT_Python\\\\result.txt\", \"w\")\n",
    "f9.write(str(average))\n",
    "f9.close()"
   ]
  },
  {
   "cell_type": "markdown",
   "metadata": {},
   "source": [
    "-----\n",
    "Q10. 사칙연산 계산기"
   ]
  },
  {
   "cell_type": "code",
   "execution_count": 42,
   "metadata": {
    "collapsed": false
   },
   "outputs": [
    {
     "name": "stdout",
     "output_type": "stream",
     "text": [
      "15\n",
      "3.0\n",
      "40\n",
      "8.0\n"
     ]
    }
   ],
   "source": [
    "#다음과 같이 동작하는 클래스 Calculator를 작성\n",
    "#하다가 안되서 답보고 따라함 ㅎ\n",
    "\n",
    "class Calculator:\n",
    "    def __init__(self, datalist):\n",
    "        self.datalist=datalist\n",
    "        \n",
    "    def add(self):\n",
    "        result=0\n",
    "        for n in self.datalist:\n",
    "            result += int(n)\n",
    "        return result\n",
    "    \n",
    "    def avg(self):\n",
    "        total=self.add()\n",
    "        return total/len(self.datalist)\n",
    "    \n",
    "cal1 = Calculator([1,2,3,4,5]) \n",
    "print (cal1.add())\n",
    "print (cal1.avg())\n",
    "\n",
    "cal2 = Calculator([6,7,8,9,10]) \n",
    "print (cal2.add())\n",
    "print (cal2.avg())"
   ]
  },
  {
   "cell_type": "code",
   "execution_count": null,
   "metadata": {
    "collapsed": true
   },
   "outputs": [],
   "source": [
    "#답\n",
    "\n",
    "class Calculator:\n",
    "    def init (self, numberList): \n",
    "        self.numberList = numberList\n",
    "\n",
    "    def add(self): result = 0\n",
    "        for num in self.numberList: \n",
    "            result += num\n",
    "        return result\n",
    "\n",
    "    def avg(self):\n",
    "        total = self.add()\n",
    "        return total / len(self.numberList)\n",
    "\n",
    "cal1 = Calculator([1,2,3,4,5]) \n",
    "print (cal1.add())\n",
    "print (cal1.avg())\n",
    "\n",
    "cal2 = Calculator([6,7,8,9,10]) \n",
    "print (cal2.add())\n",
    "print (cal2.avg())"
   ]
  },
  {
   "cell_type": "markdown",
   "metadata": {},
   "source": [
    "-----\n",
    "Q11. 모듈 사용 방법"
   ]
  },
  {
   "cell_type": "code",
   "execution_count": 143,
   "metadata": {
    "collapsed": true
   },
   "outputs": [],
   "source": [
    "#명령 프롬프트 창에서 파이썬 셸을 열어 mymod.py 모듈을 import해서 사용할 수 있는 방법을 기술\n",
    "#책보고 따라함ㅎㅎ..\n",
    "\n",
    "# 1.sys모듈 사용하기\n",
    "import sys\n",
    "sys.path.append(\"C:\\\\Test\\\\JT_Python\")\n",
    "import mymod\n",
    "\n",
    "# 2.PYTHONPATH 환경변수 사용하기\n",
    "C:\\\\Users\\\\personal>set PYTHONPATH=C:\\\\Test\\\\JT_Python\n",
    "C:\\\\Users\\\\personal>python\n",
    "import mymod\n",
    "\n",
    "#3. 현재 디렉터리 사용하기\n",
    "C:\\\\Users\\\\personal>cd C:\\\\Test\\\\JT_Python\n",
    "C:\\\\Test\\\\JT_Python>python\n",
    "import mymod"
   ]
  },
  {
   "cell_type": "markdown",
   "metadata": {},
   "source": [
    "-----\n",
    "Q12. 오류와 예외 처리"
   ]
  },
  {
   "cell_type": "code",
   "execution_count": 43,
   "metadata": {
    "collapsed": false
   },
   "outputs": [
    {
     "name": "stdout",
     "output_type": "stream",
     "text": [
      "7\n"
     ]
    }
   ],
   "source": [
    "#다음 코드의 실행 결과 예측 및 이유 설명\n",
    "\n",
    "result = 0\n",
    "\n",
    "try:\n",
    "    [1, 2, 3][3]\n",
    "    \"a\"+1\n",
    "    4 / 0\n",
    "except TypeError:\n",
    "    result += 1\n",
    "except ZeroDivisionError:\n",
    "    result += 2\n",
    "except IndexError:\n",
    "    result += 3\n",
    "finally:\n",
    "    result += 4\n",
    "\n",
    "print(result)\n",
    "\n",
    "#3+1+2=6 -> 응 아니야ㅠㅠㅠㅠㅠㅠㅠㅠㅠ"
   ]
  },
  {
   "cell_type": "code",
   "execution_count": 44,
   "metadata": {
    "collapsed": false
   },
   "outputs": [
    {
     "ename": "IndexError",
     "evalue": "list index out of range",
     "output_type": "error",
     "traceback": [
      "\u001b[0;31m---------------------------------------------------------------------------\u001b[0m",
      "\u001b[0;31mIndexError\u001b[0m                                Traceback (most recent call last)",
      "\u001b[0;32m<ipython-input-44-7b311440d899>\u001b[0m in \u001b[0;36m<module>\u001b[0;34m()\u001b[0m\n\u001b[0;32m----> 1\u001b[0;31m \u001b[1;33m[\u001b[0m\u001b[1;36m1\u001b[0m\u001b[1;33m,\u001b[0m\u001b[1;36m2\u001b[0m\u001b[1;33m,\u001b[0m\u001b[1;36m3\u001b[0m\u001b[1;33m]\u001b[0m\u001b[1;33m[\u001b[0m\u001b[1;36m3\u001b[0m\u001b[1;33m]\u001b[0m\u001b[1;33m\u001b[0m\u001b[0m\n\u001b[0m",
      "\u001b[0;31mIndexError\u001b[0m: list index out of range"
     ]
    }
   ],
   "source": [
    "[1,2,3][3]"
   ]
  },
  {
   "cell_type": "code",
   "execution_count": 45,
   "metadata": {
    "collapsed": false
   },
   "outputs": [
    {
     "ename": "TypeError",
     "evalue": "Can't convert 'int' object to str implicitly",
     "output_type": "error",
     "traceback": [
      "\u001b[0;31m---------------------------------------------------------------------------\u001b[0m",
      "\u001b[0;31mTypeError\u001b[0m                                 Traceback (most recent call last)",
      "\u001b[0;32m<ipython-input-45-0a514c1a851b>\u001b[0m in \u001b[0;36m<module>\u001b[0;34m()\u001b[0m\n\u001b[0;32m----> 1\u001b[0;31m \u001b[1;34m\"a\"\u001b[0m\u001b[1;33m+\u001b[0m\u001b[1;36m1\u001b[0m\u001b[1;33m\u001b[0m\u001b[0m\n\u001b[0m",
      "\u001b[0;31mTypeError\u001b[0m: Can't convert 'int' object to str implicitly"
     ]
    }
   ],
   "source": [
    "\"a\"+1"
   ]
  },
  {
   "cell_type": "code",
   "execution_count": 46,
   "metadata": {
    "collapsed": false
   },
   "outputs": [
    {
     "ename": "ZeroDivisionError",
     "evalue": "division by zero",
     "output_type": "error",
     "traceback": [
      "\u001b[0;31m---------------------------------------------------------------------------\u001b[0m",
      "\u001b[0;31mZeroDivisionError\u001b[0m                         Traceback (most recent call last)",
      "\u001b[0;32m<ipython-input-46-6de94738d89d>\u001b[0m in \u001b[0;36m<module>\u001b[0;34m()\u001b[0m\n\u001b[0;32m----> 1\u001b[0;31m \u001b[1;36m4\u001b[0m\u001b[1;33m/\u001b[0m\u001b[1;36m0\u001b[0m\u001b[1;33m\u001b[0m\u001b[0m\n\u001b[0m",
      "\u001b[0;31mZeroDivisionError\u001b[0m: division by zero"
     ]
    }
   ],
   "source": [
    "4/0"
   ]
  },
  {
   "cell_type": "code",
   "execution_count": 47,
   "metadata": {
    "collapsed": true
   },
   "outputs": [],
   "source": [
    "#에러 유형은 다 맞긴함\n",
    "#try문 안의 [1, 2, 3][3] 이라는 문장 수행 시 IndexError가 발생하여 except IndexError: 구문으로 이동\n",
    "#result에 3이 더해져 3이 되고, 최종적으로 finally 구문이 실행되어 result에 4가 더해져 7이 됨"
   ]
  },
  {
   "cell_type": "markdown",
   "metadata": {},
   "source": [
    "-----\n",
    "Q13. DashInsert 함수"
   ]
  },
  {
   "cell_type": "code",
   "execution_count": 20,
   "metadata": {
    "collapsed": false
   },
   "outputs": [
    {
     "name": "stdout",
     "output_type": "stream",
     "text": [
      "숫자를 입력하세요: 1234\n",
      "['1', '1-', '1', '2*', '2*', '2*', '3', '3-', '3', '4*', '4*', '4*']\n"
     ]
    }
   ],
   "source": [
    "#DashInsert 함수: 숫자로 구성된 문자열을 입력받아 문자열 안에서 (홀수 연속->두 수 사이 - 추가),(짝수 연속-> * 추가)\n",
    "#DashInsert 함수 완성하기\n",
    "\n",
    "data13=input(\"숫자를 입력하세요: \")\n",
    "\n",
    "data13=list(data13)\n",
    "data1313=list(data13[1:])\n",
    "\n",
    "result=[]\n",
    "\n",
    "for n in data13:\n",
    "    for m in data1313:\n",
    "        if int(n)%2==1 & int(m)%2==1:\n",
    "            result.append(n+\"-\")\n",
    "        elif int(n)%2==0 & int(m)%2==0:\n",
    "            result.append(n+\"*\")\n",
    "        else:\n",
    "            result.append(n)\n",
    "    \n",
    "print(result)\n",
    "\n",
    "#걍 답지보고 따라함.."
   ]
  },
  {
   "cell_type": "code",
   "execution_count": 24,
   "metadata": {
    "collapsed": false
   },
   "outputs": [
    {
     "name": "stdout",
     "output_type": "stream",
     "text": [
      "숫자를 입력하세요: 1122233334\n",
      "1-12*2*23-3-3-34\n"
     ]
    }
   ],
   "source": [
    "#책의 답\n",
    "\n",
    "data13=input(\"숫자를 입력하세요: \")\n",
    "data13=list(map(int,data13))\n",
    "\n",
    "result=[]\n",
    "\n",
    "for i, num in enumerate(data13):\n",
    "    result.append(str(num))\n",
    "    if i < len(data13)-1:                   # 다음 수가 있다면\n",
    "        is_odd = num % 2 == 1                # 현재 수가 홀수\n",
    "        is_next_odd = data13[i+1] % 2 == 1  # 다음 수가 홀수\n",
    "        if is_odd and is_next_odd:           # 연속 홀수\n",
    "            result.append(\"-\")\n",
    "        elif not is_odd and not is_next_odd: # 연속 짝수\n",
    "            result.append(\"*\")\n",
    "\n",
    "print(\"\".join(result))"
   ]
  },
  {
   "cell_type": "markdown",
   "metadata": {},
   "source": [
    "-----\n",
    "Q14. 문자열 압축하기"
   ]
  },
  {
   "cell_type": "code",
   "execution_count": 25,
   "metadata": {
    "collapsed": false
   },
   "outputs": [
    {
     "name": "stdout",
     "output_type": "stream",
     "text": [
      "a3b2c6a1\n"
     ]
    }
   ],
   "source": [
    "#문자열을 입력받아 같은 문자가 연속적으로 반복되는 경우, 그 반복 횟수를 표시해 문자열을 압축하여 표시\n",
    "#책 보고 품\n",
    "\n",
    "def compress_string(s):\n",
    "    _c = \"\"\n",
    "    cnt = 0\n",
    "    result = \"\"\n",
    "    for c in s:\n",
    "        if c!=_c:\n",
    "            _c = c\n",
    "            if cnt: result += str(cnt)\n",
    "            result += c\n",
    "            cnt = 1\n",
    "        else:\n",
    "            cnt +=1\n",
    "    if cnt: result += str(cnt)\n",
    "    return result\n",
    "\n",
    "print (compress_string(\"aaabbcccccca\"))"
   ]
  },
  {
   "cell_type": "markdown",
   "metadata": {},
   "source": [
    "-----\n",
    "Q15. Duplicate Numbers"
   ]
  },
  {
   "cell_type": "code",
   "execution_count": 33,
   "metadata": {
    "collapsed": false
   },
   "outputs": [
    {
     "name": "stdout",
     "output_type": "stream",
     "text": [
      "숫자를 입력하세요: 1234567\n"
     ]
    }
   ],
   "source": [
    "#0~9의 문자로 된 숫자를 입력받았을 때, 이 입력값이 0~9의 모든 숫자를 각각 한 번씩만 사용한 것인지 확인하는 함수를 작성\n",
    "#책 보고 함\n",
    "\n",
    "data15=input(\"숫자를 입력하세요: \")\n",
    "data15=list(map(int, data15))\n",
    "\n",
    "def num_ck(data15):\n",
    "    result=[]\n",
    "    \n",
    "    for n in data15:\n",
    "        if n not in result:\n",
    "            result.append(n)\n",
    "            \n",
    "    if len(data15) == len(result): print(True)\n",
    "    else: print(False)"
   ]
  },
  {
   "cell_type": "code",
   "execution_count": 35,
   "metadata": {
    "collapsed": false
   },
   "outputs": [
    {
     "name": "stdout",
     "output_type": "stream",
     "text": [
      "True\n"
     ]
    }
   ],
   "source": [
    "num_ck(data15)"
   ]
  },
  {
   "cell_type": "code",
   "execution_count": null,
   "metadata": {
    "collapsed": true
   },
   "outputs": [],
   "source": [
    "#책 답\n",
    "\n",
    "def chkDupNum(s):\n",
    "    result = []\n",
    "    for num in s:\n",
    "        if num not in result:\n",
    "            result.append(num)\n",
    "        else:\n",
    "            return False\n",
    "    return len(result) == 10"
   ]
  },
  {
   "cell_type": "markdown",
   "metadata": {},
   "source": [
    "-----\n",
    "Q16. 모스 부호 해독"
   ]
  },
  {
   "cell_type": "code",
   "execution_count": 36,
   "metadata": {
    "collapsed": false
   },
   "outputs": [
    {
     "name": "stdout",
     "output_type": "stream",
     "text": [
      "HE SLEEPS EARLY \n"
     ]
    }
   ],
   "source": [
    "#문자열 형식으로 입력받은 모스 부호(dot:. dash:-)를 해독하여 영어 문장으로 출력하는 프로그램을 작성\n",
    "#책 보고 함\n",
    "\n",
    "dic = {\n",
    "    '.-':'A','-...':'B','-.-.':'C','-..':'D','.':'E','..-.':'F',\n",
    "    '--.':'G','....':'H','..':'I','.---':'J','-.-':'K','.-..':'L',\n",
    "    '--':'M','-.':'N','---':'O','.--.':'P','--.-':'Q','.-.':'R',\n",
    "    '...':'S','-':'T','..-':'U','...-':'V','.--':'W','-..-':'X',\n",
    "    '-.--':'Y','--..':'Z'\n",
    "}\n",
    "\n",
    "def morse(src):\n",
    "    result = []\n",
    "    for word in src.split(\"  \"):\n",
    "        for char in word.split(\" \"):\n",
    "            result.append(dic[char])\n",
    "        result.append(\" \")\n",
    "    return \"\".join(result)\n",
    "\n",
    "\n",
    "print(morse('.... .  ... .-.. . . .--. ...  . .- .-. .-.. -.--'))"
   ]
  },
  {
   "cell_type": "markdown",
   "metadata": {},
   "source": [
    "-----\n",
    "Q17. 기초 메타 문자"
   ]
  },
  {
   "cell_type": "code",
   "execution_count": null,
   "metadata": {
    "collapsed": true
   },
   "outputs": [],
   "source": [
    "#다음 중 정규식 a[.]{3,}b 과 매치되는 문자열은?\n",
    "\n",
    "#1. acccb\n",
    "#2. a....b\n",
    "#3. aaab\n",
    "#4. a.cccb\n",
    "\n",
    "#정답은 2 -> {3,}은 앞 문자의 반복횟수가 3회 이상이어야 매치 "
   ]
  },
  {
   "cell_type": "code",
   "execution_count": 1,
   "metadata": {
    "collapsed": false
   },
   "outputs": [
    {
     "name": "stdout",
     "output_type": "stream",
     "text": [
      "None\n",
      "<_sre.SRE_Match object; span=(0, 5), match='a...b'>\n",
      "None\n",
      "None\n"
     ]
    }
   ],
   "source": [
    "#확인\n",
    "\n",
    "import re\n",
    "\n",
    "p=re.compile(\"a[.]{3,}b\")\n",
    "\n",
    "print(p.match(\"acccb\"))\n",
    "print(p.match(\"a...b\"))\n",
    "print(p.match(\"aaab\"))\n",
    "print(p.match(\"a.cccb\"))"
   ]
  },
  {
   "cell_type": "markdown",
   "metadata": {},
   "source": [
    "-----\n",
    "Q18. 문자열 검색"
   ]
  },
  {
   "cell_type": "code",
   "execution_count": 2,
   "metadata": {
    "collapsed": false
   },
   "outputs": [
    {
     "data": {
      "text/plain": [
       "10"
      ]
     },
     "execution_count": 2,
     "metadata": {},
     "output_type": "execute_result"
    }
   ],
   "source": [
    "#다음 코드의 결괏값은?\n",
    "\n",
    "import re\n",
    "p = re.compile(\"[a-z]+\")    #소문자로 이루어진 단어 정규식\n",
    "m = p.search(\"5 python\")    #문자열 python과 매치. search는 문자 전체를 매치\n",
    "m.start() + m.end()\n",
    "\n",
    "#'pn' 아닐까... -> 응 아니야"
   ]
  },
  {
   "cell_type": "code",
   "execution_count": 3,
   "metadata": {
    "collapsed": false
   },
   "outputs": [
    {
     "name": "stdout",
     "output_type": "stream",
     "text": [
      "2\n",
      "8\n"
     ]
    }
   ],
   "source": [
    "#확인\n",
    "\n",
    "print(m.start())     #매치 시작 문자열은 p -> 인덱스 2\n",
    "print(m.end())       #매치 끝 문자열은 n -> 인덱스 8"
   ]
  },
  {
   "cell_type": "markdown",
   "metadata": {},
   "source": [
    "-----\n",
    "Q19. 그루핑"
   ]
  },
  {
   "cell_type": "code",
   "execution_count": 59,
   "metadata": {
    "collapsed": false
   },
   "outputs": [
    {
     "name": "stdout",
     "output_type": "stream",
     "text": [
      "None\n"
     ]
    }
   ],
   "source": [
    "#휴대폰 번호 뒷자리인 숫자 4개를 ####로 바꾸는 프로그램을 정규식을 사용하여 작성\n",
    "\n",
    "import re\n",
    "\n",
    "data_num=\"\"\"\n",
    "park 010-9999-9988\n",
    "kim 010-9909-7789\n",
    "lee 010-8789-7768\n",
    "\"\"\"\n",
    "\n",
    "num=re.compile(r\"(\\w+)\\s+\\d+[-]\\d+[-](\\d+)\")\n",
    "num2=num.match(data_num)\n",
    "print(num2)\n",
    "\n",
    "#왜 안돼..?"
   ]
  },
  {
   "cell_type": "code",
   "execution_count": 1,
   "metadata": {
    "collapsed": false
   },
   "outputs": [
    {
     "name": "stdout",
     "output_type": "stream",
     "text": [
      "\n",
      "park 010-9999-####\n",
      "kim 010-9909-####\n",
      "lee 010-8789-####\n",
      "\n"
     ]
    }
   ],
   "source": [
    "#답\n",
    "\n",
    "import re\n",
    "\n",
    "s = \"\"\"\n",
    "park 010-9999-9988\n",
    "kim 010-9909-7789\n",
    "lee 010-8789-7768\n",
    "\"\"\"\n",
    "\n",
    "pat = re.compile(\"(\\d{3}[-]\\d{4})[-]\\d{4}\")\n",
    "result = pat.sub(\"\\g<1>-####\", s)\n",
    "\n",
    "print(result)"
   ]
  },
  {
   "cell_type": "markdown",
   "metadata": {},
   "source": [
    "-----\n",
    "Q20. 전방 탐색"
   ]
  },
  {
   "cell_type": "code",
   "execution_count": 3,
   "metadata": {
    "collapsed": false
   },
   "outputs": [
    {
     "name": "stdout",
     "output_type": "stream",
     "text": [
      "<_sre.SRE_Match object; span=(0, 16), match='python@gmail.com'>\n",
      "<_sre.SRE_Match object; span=(0, 14), match='naver@daum.net'>\n",
      "None\n"
     ]
    }
   ],
   "source": [
    "#긍정형 전방 탐색 기법을 사용하여 .com, .net이 아닌 이메일 주소는 제외시키는 정규식을 작성\n",
    "#답지보고 따라함...ㅎㅎㅎ\n",
    "\n",
    "import re\n",
    "\n",
    "email = re.compile(\".*[@].*[.](?=com$|net$).*$\")     # *$는 확장자를 의미\n",
    "\n",
    "print(email.match(\"python@gmail.com\"))\n",
    "print(email.match(\"naver@daum.net\"))\n",
    "print(email.match(\"kakao@myhome.co.kr\"))"
   ]
  },
  {
   "cell_type": "code",
   "execution_count": null,
   "metadata": {
    "collapsed": true
   },
   "outputs": [],
   "source": []
  }
 ],
 "metadata": {
  "anaconda-cloud": {},
  "kernelspec": {
   "display_name": "Python [default]",
   "language": "python",
   "name": "python3"
  },
  "language_info": {
   "codemirror_mode": {
    "name": "ipython",
    "version": 3
   },
   "file_extension": ".py",
   "mimetype": "text/x-python",
   "name": "python",
   "nbconvert_exporter": "python",
   "pygments_lexer": "ipython3",
   "version": "3.5.2"
  }
 },
 "nbformat": 4,
 "nbformat_minor": 1
}
